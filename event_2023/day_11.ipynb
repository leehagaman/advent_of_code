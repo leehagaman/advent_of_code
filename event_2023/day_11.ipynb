{
 "cells": [
  {
   "cell_type": "code",
   "execution_count": 1,
   "metadata": {},
   "outputs": [],
   "source": [
    "import numpy as np\n",
    "import math\n",
    "from tqdm.notebook import tqdm"
   ]
  },
  {
   "cell_type": "code",
   "execution_count": 2,
   "metadata": {},
   "outputs": [],
   "source": [
    "with open(\"input_day_11.txt\") as f:\n",
    "    text = f.read()\n",
    "\n",
    "\n",
    "test = False\n",
    "if test:\n",
    "    text = \"\"\"\n",
    "...#......\n",
    ".......#..\n",
    "#.........\n",
    "..........\n",
    "......#...\n",
    ".#........\n",
    ".........#\n",
    "..........\n",
    ".......#..\n",
    "#...#.....\n",
    "\"\"\"\n",
    "    text = text.strip()\n"
   ]
  },
  {
   "cell_type": "code",
   "execution_count": 3,
   "metadata": {},
   "outputs": [],
   "source": [
    "small = text.split(\"\\n\")\n",
    "\n",
    "expanded_r_indices = []\n",
    "expanded_c_indices = []\n",
    "\n",
    "rows_expanded = []\n",
    "for r_i, r in enumerate(small):\n",
    "    rows_expanded.append(r)\n",
    "    if not (\"#\" in r):\n",
    "        expanded_r_indices.append(r_i)\n",
    "        rows_expanded.append(r)\n",
    "\n",
    "rows_expanded_transpose = []\n",
    "for c in range(len(rows_expanded[0])):\n",
    "    rows_expanded_transpose.append(\"\")\n",
    "    for r in range(len(rows_expanded)):\n",
    "        rows_expanded_transpose[-1] += rows_expanded[r][c]\n",
    "\n",
    "\n",
    "expanded_transpose = []\n",
    "for r_i, r in enumerate(rows_expanded_transpose):\n",
    "    expanded_transpose.append(r)\n",
    "    if not (\"#\" in r):\n",
    "        expanded_c_indices.append(r_i)\n",
    "        expanded_transpose.append(r)\n",
    "\n",
    "expanded = []\n",
    "for c in range(len(expanded_transpose[0])):\n",
    "    expanded.append(\"\")\n",
    "    for r in range(len(expanded_transpose)):\n",
    "        expanded[-1] += expanded_transpose[r][c]"
   ]
  },
  {
   "cell_type": "code",
   "execution_count": 4,
   "metadata": {},
   "outputs": [],
   "source": [
    "positions = []\n",
    "for r in range(len(expanded)):\n",
    "    for c in range(len(expanded[0])):\n",
    "        if expanded[r][c] == \"#\":\n",
    "            positions.append((r, c))\n"
   ]
  },
  {
   "cell_type": "code",
   "execution_count": 5,
   "metadata": {},
   "outputs": [
    {
     "data": {
      "text/plain": [
       "97461"
      ]
     },
     "execution_count": 5,
     "metadata": {},
     "output_type": "execute_result"
    }
   ],
   "source": [
    "pos_pairs = []\n",
    "for i in range(len(positions)):\n",
    "    for j in range(len(positions)):\n",
    "        if i <= j:\n",
    "            continue\n",
    "        pos_pairs.append((positions[i], positions[j]))\n",
    "len(pos_pairs)"
   ]
  },
  {
   "cell_type": "code",
   "execution_count": 6,
   "metadata": {},
   "outputs": [
    {
     "name": "stdout",
     "output_type": "stream",
     "text": [
      "97461 9769724\n"
     ]
    }
   ],
   "source": [
    "distances = []\n",
    "for pair in pos_pairs:\n",
    "    dx = abs(pair[0][0] - pair[1][0])\n",
    "    dy = abs(pair[0][1] - pair[1][1])\n",
    "    distances.append(dx + dy)\n",
    "\n",
    "print(len(distances), sum(distances))"
   ]
  },
  {
   "cell_type": "code",
   "execution_count": 7,
   "metadata": {},
   "outputs": [
    {
     "name": "stdout",
     "output_type": "stream",
     "text": [
      "442\n",
      "97461\n",
      "97461 603020563700\n"
     ]
    }
   ],
   "source": [
    "# part 2\n",
    "\n",
    "positions = []\n",
    "for r in range(len(small)):\n",
    "    for c in range(len(small[0])):\n",
    "        if small[r][c] == \"#\":\n",
    "            positions.append((r, c))\n",
    "\n",
    "print(len(positions))\n",
    "\n",
    "pos_pairs = []\n",
    "for i in range(len(positions)):\n",
    "    for j in range(len(positions)):\n",
    "        if i <= j:\n",
    "            continue\n",
    "        pos_pairs.append((positions[i], positions[j]))\n",
    "print(len(pos_pairs))\n",
    "\n",
    "distances = []\n",
    "for pair in pos_pairs:\n",
    "    dx = abs(pair[0][0] - pair[1][0])\n",
    "    for r in expanded_r_indices:\n",
    "        if (pair[0][0] < r < pair[1][0]) or (pair[0][0] > r > pair[1][0]):\n",
    "            dx += 1000000 - 1\n",
    "    dy = abs(pair[0][1] - pair[1][1])\n",
    "    for c in expanded_c_indices:\n",
    "        if (pair[0][1] < c < pair[1][1]) or (pair[0][1] > c > pair[1][1]):\n",
    "            dy += 1000000 - 1\n",
    "    distances.append(dx + dy)\n",
    "\n",
    "print(len(distances), sum(distances))"
   ]
  },
  {
   "cell_type": "code",
   "execution_count": null,
   "metadata": {},
   "outputs": [],
   "source": []
  },
  {
   "cell_type": "code",
   "execution_count": null,
   "metadata": {},
   "outputs": [],
   "source": []
  },
  {
   "cell_type": "code",
   "execution_count": null,
   "metadata": {},
   "outputs": [],
   "source": []
  },
  {
   "cell_type": "code",
   "execution_count": null,
   "metadata": {},
   "outputs": [],
   "source": []
  },
  {
   "cell_type": "code",
   "execution_count": null,
   "metadata": {},
   "outputs": [],
   "source": []
  }
 ],
 "metadata": {
  "kernelspec": {
   "display_name": "Python 3",
   "language": "python",
   "name": "python3"
  },
  "language_info": {
   "codemirror_mode": {
    "name": "ipython",
    "version": 3
   },
   "file_extension": ".py",
   "mimetype": "text/x-python",
   "name": "python",
   "nbconvert_exporter": "python",
   "pygments_lexer": "ipython3",
   "version": "3.1.0"
  }
 },
 "nbformat": 4,
 "nbformat_minor": 2
}
