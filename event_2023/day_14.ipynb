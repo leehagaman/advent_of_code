{
 "cells": [
  {
   "cell_type": "code",
   "execution_count": 1,
   "metadata": {},
   "outputs": [],
   "source": [
    "import numpy as np\n",
    "import math\n",
    "from tqdm.notebook import tqdm\n",
    "from functools import cache\n",
    "import copy"
   ]
  },
  {
   "cell_type": "code",
   "execution_count": 2,
   "metadata": {},
   "outputs": [],
   "source": [
    "with open(\"input_day_14.txt\") as f:\n",
    "    text = f.read()\n",
    "\n",
    "\n",
    "test = False\n",
    "if test:\n",
    "    text = \"\"\"\n",
    "O....#....\n",
    "O.OO#....#\n",
    ".....##...\n",
    "OO.#O....O\n",
    ".O.....O#.\n",
    "O.#..O.#.#\n",
    "..O..#O..O\n",
    ".......O..\n",
    "#....###..\n",
    "#OO..#....\n",
    "\"\"\"\n",
    "    text = text.strip()\n",
    "\n"
   ]
  },
  {
   "cell_type": "code",
   "execution_count": 3,
   "metadata": {},
   "outputs": [
    {
     "data": {
      "text/plain": [
       "109939"
      ]
     },
     "execution_count": 3,
     "metadata": {},
     "output_type": "execute_result"
    }
   ],
   "source": [
    "G_strs = text.split(\"\\n\")\n",
    "R = len(G_strs)\n",
    "C = len(G_strs[0])\n",
    "\n",
    "G = []\n",
    "for r_str in G_strs:\n",
    "    G.append([])\n",
    "    for c in range(len(r_str)):\n",
    "        G[-1].append(r_str[c])\n",
    "\n",
    "original_G = copy.deepcopy(G)\n",
    "\n",
    "#for row in G:\n",
    "#    print(row)\n",
    "\n",
    "for c in range(C):\n",
    "    #print(c)\n",
    "    for r in range(R):\n",
    "        #print(\"new row\", r)\n",
    "        if G[r][c] == \"O\":\n",
    "            curr_r = r\n",
    "            while curr_r-1 >= 0 and G[curr_r][c] == \"O\" and G[curr_r-1][c] == \".\":\n",
    "                #print(\"moving...\")\n",
    "                #print(curr_r, c, \"should be set to .\")\n",
    "                G[curr_r][c] = \".\"\n",
    "                G[curr_r-1][c] = \"O\"\n",
    "                #for row in G:\n",
    "                #    print(row)\n",
    "                curr_r -= 1\n",
    "            #if curr_r != r:\n",
    "                #print(\"done moving\", r - curr_r, \"steps\")\n",
    "                #for row in G:\n",
    "                #    print(row)\n",
    "\n",
    "#print(\"\")\n",
    "#for row in G:\n",
    "#    print(row)\n",
    "\n",
    "tot = 0\n",
    "for r in range(R):\n",
    "    for c in range(C):\n",
    "        if G[r][c] == \"O\":\n",
    "            #print(\"found one, adding\", )\n",
    "            tot += R - r\n",
    "\n",
    "tot\n",
    "\n"
   ]
  },
  {
   "cell_type": "code",
   "execution_count": 4,
   "metadata": {},
   "outputs": [],
   "source": [
    "def cycle(G):\n",
    "    # north\n",
    "    for c in range(C):\n",
    "        for r in range(R):\n",
    "            if G[r][c] == \"O\":\n",
    "                curr_r = r\n",
    "                while curr_r-1 >= 0 and G[curr_r][c] == \"O\" and G[curr_r-1][c] == \".\":\n",
    "                    G[curr_r][c] = \".\"\n",
    "                    G[curr_r-1][c] = \"O\"\n",
    "                    curr_r -= 1\n",
    "\n",
    "    #for row in G: print(row)\n",
    "    #print(\"\")\n",
    "\n",
    "    # west\n",
    "    for r in range(R):\n",
    "        for c in range(C):\n",
    "            if G[r][c] == \"O\":\n",
    "                curr_c = c\n",
    "                while curr_c-1 >= 0 and G[r][curr_c] == \"O\" and G[r][curr_c-1] == \".\":\n",
    "                    G[r][curr_c] = \".\"\n",
    "                    G[r][curr_c-1] = \"O\"\n",
    "                    curr_c -= 1\n",
    "    #for row in G: print(row)\n",
    "\n",
    "    #print(1/0)\n",
    "    #print(\"\")\n",
    "    # south\n",
    "    for c in range(C):\n",
    "        for r in range(R-1, -1, -1):\n",
    "            #print(r)\n",
    "            if G[r][c] == \"O\":\n",
    "                curr_r = r\n",
    "                while curr_r+1 < R and G[curr_r][c] == \"O\" and G[curr_r+1][c] == \".\":\n",
    "                    G[curr_r][c] = \".\"\n",
    "                    G[curr_r+1][c] = \"O\"\n",
    "                    curr_r += 1\n",
    "    #for row in G: print(row)\n",
    "    #print(\"\")\n",
    "    # east\n",
    "    for r in range(R):\n",
    "        for c in range(C-1, -1, -1):\n",
    "            if G[r][c] == \"O\":\n",
    "                curr_c = c\n",
    "                while curr_c+1 < C and G[r][curr_c] == \"O\" and G[r][curr_c+1] == \".\":\n",
    "                    G[r][curr_c] = \".\"\n",
    "                    G[r][curr_c+1] = \"O\"\n",
    "                    curr_c += 1\n",
    "    #for row in G: print(row)\n",
    "    #print(\"\")\n",
    "\n",
    "    \n"
   ]
  },
  {
   "cell_type": "code",
   "execution_count": 5,
   "metadata": {},
   "outputs": [
    {
     "data": {
      "text/plain": [
       "'G = copy.deepcopy(original_G)\\n\\nfor row in G: print(row)\\nprint(\"\")\\ncycle(G)\\nfor row in G: print(row)\\nprint(\"\")\\ncycle(G)\\nfor row in G: print(row)\\nprint(\"\")\\ncycle(G)\\nfor row in G: print(row)\\nprint(\"\")\\n'"
      ]
     },
     "execution_count": 5,
     "metadata": {},
     "output_type": "execute_result"
    }
   ],
   "source": [
    "\"\"\"G = copy.deepcopy(original_G)\n",
    "\n",
    "for row in G: print(row)\n",
    "print(\"\")\n",
    "cycle(G)\n",
    "for row in G: print(row)\n",
    "print(\"\")\n",
    "cycle(G)\n",
    "for row in G: print(row)\n",
    "print(\"\")\n",
    "cycle(G)\n",
    "for row in G: print(row)\n",
    "print(\"\")\n",
    "\"\"\""
   ]
  },
  {
   "cell_type": "code",
   "execution_count": 6,
   "metadata": {},
   "outputs": [],
   "source": [
    "G = copy.deepcopy(original_G)\n",
    "\n",
    "loads = []\n",
    "\n",
    "for cycle_num in range(1000):\n",
    "    tot = 0\n",
    "    for r in range(R):\n",
    "        for c in range(C):\n",
    "            if G[r][c] == \"O\":\n",
    "                tot += R - r\n",
    "    loads.append(tot)\n",
    "    cycle(G)\n"
   ]
  },
  {
   "cell_type": "code",
   "execution_count": 10,
   "metadata": {},
   "outputs": [
    {
     "name": "stdout",
     "output_type": "stream",
     "text": [
      "44\n"
     ]
    },
    {
     "data": {
      "image/png": "[encoded data removed]",
      "text/plain": [
       "<Figure size 640x480 with 1 Axes>"
      ]
     },
     "metadata": {},
     "output_type": "display_data"
    }
   ],
   "source": [
    "import matplotlib.pyplot as plt\n",
    "\n",
    "plt.plot(loads)\n",
    "plt.xlim(200, 300)\n",
    "plt.ylim(100900, 101100)\n",
    "plt.axvline(215)\n",
    "plt.axvline(259)\n",
    "\n",
    "print(259 - 215)\n"
   ]
  },
  {
   "cell_type": "code",
   "execution_count": 11,
   "metadata": {},
   "outputs": [
    {
     "name": "stdout",
     "output_type": "stream",
     "text": [
      "101010\n"
     ]
    }
   ],
   "source": [
    "print(loads[215 + (1000000000 - 215)%44])\n"
   ]
  },
  {
   "cell_type": "code",
   "execution_count": 9,
   "metadata": {},
   "outputs": [],
   "source": [
    "# not 101044\n",
    "# not 101030"
   ]
  },
  {
   "cell_type": "code",
   "execution_count": null,
   "metadata": {},
   "outputs": [],
   "source": []
  },
  {
   "cell_type": "code",
   "execution_count": null,
   "metadata": {},
   "outputs": [],
   "source": []
  }
 ],
 "metadata": {
  "kernelspec": {
   "display_name": "Python 3",
   "language": "python",
   "name": "python3"
  },
  "language_info": {
   "codemirror_mode": {
    "name": "ipython",
    "version": 3
   },
   "file_extension": ".py",
   "mimetype": "text/x-python",
   "name": "python",
   "nbconvert_exporter": "python",
   "pygments_lexer": "ipython3",
   "version": "3.10.10"
  }
 },
 "nbformat": 4,
 "nbformat_minor": 2
}
