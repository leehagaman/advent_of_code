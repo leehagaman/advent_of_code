{
 "cells": [
  {
   "cell_type": "code",
   "execution_count": 1,
   "metadata": {},
   "outputs": [],
   "source": [
    "import numpy as np\n",
    "import math\n",
    "from tqdm.notebook import tqdm\n",
    "from functools import cache\n",
    "import copy"
   ]
  },
  {
   "cell_type": "code",
   "execution_count": 2,
   "metadata": {},
   "outputs": [],
   "source": [
    "with open(\"input_day_16.txt\") as f:\n",
    "    text = f.read()\n",
    "\n",
    "\n",
    "test = False\n",
    "if test:\n",
    "    text = r\"\"\"\n",
    ".|...\\....\n",
    "|.-.\\.....\n",
    ".....|-...\n",
    "........|.\n",
    "..........\n",
    ".........\\\n",
    "..../.\\\\..\n",
    ".-.-/..|..\n",
    ".|....-|.\\\n",
    "..//.|....\n",
    "\"\"\"\n",
    "    text = text.strip()\n",
    "\n"
   ]
  },
  {
   "cell_type": "code",
   "execution_count": 3,
   "metadata": {},
   "outputs": [],
   "source": [
    "G_strs = text.split(\"\\n\")\n",
    "R = len(G_strs)\n",
    "C = len(G_strs[0])\n",
    "\n",
    "G = []\n",
    "for r_str in G_strs:\n",
    "    G.append([])\n",
    "    for c in range(len(r_str)):\n",
    "        G[-1].append(r_str[c])\n",
    "\n",
    "starting_G = G"
   ]
  },
  {
   "cell_type": "code",
   "execution_count": 4,
   "metadata": {},
   "outputs": [],
   "source": [
    "def continue_path(curr_pos, curr_dir, G, activated_grid, considered_states):\n",
    "    if (curr_pos, curr_dir) in considered_states:\n",
    "        return\n",
    "    considered_states[(curr_pos, curr_dir)] = 1\n",
    "    #print(\"at\", curr_pos)\n",
    "    if (0 <= curr_pos[0] < R and 0 <= curr_pos[1] < C):\n",
    "        activated_grid[curr_pos[0]][curr_pos[1]] = 1\n",
    "    next_pos = (curr_pos[0] + curr_dir[0], curr_pos[1] + curr_dir[1])\n",
    "    if not (0 <= next_pos[0] < R and 0 <= next_pos[1] < C):\n",
    "        return\n",
    "    next_tile = G[next_pos[0]][next_pos[1]]\n",
    "\n",
    "    if (next_tile == \".\" # nothing there\n",
    "        or (curr_dir == (0, 1) and next_tile == \"-\") or (curr_dir == (0, -1) and next_tile == \"-\") # going through a splitter\n",
    "        or (curr_dir == (1, 0) and next_tile == \"|\") or (curr_dir == (-1, 0) and next_tile == \"|\")): # going through a splitter\n",
    "        continue_path(next_pos, curr_dir, G, activated_grid, considered_states)\n",
    "    if (curr_dir == (0, 1) and next_tile == \"\\\\\") or (curr_dir == (0, -1) and next_tile == \"/\"):\n",
    "        continue_path(next_pos, (1, 0), G, activated_grid, considered_states)\n",
    "    if (curr_dir == (0, -1) and next_tile == \"\\\\\") or (curr_dir == (0, 1) and next_tile == \"/\"):\n",
    "        continue_path(next_pos, (-1, 0), G, activated_grid, considered_states)\n",
    "    if (curr_dir == (-1, 0) and next_tile == \"\\\\\") or (curr_dir == (1, 0) and next_tile == \"/\"):\n",
    "        continue_path(next_pos, (0, -1), G, activated_grid, considered_states)\n",
    "    if (curr_dir == (1, 0) and next_tile == \"\\\\\") or (curr_dir == (-1, 0) and next_tile == \"/\"):\n",
    "        continue_path(next_pos, (0, 1), G, activated_grid, considered_states)\n",
    "\n",
    "    if (curr_dir == (0, 1) or curr_dir == (0, -1)) and next_tile == \"|\":\n",
    "        continue_path(next_pos, (-1, 0), G, activated_grid, considered_states)\n",
    "        continue_path(next_pos, (1, 0), G, activated_grid, considered_states)\n",
    "    \n",
    "    if (curr_dir == (1, 0) or curr_dir == (-1, 0)) and next_tile == \"-\":\n",
    "        continue_path(next_pos, (0, -1), G, activated_grid, considered_states)\n",
    "        continue_path(next_pos, (0, 1), G, activated_grid, considered_states)\n",
    "\n",
    "    return\n"
   ]
  },
  {
   "cell_type": "code",
   "execution_count": 5,
   "metadata": {},
   "outputs": [
    {
     "data": {
      "text/plain": [
       "7482"
      ]
     },
     "execution_count": 5,
     "metadata": {},
     "output_type": "execute_result"
    }
   ],
   "source": [
    "G = copy.deepcopy(starting_G)\n",
    "activated_grid = [[0 for c in range(C)] for r in range(R)]\n",
    "considered_states = {}\n",
    "\n",
    "continue_path((0, -1), (0, 1), G, activated_grid, considered_states)\n",
    "tot = 0\n",
    "for r in range(R):\n",
    "    for c in range(C):\n",
    "        tot += activated_grid[r][c]\n",
    "tot"
   ]
  },
  {
   "cell_type": "code",
   "execution_count": 6,
   "metadata": {},
   "outputs": [
    {
     "data": {
      "text/plain": [
       "7896"
      ]
     },
     "execution_count": 6,
     "metadata": {},
     "output_type": "execute_result"
    }
   ],
   "source": [
    "starting_pos_vals = []\n",
    "starting_dir_vals = []\n",
    "\n",
    "for c in range(C):\n",
    "    # top\n",
    "    starting_pos_vals.append((-1, c))\n",
    "    starting_dir_vals.append((1, 0))\n",
    "\n",
    "    # bottom\n",
    "    starting_pos_vals.append((R, c))\n",
    "    starting_dir_vals.append((-1, 0))\n",
    "\n",
    "for r in range(R):\n",
    "    # left\n",
    "    starting_pos_vals.append((r, -1))\n",
    "    starting_dir_vals.append((0, 1))\n",
    "\n",
    "    # right\n",
    "    starting_pos_vals.append((r, C))\n",
    "    starting_dir_vals.append((0, -1))\n",
    "\n",
    "max_activations = 0\n",
    "for i in range(len(starting_pos_vals)):\n",
    "    starting_pos = starting_pos_vals[i]\n",
    "    starting_dir = starting_dir_vals[i]\n",
    "\n",
    "    G = copy.deepcopy(starting_G)\n",
    "    activated_grid = [[0 for c in range(C)] for r in range(R)]\n",
    "    considered_states = {}\n",
    "\n",
    "\n",
    "    continue_path(starting_pos, starting_dir, G, activated_grid, considered_states)\n",
    "    tot = 0\n",
    "    for r in range(R):\n",
    "        for c in range(C):\n",
    "            tot += activated_grid[r][c]\n",
    "\n",
    "    max_activations = max(max_activations, tot)\n",
    "\n",
    "max_activations"
   ]
  },
  {
   "cell_type": "code",
   "execution_count": null,
   "metadata": {},
   "outputs": [],
   "source": []
  },
  {
   "cell_type": "code",
   "execution_count": null,
   "metadata": {},
   "outputs": [],
   "source": []
  }
 ],
 "metadata": {
  "kernelspec": {
   "display_name": "Python 3",
   "language": "python",
   "name": "python3"
  },
  "language_info": {
   "codemirror_mode": {
    "name": "ipython",
    "version": 3
   },
   "file_extension": ".py",
   "mimetype": "text/x-python",
   "name": "python",
   "nbconvert_exporter": "python",
   "pygments_lexer": "ipython3",
   "version": "3.10.10"
  }
 },
 "nbformat": 4,
 "nbformat_minor": 2
}
