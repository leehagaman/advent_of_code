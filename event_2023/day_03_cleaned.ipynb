{
 "cells": [
  {
   "cell_type": "code",
   "execution_count": 1,
   "metadata": {},
   "outputs": [],
   "source": [
    "with open(\"input_day_03.txt\") as f:\n",
    "    text = f.read()\n",
    "\n",
    "test = False\n",
    "if test:\n",
    "    text = \"\"\"467..114..\n",
    "...*......\n",
    "..35..633.\n",
    "......#...\n",
    "617*......\n",
    ".....+.58.\n",
    "..592.....\n",
    "......755.\n",
    "...$.*....\n",
    ".664.598..\"\"\"\n",
    "\n",
    "lines_ = text.split(\"\\n\")\n",
    "\n",
    "# padding with . values, so it can finish a number that ends on the right\n",
    "lines = []\n",
    "for l in lines_:\n",
    "    #print(len(l))\n",
    "    lines.append(l + \".\")\n"
   ]
  },
  {
   "cell_type": "code",
   "execution_count": 2,
   "metadata": {},
   "outputs": [
    {
     "data": {
      "text/plain": [
       "531932"
      ]
     },
     "execution_count": 2,
     "metadata": {},
     "output_type": "execute_result"
    }
   ],
   "source": [
    "tot = 0\n",
    "curr_num = \"\"\n",
    "number_active = False\n",
    "for r in range(len(lines)):\n",
    "    for c in range(len(lines[0])):\n",
    "        if lines[r][c].isdigit(): # part of a digit\n",
    "            curr_num += lines[r][c]\n",
    "            for cc in [-1, 0, 1]:\n",
    "                for rr in [-1, 0, 1]:\n",
    "                    if not (0 <= r + rr < len(lines)) or not (0 <= c + cc < len(lines[0])):\n",
    "                        continue\n",
    "                    test_char = lines[r + rr][c + cc]\n",
    "                    if not (test_char == \".\" or test_char.isdigit()): # current digit connected to a symbol\n",
    "                        number_active = True\n",
    "        else: # current digit is finished\n",
    "            if number_active:\n",
    "                tot += int(curr_num) # active number, adding to total\n",
    "            curr_num = \"\" # resetting for new number\n",
    "            number_active = False\n",
    "        \n",
    "tot"
   ]
  },
  {
   "cell_type": "code",
   "execution_count": 3,
   "metadata": {},
   "outputs": [
    {
     "data": {
      "text/plain": [
       "73646890"
      ]
     },
     "execution_count": 3,
     "metadata": {},
     "output_type": "execute_result"
    }
   ],
   "source": [
    "gear_dict = {} # key is (r,c), val = [num1, num2]\n",
    "tot = 0\n",
    "curr_num = \"\"\n",
    "connected_gears = [] # (r,c) values\n",
    "number_active = False\n",
    "for r in range(len(lines)):\n",
    "    for c in range(len(lines[0])):\n",
    "        if lines[r][c].isdigit(): # part of a digit\n",
    "            curr_num += lines[r][c]\n",
    "            for cc in [-1, 0, 1]:\n",
    "                for rr in [-1, 0, 1]:\n",
    "                    if not (0 <= r + rr < len(lines)) or not (0 <= c + cc < len(lines[0])):\n",
    "                        continue\n",
    "                    test_char = lines[r + rr][c + cc]\n",
    "                    if test_char == \"*\": \n",
    "                        if (r+rr,c+cc) not in connected_gears:\n",
    "                            connected_gears.append((r+rr,c+cc))\n",
    "        else: # current digit is finished\n",
    "            if curr_num:\n",
    "                for g in connected_gears:\n",
    "                    if g in gear_dict:\n",
    "                        gear_dict[g].append(int(curr_num))\n",
    "                    else:\n",
    "                        gear_dict[g] = [int(curr_num)]\n",
    "                connected_gears = []\n",
    "            curr_num = \"\" # resetting for new number\n",
    "            number_active = False\n",
    "tot = 0\n",
    "for k, v in gear_dict.items():\n",
    "    if len(v) == 2:\n",
    "        num = 1\n",
    "        for n in v:\n",
    "            num *= n\n",
    "        tot += num\n",
    "\n",
    "tot"
   ]
  },
  {
   "cell_type": "code",
   "execution_count": null,
   "metadata": {},
   "outputs": [],
   "source": []
  },
  {
   "cell_type": "code",
   "execution_count": null,
   "metadata": {},
   "outputs": [],
   "source": []
  }
 ],
 "metadata": {
  "kernelspec": {
   "display_name": "Python 3",
   "language": "python",
   "name": "python3"
  },
  "language_info": {
   "codemirror_mode": {
    "name": "ipython",
    "version": 3
   },
   "file_extension": ".py",
   "mimetype": "text/x-python",
   "name": "python",
   "nbconvert_exporter": "python",
   "pygments_lexer": "ipython3",
   "version": "3.10.10"
  }
 },
 "nbformat": 4,
 "nbformat_minor": 2
}
