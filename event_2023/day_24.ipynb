{
 "cells": [
  {
   "cell_type": "code",
   "execution_count": 1,
   "metadata": {},
   "outputs": [],
   "source": [
    "import numpy as np\n",
    "import math\n",
    "from tqdm.notebook import tqdm\n",
    "from functools import cache\n",
    "import copy\n",
    "\n",
    "import heapq\n",
    "\n",
    "import matplotlib.pyplot as plt\n"
   ]
  },
  {
   "cell_type": "code",
   "execution_count": 2,
   "metadata": {},
   "outputs": [],
   "source": [
    "with open(\"input_day_24.txt\") as f:\n",
    "    text = f.read()\n",
    "\n",
    "\n",
    "test = False\n",
    "if test:\n",
    "    text = r\"\"\"\n",
    "19, 13, 30 @ -2,  1, -2\n",
    "18, 19, 22 @ -1, -1, -2\n",
    "20, 25, 34 @ -2, -2, -4\n",
    "12, 31, 28 @ -1, -2, -1\n",
    "20, 19, 15 @  1, -5, -3\n",
    "\"\"\"\n",
    "\n",
    "text = text.strip()\n",
    "\n",
    "if test:\n",
    "    min_coord, max_coord = 7, 27\n",
    "else:\n",
    "    min_coord, max_coord = 200000000000000, 400000000000000\n"
   ]
  },
  {
   "cell_type": "code",
   "execution_count": 3,
   "metadata": {},
   "outputs": [],
   "source": [
    "positions = []\n",
    "velocities = []\n",
    "for line in text.split(\"\\n\"):\n",
    "    p_s, v_s = line.split(\" @ \")\n",
    "    p = [int(_) for _ in p_s.split(\",\")]\n",
    "    v = [int(_) for _ in v_s.split(\",\")]\n",
    "    positions.append(p)\n",
    "    velocities.append(v)\n",
    "\n",
    "#print(positions)\n",
    "#print(velocities)"
   ]
  },
  {
   "cell_type": "code",
   "execution_count": 4,
   "metadata": {},
   "outputs": [
    {
     "name": "stdout",
     "output_type": "stream",
     "text": [
      "part 1: 21843\n"
     ]
    }
   ],
   "source": [
    "tot = 0\n",
    "for i in range(len(positions)):\n",
    "    for j in range(len(positions)):\n",
    "        if i >= j:\n",
    "            continue\n",
    "        #print(positions[i], positions[j])\n",
    "        #print(\"    \", velocities[i], velocities[j])\n",
    "        x1, y1, z1 = positions[i]\n",
    "        vx1, vy1, vz1 = velocities[i]\n",
    "        x2, y2, z2 = positions[j]\n",
    "        vx2, vy2, vz2 = velocities[j]\n",
    "\n",
    "        # if they had to intersect at the same time:\n",
    "        # x1 + t*vx1 = x2 + t*vx2\n",
    "        # y1 + t*vy1 = y2 + t*vy2\n",
    "\n",
    "        # just looking at paths:\n",
    "        # y1 + (xf - x1) * vy1 / vx1 = y2 + (xf - x2) * vy2 / vx2\n",
    "        # x1 + (yf - y1) * vx1 / vy1 = x2 + (yf - y2) * vx2 / vy2\n",
    "\n",
    "        if not (vy1 / vx1 == vy2 / vx2):\n",
    "            \n",
    "            xf = (y2 - y1 - x2 * vy2 / vx2 + x1 * vy1 / vx1) / (vy1 / vx1 - vy2 / vx2)\n",
    "            yf = (x2 - x1 - y2 * vx2 / vy2 + y1 * vx1 / vy1) / (vx1 / vy1 - vx2 / vy2)\n",
    "\n",
    "            #print(\"    equation:\", y1 + (xf - x1) * vy1 / vx1, y2 + (xf - x2) * vy2 / vx2)\n",
    "            #print(\"    equation:\", x1 + (yf - y1) * vx1 / vy1, x2 + (yf - y2) * vx2 / vy2)\n",
    "\n",
    "            right_side_1 = (xf - x1) * vx1 >= 0\n",
    "            right_side_2 = (xf - x2) * vx2 >= 0\n",
    "            \n",
    "            #print(\"        \", xf, yf)\n",
    "            #print(\"        \", right_side_1, right_side_2)\n",
    "\n",
    "            if min_coord <= xf <= max_coord and min_coord <= yf <= max_coord and right_side_1 and right_side_2:\n",
    "                #print(\"            added\")\n",
    "                tot += 1\n",
    "print(\"part 1:\", tot)"
   ]
  },
  {
   "cell_type": "code",
   "execution_count": 5,
   "metadata": {},
   "outputs": [],
   "source": [
    "# part 2\n",
    "\n",
    "import sympy\n",
    "\n",
    "x, y, z, vx, vy, vz = sympy.symbols('x y z vx vy vz')"
   ]
  },
  {
   "cell_type": "code",
   "execution_count": 6,
   "metadata": {},
   "outputs": [],
   "source": [
    "eqs = []\n",
    "for i in range(len(positions)):\n",
    "    #for i in range(2):\n",
    "    pos = positions[i]\n",
    "    vel = velocities[i]\n",
    "\n",
    "    #print(\"\")\n",
    "    #print(pos)\n",
    "    #print(vel)\n",
    "\n",
    "    # assuming here that the solution won't have vx=0\n",
    "    t = (x - pos[0]) / (vel[0] - vx)\n",
    "\n",
    "    # x equation satisfied by the definition of t\n",
    "\n",
    "    eqs.append(sympy.Eq(y + t * vy, pos[1] + t * vel[1]))\n",
    "    eqs.append(sympy.Eq(z + t * vz, pos[2] + t * vel[2]))\n",
    "\n",
    "    #24, 13, 10 and throwing the rock at velocity -3, 1, 2\n",
    "    sol_t = (24 - pos[0]) / (vel[0] - -3)\n",
    "    #print(\"sol_t:\", sol_t)\n",
    "    #print(\"sol y eq:\", 13 + sol_t * 1, pos[1] + sol_t * vel[1])\n",
    "    #print(\"sol z eq:\", 10 + sol_t * 2, pos[2] + sol_t * vel[2])\n",
    "\n",
    "#eqs\n",
    "\n"
   ]
  },
  {
   "cell_type": "code",
   "execution_count": 9,
   "metadata": {},
   "outputs": [
    {
     "name": "stdout",
     "output_type": "stream",
     "text": [
      "[(187016878804004, 175507140888229, 177831791810924, 192, 210, 179)]\n",
      "540355811503157\n"
     ]
    }
   ],
   "source": [
    "sol = sympy.solvers.solvers.solve(eqs[:20], [x, y, z, vx, vy, vz])\n",
    "print(sol)\n",
    "print(sol[0][0] + sol[0][1] + sol[0][2])"
   ]
  },
  {
   "cell_type": "code",
   "execution_count": 7,
   "metadata": {},
   "outputs": [
    {
     "name": "stdout",
     "output_type": "stream",
     "text": [
      "[]\n"
     ]
    },
    {
     "ename": "IndexError",
     "evalue": "list index out of range",
     "output_type": "error",
     "traceback": [
      "\u001b[0;31m---------------------------------------------------------------------------\u001b[0m",
      "\u001b[0;31mIndexError\u001b[0m                                Traceback (most recent call last)",
      "Cell \u001b[0;32mIn[7], line 3\u001b[0m\n\u001b[1;32m      1\u001b[0m sol \u001b[38;5;241m=\u001b[39m sympy\u001b[38;5;241m.\u001b[39msolvers\u001b[38;5;241m.\u001b[39msolvers\u001b[38;5;241m.\u001b[39msolve(eqs, [x, y, z, vx, vy, vz])\n\u001b[1;32m      2\u001b[0m \u001b[38;5;28mprint\u001b[39m(sol)\n\u001b[0;32m----> 3\u001b[0m \u001b[38;5;28mprint\u001b[39m(\u001b[43msol\u001b[49m\u001b[43m[\u001b[49m\u001b[38;5;241;43m0\u001b[39;49m\u001b[43m]\u001b[49m[\u001b[38;5;241m0\u001b[39m] \u001b[38;5;241m+\u001b[39m sol[\u001b[38;5;241m0\u001b[39m][\u001b[38;5;241m1\u001b[39m] \u001b[38;5;241m+\u001b[39m sol[\u001b[38;5;241m0\u001b[39m][\u001b[38;5;241m2\u001b[39m])\n",
      "\u001b[0;31mIndexError\u001b[0m: list index out of range"
     ]
    }
   ],
   "source": [
    "sol = sympy.solvers.solvers.solve(eqs, [x, y, z, vx, vy, vz])\n",
    "print(sol)\n",
    "print(sol[0][0] + sol[0][1] + sol[0][2])"
   ]
  },
  {
   "cell_type": "code",
   "execution_count": null,
   "metadata": {},
   "outputs": [],
   "source": []
  },
  {
   "cell_type": "code",
   "execution_count": null,
   "metadata": {},
   "outputs": [],
   "source": []
  },
  {
   "cell_type": "code",
   "execution_count": null,
   "metadata": {},
   "outputs": [],
   "source": []
  },
  {
   "cell_type": "code",
   "execution_count": null,
   "metadata": {},
   "outputs": [],
   "source": []
  }
 ],
 "metadata": {
  "kernelspec": {
   "display_name": "Python 3",
   "language": "python",
   "name": "python3"
  },
  "language_info": {
   "codemirror_mode": {
    "name": "ipython",
    "version": 3
   },
   "file_extension": ".py",
   "mimetype": "text/x-python",
   "name": "python",
   "nbconvert_exporter": "python",
   "pygments_lexer": "ipython3",
   "version": "3.10.10"
  }
 },
 "nbformat": 4,
 "nbformat_minor": 2
}
