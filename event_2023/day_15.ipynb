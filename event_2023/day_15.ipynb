{
 "cells": [
  {
   "cell_type": "code",
   "execution_count": 1,
   "metadata": {},
   "outputs": [],
   "source": [
    "import numpy as np\n",
    "import math\n",
    "from tqdm.notebook import tqdm\n",
    "from functools import cache\n",
    "import copy"
   ]
  },
  {
   "cell_type": "code",
   "execution_count": 2,
   "metadata": {},
   "outputs": [],
   "source": [
    "with open(\"input_day_15.txt\") as f:\n",
    "    text = f.read()\n",
    "\n",
    "\n",
    "test = False\n",
    "if test:\n",
    "    text = \"\"\"\n",
    "rn=1,cm-,qp=3,cm=2,qp-,pc=4,ot=9,ab=5,pc-,pc=6,ot=7\n",
    "\"\"\"\n",
    "    text = text.strip()\n",
    "\n"
   ]
  },
  {
   "cell_type": "code",
   "execution_count": 3,
   "metadata": {},
   "outputs": [],
   "source": [
    "def hash(str):\n",
    "    val = 0\n",
    "    for c in str:\n",
    "        val += ord(c)\n",
    "        val *= 17\n",
    "        val %= 256\n",
    "    return val"
   ]
  },
  {
   "cell_type": "code",
   "execution_count": 4,
   "metadata": {},
   "outputs": [],
   "source": [
    "steps = text.split(\",\")"
   ]
  },
  {
   "cell_type": "code",
   "execution_count": 5,
   "metadata": {},
   "outputs": [
    {
     "data": {
      "text/plain": [
       "510013"
      ]
     },
     "execution_count": 5,
     "metadata": {},
     "output_type": "execute_result"
    }
   ],
   "source": [
    "sum = 0\n",
    "for step in steps:\n",
    "    sum += hash(step)\n",
    "sum"
   ]
  },
  {
   "cell_type": "code",
   "execution_count": 6,
   "metadata": {},
   "outputs": [
    {
     "data": {
      "text/plain": [
       "268497"
      ]
     },
     "execution_count": 6,
     "metadata": {},
     "output_type": "execute_result"
    }
   ],
   "source": [
    "boxes = [[] for _ in range(256)]\n",
    "for step in steps:\n",
    "    if \"=\" in step:\n",
    "        label, op = step.split(\"=\")\n",
    "        #print(label, op)\n",
    "        box_num = hash(label)\n",
    "        curr_lenses = boxes[box_num]\n",
    "        new_lenses = []\n",
    "        found_it = False\n",
    "        for cl in curr_lenses:\n",
    "            if cl[0] == label:\n",
    "                #print(\"replacing\")\n",
    "                new_lenses.append((label, op))\n",
    "                found_it = True\n",
    "            else:\n",
    "                new_lenses.append(cl)\n",
    "        if not found_it:\n",
    "            new_lenses.append((label, op))\n",
    "\n",
    "        boxes[box_num] = new_lenses\n",
    "\n",
    "    elif \"-\" in step:\n",
    "        label = step[:-1]\n",
    "        box_num = hash(label)\n",
    "        curr_lenses = boxes[box_num]\n",
    "        new_lenses = []\n",
    "        for cl in curr_lenses:\n",
    "            if cl[0] != label:\n",
    "                new_lenses.append(cl)\n",
    "        boxes[box_num] = new_lenses\n",
    "\n",
    "    #print(boxes)\n",
    "\n",
    "#print(boxes)\n",
    "\n",
    "total_focusing_power = 0\n",
    "for box_i, box in enumerate(boxes):\n",
    "    for slot_i, slot in enumerate(box):\n",
    "        focusing_power = (box_i+1) * (slot_i+1) * int(slot[1])\n",
    "        #print(focusing_power)\n",
    "        total_focusing_power += focusing_power\n",
    "total_focusing_power"
   ]
  },
  {
   "cell_type": "code",
   "execution_count": null,
   "metadata": {},
   "outputs": [],
   "source": []
  },
  {
   "cell_type": "code",
   "execution_count": null,
   "metadata": {},
   "outputs": [],
   "source": []
  }
 ],
 "metadata": {
  "kernelspec": {
   "display_name": "Python 3",
   "language": "python",
   "name": "python3"
  },
  "language_info": {
   "codemirror_mode": {
    "name": "ipython",
    "version": 3
   },
   "file_extension": ".py",
   "mimetype": "text/x-python",
   "name": "python",
   "nbconvert_exporter": "python",
   "pygments_lexer": "ipython3",
   "version": "3.10.10"
  }
 },
 "nbformat": 4,
 "nbformat_minor": 2
}
