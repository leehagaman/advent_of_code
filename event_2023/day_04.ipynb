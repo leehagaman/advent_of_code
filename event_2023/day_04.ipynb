{
 "cells": [
  {
   "cell_type": "code",
   "execution_count": 1,
   "metadata": {},
   "outputs": [],
   "source": [
    "with open(\"input_day_04.txt\") as f:\n",
    "    text = f.read()\n",
    "\n",
    "\n",
    "test = False\n",
    "if test:\n",
    "    text = \"\"\"Card 1: 41 48 83 86 17 | 83 86  6 31 17  9 48 53\n",
    "Card 2: 13 32 20 16 61 | 61 30 68 82 17 32 24 19\n",
    "Card 3:  1 21 53 59 44 | 69 82 63 72 16 21 14  1\n",
    "Card 4: 41 92 73 84 69 | 59 84 76 51 58  5 54 83\n",
    "Card 5: 87 83 26 28 32 | 88 30 70 12 93 22 82 36\n",
    "Card 6: 31 18 13 56 72 | 74 77 10 23 35 67 36 11\"\"\"\n",
    "\n",
    "\n",
    "lines = text.split(\"\\n\")\n"
   ]
  },
  {
   "cell_type": "code",
   "execution_count": 2,
   "metadata": {},
   "outputs": [
    {
     "data": {
      "text/plain": [
       "23028"
      ]
     },
     "execution_count": 2,
     "metadata": {},
     "output_type": "execute_result"
    }
   ],
   "source": [
    "tot = 0\n",
    "for line in lines:\n",
    "    winning = line.split(\"|\")[0].split(\":\")[1].strip().split()\n",
    "    mine = line.split(\"|\")[1].strip().split()\n",
    "    num_matches = 0\n",
    "    for m in mine:\n",
    "        if m in winning:\n",
    "            num_matches += 1\n",
    "            #print(m)\n",
    "    if num_matches > 0:\n",
    "        tot += 2**(num_matches-1)\n",
    "tot"
   ]
  },
  {
   "cell_type": "code",
   "execution_count": 3,
   "metadata": {},
   "outputs": [
    {
     "name": "stdout",
     "output_type": "stream",
     "text": [
      "9236992\n"
     ]
    }
   ],
   "source": [
    "counts = [1 for _ in lines]\n",
    "tot = 0\n",
    "for i, line in enumerate(lines):\n",
    "    winning = line.split(\"|\")[0].split(\":\")[1].strip().split()\n",
    "    mine = line.split(\"|\")[1].strip().split()\n",
    "    num_matches = 0\n",
    "    for m in mine:\n",
    "        if m in winning:\n",
    "            num_matches += 1\n",
    "            #print(m)\n",
    "    for k in range(num_matches):\n",
    "        counts[i+k+1] += 1 * counts[i]\n",
    "\n",
    "print(sum(counts))"
   ]
  },
  {
   "cell_type": "code",
   "execution_count": null,
   "metadata": {},
   "outputs": [],
   "source": []
  }
 ],
 "metadata": {
  "kernelspec": {
   "display_name": "Python 3",
   "language": "python",
   "name": "python3"
  },
  "language_info": {
   "codemirror_mode": {
    "name": "ipython",
    "version": 3
   },
   "file_extension": ".py",
   "mimetype": "text/x-python",
   "name": "python",
   "nbconvert_exporter": "python",
   "pygments_lexer": "ipython3",
   "version": "3.1.0"
  }
 },
 "nbformat": 4,
 "nbformat_minor": 2
}
