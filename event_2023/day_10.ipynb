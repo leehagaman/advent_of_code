{
 "cells": [
  {
   "cell_type": "code",
   "execution_count": 1,
   "metadata": {},
   "outputs": [],
   "source": [
    "import numpy as np\n",
    "import math\n",
    "from tqdm.notebook import tqdm"
   ]
  },
  {
   "cell_type": "code",
   "execution_count": 2,
   "metadata": {},
   "outputs": [],
   "source": [
    "with open(\"input_day_10.txt\") as f:\n",
    "    text = f.read()\n",
    "\n",
    "\n",
    "test = False\n",
    "if test:\n",
    "    text = \"\"\"\n",
    "FF7FSF7F7F7F7F7F---7\n",
    "L|LJ||||||||||||F--J\n",
    "FL-7LJLJ||||||LJL-77\n",
    "F--JF--7||LJLJ7F7FJ-\n",
    "L---JF-JLJ.||-FJLJJ7\n",
    "|F|F-JF---7F7-L7L|7|\n",
    "|FFJF7L7F-JF7|JL---7\n",
    "7-L-JL7||F7|L7F-7F7|\n",
    "L.L7LFJ|||||FJL7||LJ\n",
    "L7JLJL-JLJLJL--JLJ.L\"\"\"\n",
    "    text = text[1:]\n"
   ]
  },
  {
   "cell_type": "code",
   "execution_count": 3,
   "metadata": {},
   "outputs": [
    {
     "data": {
      "text/plain": [
       "(62, 111)"
      ]
     },
     "execution_count": 3,
     "metadata": {},
     "output_type": "execute_result"
    }
   ],
   "source": [
    "locs = text.split(\"\\n\")\n",
    "\n",
    "num_rows = len(locs)\n",
    "num_cols = len(locs[1])\n",
    "\n",
    "for i in range(num_rows):\n",
    "    for j in range(num_cols):\n",
    "        if locs[i][j] == \"S\":\n",
    "            start_i, start_j = i, j\n",
    "start_i, start_j"
   ]
  },
  {
   "cell_type": "code",
   "execution_count": 4,
   "metadata": {},
   "outputs": [
    {
     "name": "stdout",
     "output_type": "stream",
     "text": [
      "done\n",
      "6733\n"
     ]
    }
   ],
   "source": [
    "distances = [[999999 for i in range(num_cols)] for j in range(num_rows)]\n",
    "\n",
    "pos_history = []\n",
    "\n",
    "curr_i, curr_j = start_i, start_j\n",
    "prev_i, prev_j = start_i, start_j\n",
    "while True:\n",
    "    if (curr_i, curr_j) == (start_i, start_j) and distances[curr_i][curr_j] == 0:\n",
    "        pos_history.append((prev_i, prev_j))\n",
    "        pos_history.append((curr_i, curr_j))\n",
    "        print(\"done\")\n",
    "        break\n",
    "\n",
    "    if locs[curr_i][curr_j] == \"S\": # might have to add checks in other directions, might have to add checks for boundaries\n",
    "        distances[curr_i][curr_j] = 0\n",
    "        if locs[curr_i-1][curr_j] == \"F\" or locs[curr_i-1][curr_j] == \"7\" or locs[curr_i-1][curr_j] == \"|\": # look up from S\n",
    "            pos_history.append((prev_i, prev_j))\n",
    "            distances[curr_i-1][curr_j] = 1\n",
    "            prev_i, prev_j = curr_i, curr_j\n",
    "            curr_i, curr_j = curr_i-1, curr_j\n",
    "        elif locs[curr_i+1][curr_j] == \"L\" or locs[curr_i+1][curr_j] == \"J\" or locs[curr_i+1][curr_j] == \"|\": # look down from S\n",
    "            distances[curr_i+1][curr_j] = 1\n",
    "            prev_i, prev_j = curr_i, curr_j\n",
    "            curr_i, curr_j = curr_i+1, curr_j\n",
    "\n",
    "    #print(locs[curr_i][curr_j], curr_i, curr_j, prev_i, prev_j)\n",
    "    \n",
    "    if (locs[curr_i][curr_j] == \"F\" and prev_i == curr_i) or (locs[curr_i][curr_j] == \"7\" and prev_i == curr_i) or (locs[curr_i][curr_j] == \"|\" and prev_i == curr_i-1): # look down next\n",
    "        #print(\"looking down\")\n",
    "        distances[curr_i+1][curr_j] = min(distances[curr_i+1][curr_j], distances[curr_i][curr_j] + 1)\n",
    "        pos_history.append((prev_i, prev_j))\n",
    "        prev_i, prev_j = curr_i, curr_j\n",
    "        curr_i, curr_j = curr_i+1, curr_j\n",
    "    if (locs[curr_i][curr_j] == \"L\" and prev_i == curr_i) or (locs[curr_i][curr_j] == \"J\" and prev_i == curr_i) or (locs[curr_i][curr_j] == \"|\" and prev_i == curr_i+1): # look up next\n",
    "        #print(\"looking up\")\n",
    "        distances[curr_i-1][curr_j] = min(distances[curr_i-1][curr_j], distances[curr_i][curr_j] + 1)\n",
    "        pos_history.append((prev_i, prev_j))\n",
    "        prev_i, prev_j = curr_i, curr_j\n",
    "        curr_i, curr_j = curr_i-1, curr_j\n",
    "\n",
    "    if (locs[curr_i][curr_j] == \"F\" and prev_j == curr_j) or (locs[curr_i][curr_j] == \"L\" and prev_j == curr_j) or (locs[curr_i][curr_j] == \"-\" and prev_j == curr_j-1): # look right next\n",
    "        #print(\"looking right\")\n",
    "        distances[curr_i][curr_j+1] = min(distances[curr_i][curr_j+1], distances[curr_i][curr_j] + 1)\n",
    "        pos_history.append((prev_i, prev_j))\n",
    "        prev_i, prev_j = curr_i, curr_j\n",
    "        curr_i, curr_j = curr_i, curr_j+1\n",
    "    if (locs[curr_i][curr_j] == \"J\" and prev_j == curr_j) or (locs[curr_i][curr_j] == \"7\" and prev_j == curr_j) or (locs[curr_i][curr_j] == \"-\" and prev_j == curr_j+1): # look left next\n",
    "        #print(\"looking left\")\n",
    "        distances[curr_i][curr_j-1] = min(distances[curr_i][curr_j-1], distances[curr_i][curr_j] + 1)\n",
    "        pos_history.append((prev_i, prev_j))\n",
    "        prev_i, prev_j = curr_i, curr_j\n",
    "        curr_i, curr_j = curr_i, curr_j-1\n",
    "\n",
    "num_in_loop = sorted(np.unique(distances))[-2] + 1\n",
    "\n",
    "print(num_in_loop // 2)"
   ]
  },
  {
   "cell_type": "code",
   "execution_count": 5,
   "metadata": {},
   "outputs": [
    {
     "data": {
      "application/vnd.jupyter.widget-view+json": {
       "model_id": "bf031f6ebb3e4471b45d7850c3861227",
       "version_major": 2,
       "version_minor": 0
      },
      "text/plain": [
       "  0%|          | 0/140 [00:00<?, ?it/s]"
      ]
     },
     "metadata": {},
     "output_type": "display_data"
    },
    {
     "data": {
      "text/plain": [
       "435"
      ]
     },
     "execution_count": 5,
     "metadata": {},
     "output_type": "execute_result"
    }
   ],
   "source": [
    "num_enclosed = 0\n",
    "for i in tqdm(range(num_rows)):\n",
    "    for j in range(num_cols):\n",
    "        #if i != 4 or j != 11: continue\n",
    "        if distances[i][j] == 999999: # not on main loop\n",
    "\n",
    "            first_pos = pos_history[0]\n",
    "            prev_angle = np.arctan2(first_pos[1] - j + 0.001, first_pos[0]-i + 0.001)\n",
    "            cum_angle = 0\n",
    "            for pos in pos_history:\n",
    "                curr_angle = np.arctan2(pos[1] - j + 0.001, pos[0]-i + 0.001)\n",
    "                angle_diff = curr_angle - prev_angle\n",
    "                if angle_diff > np.pi / 2: # switched from lower left to upper left quadrant\n",
    "                    angle_diff -= 2 * np.pi\n",
    "                elif angle_diff < -np.pi / 2: # switched from lower left to upper left quadrant\n",
    "                    angle_diff += 2 * np.pi\n",
    "                cum_angle += angle_diff\n",
    "                prev_angle = curr_angle\n",
    "            #print(cum_angle)\n",
    "\n",
    "            if abs(cum_angle) > 0.1:\n",
    "                num_enclosed += 1\n",
    "\n",
    "num_enclosed\n",
    "\n",
    "\n"
   ]
  },
  {
   "cell_type": "code",
   "execution_count": null,
   "metadata": {},
   "outputs": [],
   "source": []
  },
  {
   "cell_type": "code",
   "execution_count": null,
   "metadata": {},
   "outputs": [],
   "source": []
  },
  {
   "cell_type": "code",
   "execution_count": null,
   "metadata": {},
   "outputs": [],
   "source": []
  }
 ],
 "metadata": {
  "kernelspec": {
   "display_name": "Python 3",
   "language": "python",
   "name": "python3"
  },
  "language_info": {
   "codemirror_mode": {
    "name": "ipython",
    "version": 3
   },
   "file_extension": ".py",
   "mimetype": "text/x-python",
   "name": "python",
   "nbconvert_exporter": "python",
   "pygments_lexer": "ipython3",
   "version": "3.10.10"
  }
 },
 "nbformat": 4,
 "nbformat_minor": 2
}
