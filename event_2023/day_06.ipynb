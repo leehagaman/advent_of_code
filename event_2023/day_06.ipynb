{
 "cells": [
  {
   "cell_type": "code",
   "execution_count": 1,
   "metadata": {},
   "outputs": [],
   "source": [
    "from tqdm.notebook import tqdm"
   ]
  },
  {
   "cell_type": "code",
   "execution_count": 2,
   "metadata": {},
   "outputs": [],
   "source": [
    "with open(\"input_day_06.txt\") as f:\n",
    "    text = f.read()\n",
    "\n",
    "\n",
    "test = False\n",
    "if test:\n",
    "    text = \"\"\"Time:      7  15   30\n",
    "Distance:  9  40  200\"\"\"\n"
   ]
  },
  {
   "cell_type": "code",
   "execution_count": 3,
   "metadata": {},
   "outputs": [
    {
     "name": "stdout",
     "output_type": "stream",
     "text": [
      "[40, 82, 84, 92]\n",
      "[233, 1011, 1110, 1487]\n"
     ]
    }
   ],
   "source": [
    "times = [int(x) for x in text.split(\"\\n\")[0].split(\":\")[1].split()]\n",
    "distances = [int(x) for x in text.split(\"\\n\")[1].split(\":\")[1].split()]\n",
    "\n",
    "print(times)\n",
    "print(distances)"
   ]
  },
  {
   "cell_type": "code",
   "execution_count": 4,
   "metadata": {},
   "outputs": [
    {
     "name": "stdout",
     "output_type": "stream",
     "text": [
      "[25, 51, 51, 51]\n",
      "3316275\n"
     ]
    }
   ],
   "source": [
    "tots = []\n",
    "tot_mul = 1\n",
    "\n",
    "for race_i in range(len(times)):\n",
    "    num_wins = 0\n",
    "    for button_time in range(2000):\n",
    "        starting_speed = button_time\n",
    "        traveling_time = times[race_i] - button_time\n",
    "    \n",
    "        distance = starting_speed * traveling_time\n",
    "        if distance > distances[race_i]:\n",
    "            num_wins += 1\n",
    "\n",
    "    tots.append(num_wins)\n",
    "    tot_mul *= num_wins\n",
    "\n",
    "print(tots)\n",
    "print(tot_mul) \n"
   ]
  },
  {
   "cell_type": "code",
   "execution_count": 16,
   "metadata": {},
   "outputs": [
    {
     "data": {
      "application/vnd.jupyter.widget-view+json": {
       "model_id": "237e4ab76c5249f4834ab648010c086e",
       "version_major": 2,
       "version_minor": 0
      },
      "text/plain": [
       "  0%|          | 0/40828492 [00:00<?, ?it/s]"
      ]
     },
     "metadata": {},
     "output_type": "display_data"
    },
    {
     "data": {
      "text/plain": [
       "27102791"
      ]
     },
     "execution_count": 16,
     "metadata": {},
     "output_type": "execute_result"
    }
   ],
   "source": [
    "time_0 = 40828492\n",
    "distance_0 = 233101111101487\n",
    "\n",
    "#time_0 = 71530\n",
    "#distance_0 = 940200\n",
    "\n",
    "num_wins = 0\n",
    "for button_time in tqdm(range(time_0)):\n",
    "    starting_speed = button_time\n",
    "    traveling_time = time_0 - button_time\n",
    "\n",
    "    distance = starting_speed * traveling_time\n",
    "    if distance > distance_0:\n",
    "        num_wins += 1\n",
    "\n",
    "num_wins\n"
   ]
  },
  {
   "cell_type": "code",
   "execution_count": null,
   "metadata": {},
   "outputs": [],
   "source": [
    "# 40828492 not right"
   ]
  },
  {
   "cell_type": "code",
   "execution_count": null,
   "metadata": {},
   "outputs": [],
   "source": []
  }
 ],
 "metadata": {
  "kernelspec": {
   "display_name": "Python 3",
   "language": "python",
   "name": "python3"
  },
  "language_info": {
   "codemirror_mode": {
    "name": "ipython",
    "version": 3
   },
   "file_extension": ".py",
   "mimetype": "text/x-python",
   "name": "python",
   "nbconvert_exporter": "python",
   "pygments_lexer": "ipython3",
   "version": "3.1.0"
  }
 },
 "nbformat": 4,
 "nbformat_minor": 2
}
