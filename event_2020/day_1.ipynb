{
 "cells": [
  {
   "cell_type": "code",
   "execution_count": 1,
   "id": "901024f6-b899-47b7-9a30-f7703e6c2aff",
   "metadata": {},
   "outputs": [],
   "source": [
    "import numpy as np"
   ]
  },
  {
   "cell_type": "code",
   "execution_count": 3,
   "id": "152de109-9e3c-4348-9a2d-49974114f056",
   "metadata": {},
   "outputs": [
    {
     "name": "stdout",
     "output_type": "stream",
     "text": [
      "[1150, 1579, 1361, 1319, 1201, 1253, 1806, 1783, 1164, 1772]\n"
     ]
    }
   ],
   "source": [
    "with open(\"input_day_1.txt\") as file:\n",
    "    lines = file.readlines()\n",
    "    nums = [int(x) for x in lines]\n",
    "    \n",
    "print(nums[:10])"
   ]
  },
  {
   "cell_type": "code",
   "execution_count": 4,
   "id": "5943a76b-caa0-4ef2-8326-9ff6d3ad104a",
   "metadata": {},
   "outputs": [
    {
     "name": "stdout",
     "output_type": "stream",
     "text": [
      "1014624\n",
      "1014624\n"
     ]
    }
   ],
   "source": [
    "for x in nums:\n",
    "    for y in nums:\n",
    "        if x + y == 2020:\n",
    "            print(x*y)"
   ]
  },
  {
   "cell_type": "code",
   "execution_count": 6,
   "id": "78af745f-d53e-4d23-adad-6e6729f81e19",
   "metadata": {},
   "outputs": [
    {
     "name": "stdout",
     "output_type": "stream",
     "text": [
      "80072256\n",
      "80072256\n",
      "80072256\n",
      "80072256\n",
      "80072256\n",
      "80072256\n"
     ]
    }
   ],
   "source": [
    "for x in nums:\n",
    "    for y in nums:\n",
    "        for z in nums:\n",
    "            if x + y + z == 2020:\n",
    "                print(x*y*z)"
   ]
  },
  {
   "cell_type": "code",
   "execution_count": null,
   "id": "6acc999c-6a27-44f4-a11a-7495354037c0",
   "metadata": {},
   "outputs": [],
   "source": []
  }
 ],
 "metadata": {
  "kernelspec": {
   "display_name": "base",
   "language": "python",
   "name": "base"
  },
  "language_info": {
   "codemirror_mode": {
    "name": "ipython",
    "version": 3
   },
   "file_extension": ".py",
   "mimetype": "text/x-python",
   "name": "python",
   "nbconvert_exporter": "python",
   "pygments_lexer": "ipython3",
   "version": "3.7.10"
  }
 },
 "nbformat": 4,
 "nbformat_minor": 5
}
