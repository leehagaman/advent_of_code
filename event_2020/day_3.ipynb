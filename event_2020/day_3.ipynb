{
 "cells": [
  {
   "cell_type": "code",
   "execution_count": 1,
   "id": "901024f6-b899-47b7-9a30-f7703e6c2aff",
   "metadata": {},
   "outputs": [],
   "source": [
    "import numpy as np"
   ]
  },
  {
   "cell_type": "code",
   "execution_count": 3,
   "id": "152de109-9e3c-4348-9a2d-49974114f056",
   "metadata": {},
   "outputs": [
    {
     "name": "stdout",
     "output_type": "stream",
     "text": [
      "['.....#....#...#.#..........#...', '...#.................#.........', '......#...#.#.#.....#..#.....#.', '.........#.#.............##....', '#..####..#..#.##.....#.........', '...#........#..##...........#..', '..##.#.#..#....#..#......#.#...', '.......#.##....#.....###....#.#', '.#..#...#......#..#....##.#....', '...#...............#.#.....#...']\n",
      "323\n",
      "31\n"
     ]
    }
   ],
   "source": [
    "with open(\"input_day_3.txt\") as file:\n",
    "    trees = [x.strip() for x in file.readlines()]\n",
    "\n",
    "height = len(trees)\n",
    "partial_width = len(trees[0])\n",
    "print(trees[:10])\n",
    "print(height)\n",
    "print(partial_width)"
   ]
  },
  {
   "cell_type": "code",
   "execution_count": 4,
   "id": "42015248-bfcd-4991-840f-92c715060f6f",
   "metadata": {},
   "outputs": [
    {
     "name": "stdout",
     "output_type": "stream",
     "text": [
      "299\n"
     ]
    }
   ],
   "source": [
    "trees_on_path = 0\n",
    "for j in range(height):\n",
    "    if trees[j][(3 * j) % partial_width] == \"#\":\n",
    "        trees_on_path += 1\n",
    "        \n",
    "print(trees_on_path)"
   ]
  },
  {
   "cell_type": "code",
   "execution_count": 9,
   "id": "0df6761f-7bcb-419f-ac78-8fb20c34cf21",
   "metadata": {},
   "outputs": [
    {
     "name": "stdout",
     "output_type": "stream",
     "text": [
      "1 1\n",
      "3 1\n",
      "5 1\n",
      "7 1\n",
      "1 2\n",
      "3621285278\n"
     ]
    }
   ],
   "source": [
    "total_trees_on_path = 1\n",
    "for i_inc, j_inc in [[1,1], [3,1], [5,1], [7,1], [1,2]]:\n",
    "    print(i_inc, j_inc)\n",
    "    trees_on_path = 0\n",
    "    for j in range(0, height, j_inc):\n",
    "        if trees[j][(i_inc * j // j_inc) % partial_width] == \"#\":\n",
    "            trees_on_path += 1\n",
    "\n",
    "    total_trees_on_path *= trees_on_path\n",
    "print(total_trees_on_path)"
   ]
  },
  {
   "cell_type": "code",
   "execution_count": null,
   "id": "69bbb460-70f2-4c26-bf1f-459734af4474",
   "metadata": {},
   "outputs": [],
   "source": []
  }
 ],
 "metadata": {
  "kernelspec": {
   "display_name": "base",
   "language": "python",
   "name": "base"
  },
  "language_info": {
   "codemirror_mode": {
    "name": "ipython",
    "version": 3
   },
   "file_extension": ".py",
   "mimetype": "text/x-python",
   "name": "python",
   "nbconvert_exporter": "python",
   "pygments_lexer": "ipython3",
   "version": "3.7.10"
  }
 },
 "nbformat": 4,
 "nbformat_minor": 5
}
