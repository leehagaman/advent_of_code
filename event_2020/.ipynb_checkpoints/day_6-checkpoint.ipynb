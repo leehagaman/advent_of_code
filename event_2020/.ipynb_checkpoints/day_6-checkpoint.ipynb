{
 "cells": [
  {
   "cell_type": "code",
   "execution_count": 1,
   "id": "901024f6-b899-47b7-9a30-f7703e6c2aff",
   "metadata": {},
   "outputs": [],
   "source": [
    "import numpy as np"
   ]
  },
  {
   "cell_type": "code",
   "execution_count": 2,
   "id": "152de109-9e3c-4348-9a2d-49974114f056",
   "metadata": {},
   "outputs": [
    {
     "name": "stdout",
     "output_type": "stream",
     "text": [
      "['gwlcpbtxmiezd', 'xwlcpbtzimgdk', 'tbiwmpcgzdxo', 'ygzdbpjxncfwimt']\n",
      "['rcyshqp', 'jbdnpe', 'zgp', 'pnjtz']\n"
     ]
    }
   ],
   "source": [
    "with open(\"input_day_6.txt\") as file:\n",
    "    groups_strings = file.read().split(\"\\n\\n\")\n",
    "    groups_lines = [x.split(\"\\n\") for x in groups_strings]\n",
    "    \n",
    "print(groups_lines[0])\n",
    "print(groups_lines[-1])\n"
   ]
  },
  {
   "cell_type": "code",
   "execution_count": 3,
   "id": "e247d10f-bf6f-423f-9f05-3bd15e997252",
   "metadata": {},
   "outputs": [
    {
     "name": "stdout",
     "output_type": "stream",
     "text": [
      "6683\n"
     ]
    }
   ],
   "source": [
    "num = 0\n",
    "for g in groups_strings:\n",
    "    unique = len(list(set(g.replace(\"\\n\", \"\"))))\n",
    "    num += unique\n",
    "    \n",
    "print(num)"
   ]
  },
  {
   "cell_type": "code",
   "execution_count": 4,
   "id": "29f2e834-9237-4770-a5dd-48e7b48ec27e",
   "metadata": {},
   "outputs": [
    {
     "name": "stdout",
     "output_type": "stream",
     "text": [
      "3122\n"
     ]
    }
   ],
   "source": [
    "num = 0\n",
    "for g in groups_lines:\n",
    "    num_in_group = 0\n",
    "    for char in ['a', 'b', 'c', 'd', 'e', 'f', 'g', 'h', 'i', 'j', 'k', 'l', 'm', 'n', 'o', 'p', 'q', 'r', 's', 't', 'u', 'v', 'w', 'x', 'y', 'z']:\n",
    "        char_in = True\n",
    "        for l in g:\n",
    "            if char not in l:\n",
    "                char_in = False\n",
    "        if char_in:\n",
    "            num_in_group += 1\n",
    "    num += num_in_group\n",
    "    \n",
    "print(num)"
   ]
  },
  {
   "cell_type": "code",
   "execution_count": null,
   "id": "fb36818c-bf0a-40e9-9fca-136cef3960ba",
   "metadata": {},
   "outputs": [],
   "source": []
  }
 ],
 "metadata": {
  "kernelspec": {
   "display_name": "base",
   "language": "python",
   "name": "base"
  },
  "language_info": {
   "codemirror_mode": {
    "name": "ipython",
    "version": 3
   },
   "file_extension": ".py",
   "mimetype": "text/x-python",
   "name": "python",
   "nbconvert_exporter": "python",
   "pygments_lexer": "ipython3",
   "version": "3.7.10"
  }
 },
 "nbformat": 4,
 "nbformat_minor": 5
}
