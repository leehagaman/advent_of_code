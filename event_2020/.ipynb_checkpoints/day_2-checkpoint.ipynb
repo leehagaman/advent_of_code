{
 "cells": [
  {
   "cell_type": "code",
   "execution_count": 1,
   "id": "901024f6-b899-47b7-9a30-f7703e6c2aff",
   "metadata": {},
   "outputs": [],
   "source": [
    "import numpy as np"
   ]
  },
  {
   "cell_type": "code",
   "execution_count": 7,
   "id": "152de109-9e3c-4348-9a2d-49974114f056",
   "metadata": {},
   "outputs": [
    {
     "name": "stdout",
     "output_type": "stream",
     "text": [
      "[4, 7, 4, 1, 7, 5, 7, 3, 3, 7]\n",
      "[5, 8, 6, 2, 10, 13, 8, 4, 5, 10]\n",
      "['t', 'k', 'k', 't', 'z', 'g', 't', 'd', 'n', 'q']\n",
      "['ftttttrvts', 'kkkkkkkf', 'gqjkkk', 'rttb', 'gzjtmtcrzv', 'cgbmglsdwwlhqk', 'ttttttttt', 'xnbx', 'nznnnnf', 'kqhcqqqqqqqqn']\n"
     ]
    }
   ],
   "source": [
    "with open(\"input_day_2.txt\") as file:\n",
    "    lines = file.readlines()\n",
    "    split_lines = [l.split() for l in lines]\n",
    "    \n",
    "    mins = [int(s[0].split(\"-\")[0]) for s in split_lines]\n",
    "    maxs = [int(s[0].split(\"-\")[1]) for s in split_lines]\n",
    "    \n",
    "    letters = [s[1][0] for s in split_lines]\n",
    "    \n",
    "    passwords = [s[2] for s in split_lines]\n",
    "            \n",
    "#print(split_lines[:10])\n",
    "print(mins[:10])\n",
    "print(maxs[:10])\n",
    "print(letters[:10])\n",
    "print(passwords[:10])"
   ]
  },
  {
   "cell_type": "code",
   "execution_count": 8,
   "id": "669b41c8-6a16-4730-91de-40ffa6a034db",
   "metadata": {},
   "outputs": [
    {
     "name": "stdout",
     "output_type": "stream",
     "text": [
      "560\n"
     ]
    }
   ],
   "source": [
    "good = 0\n",
    "for i in range(len(mins)):\n",
    "    if mins[i] <= passwords[i].count(letters[i]) <= maxs[i]:\n",
    "        good += 1\n",
    "print(good)"
   ]
  },
  {
   "cell_type": "code",
   "execution_count": 10,
   "id": "75710bbc-54c4-4fdc-a0c0-32fa416785ea",
   "metadata": {},
   "outputs": [
    {
     "name": "stdout",
     "output_type": "stream",
     "text": [
      "303\n"
     ]
    }
   ],
   "source": [
    "good = 0\n",
    "for i in range(len(mins)):\n",
    "    #if maxs[i] > len(passwords[i])\n",
    "    \n",
    "    if passwords[i][mins[i] - 1] == letters[i] and not passwords[i][maxs[i] - 1] == letters[i]:\n",
    "        good += 1\n",
    "    if not passwords[i][mins[i] - 1] == letters[i] and passwords[i][maxs[i] - 1] == letters[i]:\n",
    "        good += 1\n",
    "print(good)"
   ]
  },
  {
   "cell_type": "code",
   "execution_count": null,
   "id": "0df6761f-7bcb-419f-ac78-8fb20c34cf21",
   "metadata": {},
   "outputs": [],
   "source": []
  }
 ],
 "metadata": {
  "kernelspec": {
   "display_name": "base",
   "language": "python",
   "name": "base"
  },
  "language_info": {
   "codemirror_mode": {
    "name": "ipython",
    "version": 3
   },
   "file_extension": ".py",
   "mimetype": "text/x-python",
   "name": "python",
   "nbconvert_exporter": "python",
   "pygments_lexer": "ipython3",
   "version": "3.7.10"
  }
 },
 "nbformat": 4,
 "nbformat_minor": 5
}
