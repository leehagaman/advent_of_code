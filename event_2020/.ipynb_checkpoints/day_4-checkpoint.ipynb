{
 "cells": [
  {
   "cell_type": "code",
   "execution_count": 1,
   "id": "901024f6-b899-47b7-9a30-f7703e6c2aff",
   "metadata": {},
   "outputs": [],
   "source": [
    "import numpy as np"
   ]
  },
  {
   "cell_type": "code",
   "execution_count": 2,
   "id": "152de109-9e3c-4348-9a2d-49974114f056",
   "metadata": {},
   "outputs": [
    {
     "name": "stdout",
     "output_type": "stream",
     "text": [
      "['eyr:2028 iyr:2016 byr:1995 ecl:oth\\npid:543685203 hcl:#c0946f\\nhgt:152cm\\ncid:252']\n",
      "[['eyr:2028', 'iyr:2016', 'byr:1995', 'ecl:oth', 'pid:543685203', 'hcl:#c0946f', 'hgt:152cm', 'cid:252']]\n",
      "{'eyr': '2028', 'iyr': '2016', 'byr': '1995', 'ecl': 'oth', 'pid': '543685203', 'hcl': '#c0946f', 'hgt': '152cm', 'cid': '252'}\n"
     ]
    }
   ],
   "source": [
    "with open(\"input_day_4.txt\") as file:\n",
    "    passports_strings = file.read().split(\"\\n\\n\")\n",
    "    passports_split_strings = [x.split() for x in passports_strings]\n",
    "    passports_dics = [dict([y.split(\":\") for y in x]) for x in passports_split_strings]\n",
    "\n",
    "print(passports_strings[:1])\n",
    "print(passports_split_strings[:1])\n",
    "print(passports_dics[0])\n",
    "\n",
    "required = [\n",
    "    \"byr\", \n",
    "    \"iyr\",\n",
    "    \"eyr\",\n",
    "    \"hgt\",\n",
    "    \"hcl\",\n",
    "    \"ecl\",\n",
    "    \"pid\",\n",
    "    #\"cid\",\n",
    "]"
   ]
  },
  {
   "cell_type": "code",
   "execution_count": 3,
   "id": "0ea77858-4383-4322-96ca-596e5cfe3a72",
   "metadata": {},
   "outputs": [
    {
     "name": "stdout",
     "output_type": "stream",
     "text": [
      "256\n"
     ]
    }
   ],
   "source": [
    "num_valid = 0\n",
    "\n",
    "for d in passports_dics:\n",
    "    valid = True\n",
    "    for r in required:\n",
    "        if r not in d.keys():\n",
    "            valid = False\n",
    "    num_valid += valid\n",
    "print(num_valid)\n",
    "   "
   ]
  },
  {
   "cell_type": "code",
   "execution_count": 4,
   "id": "69bbb460-70f2-4c26-bf1f-459734af4474",
   "metadata": {},
   "outputs": [
    {
     "name": "stdout",
     "output_type": "stream",
     "text": [
      "here\n",
      "here\n",
      "here\n",
      "here\n",
      "here\n",
      "here\n",
      "here\n",
      "here\n",
      "here\n",
      "here\n",
      "here\n",
      "here\n",
      "here\n",
      "here\n",
      "here\n",
      "here\n",
      "here\n",
      "here\n",
      "here\n",
      "here\n",
      "here\n",
      "here\n",
      "here\n",
      "here\n",
      "here\n",
      "here\n",
      "here\n",
      "here\n",
      "here\n",
      "198\n"
     ]
    }
   ],
   "source": [
    "num_valid = 0\n",
    "\n",
    "for d in passports_dics:\n",
    "    valid = True\n",
    "    for r in required:\n",
    "        if r not in d.keys():\n",
    "            valid = False\n",
    "            \n",
    "    if not valid:\n",
    "        continue\n",
    "        \n",
    "    if not (1920 <= int(d[\"byr\"]) <= 2002):\n",
    "        valid = False\n",
    "            \n",
    "    if not (2010 <= int(d[\"iyr\"]) <= 2020):\n",
    "        valid = False\n",
    "    \n",
    "    \n",
    "    if not (2020 <= int(d[\"eyr\"]) <= 2030):\n",
    "        valid = False\n",
    "    \n",
    "    if \"cm\" in d[\"hgt\"]:\n",
    "        if not(150 <= int(d[\"hgt\"][:-2]) <= 193): # possible this could error\n",
    "            valid = False\n",
    "    elif \"in\" in d[\"hgt\"]:\n",
    "        if not(59 <= int(d[\"hgt\"][:-2]) <= 76): # possible this could error\n",
    "            valid = False\n",
    "    else:\n",
    "        valid = False\n",
    "                    \n",
    "    if not (d[\"hcl\"][0] == \"#\" and len(d[\"hcl\"][1:]) == 6):\n",
    "        valid = False\n",
    "    for bad_letter in ['g', 'h', 'i', 'j', 'k', 'l', 'm', 'n', 'o', 'p', 'q', 'r', 's', 't', 'u', 'v', 'w', 'x', 'y', 'z']:\n",
    "        if bad_letter in d[\"hcl\"][1:]:\n",
    "            valid = False\n",
    "        \n",
    "    \n",
    "    if not (d[\"ecl\"] in [\"amb\", \"blu\", \"brn\", \"gry\", \"grn\", \"hzl\", \"oth\"]):\n",
    "        valid = False\n",
    "            \n",
    "    if not (len(d[\"pid\"]) == 9):\n",
    "        valid = False\n",
    "    for c in d[\"pid\"]:\n",
    "        if not c.isdigit():\n",
    "            valid = False\n",
    "    \n",
    "    if valid:\n",
    "        num_valid += 1\n",
    "print(num_valid)\n",
    "        \n",
    "    \n",
    "    \n"
   ]
  },
  {
   "cell_type": "code",
   "execution_count": null,
   "id": "d7c58fba-63ac-4e8b-99a6-16f69f2801f2",
   "metadata": {},
   "outputs": [],
   "source": []
  }
 ],
 "metadata": {
  "kernelspec": {
   "display_name": "base",
   "language": "python",
   "name": "base"
  },
  "language_info": {
   "codemirror_mode": {
    "name": "ipython",
    "version": 3
   },
   "file_extension": ".py",
   "mimetype": "text/x-python",
   "name": "python",
   "nbconvert_exporter": "python",
   "pygments_lexer": "ipython3",
   "version": "3.7.10"
  }
 },
 "nbformat": 4,
 "nbformat_minor": 5
}
