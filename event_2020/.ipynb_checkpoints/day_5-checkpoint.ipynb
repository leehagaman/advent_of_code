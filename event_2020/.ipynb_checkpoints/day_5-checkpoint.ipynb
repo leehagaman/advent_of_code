{
 "cells": [
  {
   "cell_type": "code",
   "execution_count": 1,
   "id": "901024f6-b899-47b7-9a30-f7703e6c2aff",
   "metadata": {},
   "outputs": [],
   "source": [
    "import numpy as np"
   ]
  },
  {
   "cell_type": "code",
   "execution_count": 2,
   "id": "152de109-9e3c-4348-9a2d-49974114f056",
   "metadata": {},
   "outputs": [
    {
     "name": "stdout",
     "output_type": "stream",
     "text": [
      "['FBBBFFFLRL', 'BFFBBBBLRL', 'FBFFFBBRRR', 'FBFBBFFLRL', 'FFFBFBBRLR', 'FBFBBBFRLL', 'BFBFFBFRLR', 'BFBFFFBRRL', 'BFBBFFBRLR', 'FBBFBBBRLL']\n"
     ]
    }
   ],
   "source": [
    "with open(\"input_day_5.txt\") as file:\n",
    "    seat_strings = [x.strip() for x in file.readlines()]\n",
    "    \n",
    "print(seat_strings[:10])\n"
   ]
  },
  {
   "cell_type": "code",
   "execution_count": 3,
   "id": "d7c58fba-63ac-4e8b-99a6-16f69f2801f2",
   "metadata": {},
   "outputs": [
    {
     "name": "stdout",
     "output_type": "stream",
     "text": [
      "888\n"
     ]
    }
   ],
   "source": [
    "max_id = 0\n",
    "\n",
    "for s in seat_strings:\n",
    "    row_num = int(s[:7].replace(\"F\", \"0\").replace(\"B\", \"1\"), base=2)\n",
    "    col_num = int(s[-3:].replace(\"L\", \"0\").replace(\"R\", \"1\"), base=2)\n",
    "    \n",
    "    s_id = row_num * 8 + col_num\n",
    "    \n",
    "    max_id = max(max_id, s_id)\n",
    "    \n",
    "print(max_id)"
   ]
  },
  {
   "cell_type": "code",
   "execution_count": null,
   "id": "f16006a1-5378-4bfd-aaa6-c4b49df5933d",
   "metadata": {},
   "outputs": [],
   "source": [
    "ids = []\n",
    "\n",
    "for s in seat_strings:\n",
    "    row_num = int(s[:7].replace(\"F\", \"0\").replace(\"B\", \"1\"), base=2)\n",
    "    col_num = int(s[-3:].replace(\"L\", \"0\").replace(\"R\", \"1\"), base=2)\n",
    "    \n",
    "    ids.append(row_num * 8 + col_num)\n",
    "\n",
    "ids.sort()\n",
    "    \n",
    "for i in range(1, len(ids) - 1):\n",
    "    if ids[i] - ids[i-1] != 1:\n",
    "        print(ids[i])"
   ]
  }
 ],
 "metadata": {
  "kernelspec": {
   "display_name": "base",
   "language": "python",
   "name": "base"
  },
  "language_info": {
   "codemirror_mode": {
    "name": "ipython",
    "version": 3
   },
   "file_extension": ".py",
   "mimetype": "text/x-python",
   "name": "python",
   "nbconvert_exporter": "python",
   "pygments_lexer": "ipython3",
   "version": "3.7.10"
  }
 },
 "nbformat": 4,
 "nbformat_minor": 5
}
