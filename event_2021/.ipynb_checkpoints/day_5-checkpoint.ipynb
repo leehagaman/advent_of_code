{
 "cells": [
  {
   "cell_type": "code",
   "execution_count": 1,
   "id": "f27d830b-3f86-4451-9bc3-1c962053f8e2",
   "metadata": {},
   "outputs": [],
   "source": [
    "import numpy as np"
   ]
  },
  {
   "cell_type": "code",
   "execution_count": 2,
   "id": "d21ab73b-9ebf-452e-913d-e7a4f5cd51d6",
   "metadata": {},
   "outputs": [
    {
     "name": "stdout",
     "output_type": "stream",
     "text": [
      "[5, 6, 7, 8, 9, 10, 11, 12, 13, 14, 15, 16, 17, 18, 19]\n"
     ]
    }
   ],
   "source": [
    "print([x for x in range(5, 20)])"
   ]
  },
  {
   "cell_type": "code",
   "execution_count": 3,
   "id": "986cb34b-c0e2-44bf-93b1-d6b49ebd25fe",
   "metadata": {},
   "outputs": [
    {
     "name": "stdout",
     "output_type": "stream",
     "text": [
      "['0,9 -> 5,9\\n', '8,0 -> 0,8\\n', '9,4 -> 3,4\\n', '2,2 -> 2,1\\n', '7,0 -> 7,4\\n']\n",
      "[[[0, 9], [5, 9]], [[8, 0], [0, 8]], [[9, 4], [3, 4]], [[2, 2], [2, 1]], [[7, 0], [7, 4]]]\n"
     ]
    }
   ],
   "source": [
    "with open(\"input_day_5.txt\") as file:\n",
    "    #with open(\"input_day_5_small.txt\") as file:\n",
    "\n",
    "    lines_f = file.readlines()\n",
    "    lines_text = [text.rstrip() for text in lines_f]\n",
    "    lines_split_text = [line_text.split() for line_text in lines_text]\n",
    "    lines_fully_split_text = [[line_split_text[0].split(\",\"), line_split_text[2].split(\",\")] for line_split_text in lines_split_text]\n",
    "    lines = [[[int(line_fully_split_text[0][0]), int(line_fully_split_text[0][1])], \n",
    "              [int(line_fully_split_text[1][0]), int(line_fully_split_text[1][1])]] for line_fully_split_text in lines_fully_split_text]\n",
    "\n",
    "\n",
    "print(lines_f[:5])\n",
    "print(lines[:5])"
   ]
  },
  {
   "cell_type": "code",
   "execution_count": 4,
   "id": "7ca17a81-3d78-4bc7-acfe-bca85bb75d4f",
   "metadata": {},
   "outputs": [
    {
     "name": "stdout",
     "output_type": "stream",
     "text": [
      "10\n"
     ]
    }
   ],
   "source": [
    "max_dim = 0\n",
    "\n",
    "for line in lines:\n",
    "    for num in range(2):\n",
    "        for coord in range(2):\n",
    "            max_dim = max(max_dim, line[num][coord])\n",
    "     \n",
    "    \n",
    "max_dim += 1\n",
    "print(max_dim)"
   ]
  },
  {
   "cell_type": "code",
   "execution_count": 5,
   "id": "614bcf05-7140-4615-91b0-6c59a2750a68",
   "metadata": {},
   "outputs": [
    {
     "name": "stdout",
     "output_type": "stream",
     "text": [
      "[0, 0, 0, 0, 0, 0, 0, 1, 0, 0]\n",
      "[0, 0, 1, 0, 0, 0, 0, 1, 0, 0]\n",
      "[0, 0, 1, 0, 0, 0, 0, 1, 0, 0]\n",
      "[0, 0, 0, 0, 0, 0, 0, 1, 0, 0]\n",
      "[0, 1, 1, 2, 1, 1, 1, 2, 1, 1]\n",
      "[0, 0, 0, 0, 0, 0, 0, 0, 0, 0]\n",
      "[0, 0, 0, 0, 0, 0, 0, 0, 0, 0]\n",
      "[0, 0, 0, 0, 0, 0, 0, 0, 0, 0]\n",
      "[0, 0, 0, 0, 0, 0, 0, 0, 0, 0]\n",
      "[2, 2, 2, 1, 1, 1, 0, 0, 0, 0]\n",
      "2\n"
     ]
    }
   ],
   "source": [
    "arr_space = []\n",
    "for i in range(max_dim):\n",
    "    arr_space.append([])\n",
    "    for j in range(max_dim):\n",
    "        arr_space[-1].append(0)\n",
    "\n",
    "for l in range(len(lines)):\n",
    "    if lines[l][0][0] == lines[l][1][0]: # straight vertical line\n",
    "        i = lines[l][0][0] # horizontal position\n",
    "        min_j = min(lines[l][0][1], lines[l][1][1])\n",
    "        max_j = max(lines[l][0][1], lines[l][1][1])\n",
    "        for j in range(min_j, max_j + 1): # +1 to be inclusive\n",
    "            arr_space[j][i] += 1\n",
    "    elif lines[l][0][1] == lines[l][1][1]: # straight horizontal line\n",
    "        j = lines[l][0][1] # vertical position\n",
    "        min_i = min(lines[l][0][0], lines[l][1][0])\n",
    "        max_i = max(lines[l][0][0], lines[l][1][0])\n",
    "        for i in range(min_i, max_i + 1): # +1 to be inclusive\n",
    "            arr_space[j][i] += 1\n",
    "\n",
    "num_greater_one = 0\n",
    "for i in range(max_dim):\n",
    "    for j in range(max_dim):\n",
    "        if arr_space[i][j] >= 2:\n",
    "            num_greater_one += 1\n",
    "\n",
    "#for row in arr_space:\n",
    "#    print(row)\n",
    "        \n",
    "print(num_greater_one)"
   ]
  },
  {
   "cell_type": "code",
   "execution_count": null,
   "id": "ceb2ce77-5ff2-4bc6-bad5-30a1e9856390",
   "metadata": {},
   "outputs": [],
   "source": []
  },
  {
   "cell_type": "code",
   "execution_count": null,
   "id": "d02afbe7-72f1-4071-a85f-14c2f69761ed",
   "metadata": {},
   "outputs": [],
   "source": []
  }
 ],
 "metadata": {
  "kernelspec": {
   "display_name": "base",
   "language": "python",
   "name": "base"
  },
  "language_info": {
   "codemirror_mode": {
    "name": "ipython",
    "version": 3
   },
   "file_extension": ".py",
   "mimetype": "text/x-python",
   "name": "python",
   "nbconvert_exporter": "python",
   "pygments_lexer": "ipython3",
   "version": "3.7.10"
  }
 },
 "nbformat": 4,
 "nbformat_minor": 5
}
