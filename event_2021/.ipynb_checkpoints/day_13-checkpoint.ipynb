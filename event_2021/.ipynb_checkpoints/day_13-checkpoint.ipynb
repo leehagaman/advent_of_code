{
 "cells": [
  {
   "cell_type": "code",
   "execution_count": 1,
   "id": "f27d830b-3f86-4451-9bc3-1c962053f8e2",
   "metadata": {},
   "outputs": [],
   "source": [
    "import numpy as np\n",
    "import copy"
   ]
  },
  {
   "cell_type": "code",
   "execution_count": 2,
   "id": "986cb34b-c0e2-44bf-93b1-d6b49ebd25fe",
   "metadata": {},
   "outputs": [
    {
     "name": "stdout",
     "output_type": "stream",
     "text": [
      "[[309, 320], [32, 761], [258, 108], [70, 486], [499, 474], [1038, 537], [1054, 80], [1247, 114], [192, 572], [1262, 628]]\n",
      "[[976, 798], [544, 394], [70, 372], [256, 149], [499, 842], [575, 649], [497, 823], [519, 693], [954, 841], [960, 278]]\n",
      "['fold along x=655', 'fold along y=447', 'fold along x=327', 'fold along y=223', 'fold along x=163', 'fold along y=111', 'fold along x=81', 'fold along y=55', 'fold along x=40', 'fold along y=27', 'fold along y=13', 'fold along y=6']\n",
      "['x', 'y', 'x', 'y', 'x', 'y', 'x', 'y', 'x', 'y', 'y', 'y']\n",
      "[655, 447, 327, 223, 163, 111, 81, 55, 40, 27, 13, 6]\n"
     ]
    }
   ],
   "source": [
    "with open(\"input_day_13.txt\") as file:\n",
    "    \n",
    "    text = file.read().split(\"\\n\\n\")\n",
    "    \n",
    "    point_text = [x.strip() for x in text[0].split(\"\\n\")]\n",
    "    \n",
    "    points = [[int(x.split(\",\")[0]), int(x.split(\",\")[1])] for x in point_text]\n",
    "    \n",
    "    fold_text = [x.strip() for x in text[1].split(\"\\n\")][:-1]\n",
    "    \n",
    "    fold_dir = [x[11] for x in fold_text]\n",
    "    fold_num = [int(x[13:]) for x in fold_text]\n",
    "    \n",
    "print(points[:10])\n",
    "\n",
    "print(points[-10:])\n",
    "\n",
    "print(fold_text)\n",
    "print(fold_dir)\n",
    "print(fold_num)"
   ]
  },
  {
   "cell_type": "code",
   "execution_count": 3,
   "id": "d4853d5a-2a00-45ed-94e3-004b27201a78",
   "metadata": {},
   "outputs": [
    {
     "name": "stdout",
     "output_type": "stream",
     "text": [
      "before:  802\n",
      "first:  710\n",
      "finished:  528\n"
     ]
    }
   ],
   "source": [
    "curr_points = points[:]\n",
    "\n",
    "print(\"before: \", len(curr_points))\n",
    "\n",
    "\n",
    "for i in range(len(fold_dir)):\n",
    "    \n",
    "    #print(i)\n",
    "    #print(np.max(points))\n",
    "\n",
    "    d = fold_dir[i]\n",
    "    n = fold_num[i]\n",
    "    \n",
    "    if d == \"y\":\n",
    "        for p in curr_points[:]:\n",
    "            if p[1] > n:\n",
    "                if [p[0], n - (p[1] - n)] not in curr_points:\n",
    "                    curr_points.append([p[0], n - (p[1] - n)])\n",
    "                curr_points.remove(p)\n",
    "                \n",
    "    if d == \"x\":\n",
    "        for p in curr_points[:]:\n",
    "            if p[0] > n:\n",
    "                if [n - (p[0] - n), p[1]] not in curr_points:\n",
    "                    curr_points.append([n - (p[0] - n), p[1]])\n",
    "                curr_points.remove(p)\n",
    "                \n",
    "    if i == 0:\n",
    "        print(\"first: \", len(curr_points))\n",
    "\n",
    "print(\"finished: \", len(curr_points))\n",
    "            "
   ]
  },
  {
   "cell_type": "code",
   "execution_count": null,
   "id": "35b717d9-f88e-49ed-a666-6649df488587",
   "metadata": {},
   "outputs": [],
   "source": []
  },
  {
   "cell_type": "code",
   "execution_count": null,
   "id": "e5eb1152-2c39-4abe-999e-7137f16490b8",
   "metadata": {},
   "outputs": [],
   "source": []
  }
 ],
 "metadata": {
  "kernelspec": {
   "display_name": "base",
   "language": "python",
   "name": "base"
  },
  "language_info": {
   "codemirror_mode": {
    "name": "ipython",
    "version": 3
   },
   "file_extension": ".py",
   "mimetype": "text/x-python",
   "name": "python",
   "nbconvert_exporter": "python",
   "pygments_lexer": "ipython3",
   "version": "3.7.10"
  }
 },
 "nbformat": 4,
 "nbformat_minor": 5
}
