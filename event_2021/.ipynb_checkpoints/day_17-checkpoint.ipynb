{
 "cells": [
  {
   "cell_type": "code",
   "execution_count": 1,
   "id": "f27d830b-3f86-4451-9bc3-1c962053f8e2",
   "metadata": {},
   "outputs": [],
   "source": [
    "import numpy as np\n",
    "import copy\n",
    "import tqdm as tqdm"
   ]
  },
  {
   "cell_type": "code",
   "execution_count": 2,
   "id": "986cb34b-c0e2-44bf-93b1-d6b49ebd25fe",
   "metadata": {},
   "outputs": [],
   "source": [
    "# target area: x=269..292, y=-68..-44\n",
    "\n",
    "x_min = 269\n",
    "x_max = 292\n",
    "y_min = -68\n",
    "y_max = -44\n"
   ]
  },
  {
   "cell_type": "code",
   "execution_count": 12,
   "id": "c6bd41de-fe03-4515-9f23-2871bee56aee",
   "metadata": {},
   "outputs": [
    {
     "name": "stderr",
     "output_type": "stream",
     "text": [
      " 63%|██████▎   | 189/300 [00:00<00:00, 492.42it/s]"
     ]
    },
    {
     "name": "stdout",
     "output_type": "stream",
     "text": [
      "possible max 28 23 7\n",
      "possible max 36 23 8\n",
      "possible max 45 23 9\n",
      "possible max 55 23 10\n",
      "possible max 66 23 11\n",
      "possible max 78 23 12\n",
      "possible max 91 23 13\n",
      "possible max 105 23 14\n",
      "possible max 120 23 15\n",
      "possible max 136 23 16\n",
      "possible max 153 23 17\n",
      "possible max 171 23 18\n",
      "possible max 190 23 19\n",
      "possible max 210 23 20\n",
      "possible max 231 23 21\n",
      "possible max 253 23 22\n",
      "possible max 276 23 23\n",
      "possible max 300 23 24\n",
      "possible max 325 23 25\n",
      "possible max 351 23 26\n",
      "possible max 378 23 27\n",
      "possible max 406 23 28\n",
      "possible max 435 23 29\n",
      "possible max 465 23 30\n",
      "possible max 496 23 31\n",
      "possible max 528 23 32\n",
      "possible max 946 23 43\n",
      "possible max 990 23 44\n",
      "possible max 1035 23 45\n",
      "possible max 1081 23 46\n",
      "possible max 1128 23 47\n",
      "possible max 1176 23 48\n",
      "possible max 1225 23 49\n",
      "possible max 1275 23 50\n",
      "possible max 1326 23 51\n",
      "possible max 1378 23 52\n",
      "possible max 1431 23 53\n",
      "possible max 1485 23 54\n",
      "possible max 1540 23 55\n",
      "possible max 1596 23 56\n",
      "possible max 1653 23 57\n",
      "possible max 1711 23 58\n",
      "possible max 1770 23 59\n",
      "possible max 1830 23 60\n",
      "possible max 1891 23 61\n",
      "possible max 1953 23 62\n",
      "possible max 2016 23 63\n",
      "possible max 2080 23 64\n",
      "possible max 2145 23 65\n",
      "possible max 2211 23 66\n",
      "possible max 2278 23 67\n",
      "possible max 10 24 4\n",
      "possible max 15 24 5\n",
      "possible max 21 24 6\n",
      "possible max 28 24 7\n",
      "possible max 6 25 3\n",
      "possible max 10 25 4\n",
      "possible max 15 25 5\n",
      "possible max 3 26 2\n",
      "possible max 6 26 3\n",
      "possible max 10 26 4\n",
      "possible max 1 27 1\n",
      "possible max 3 27 2\n",
      "possible max 6 27 3\n",
      "possible max 1 28 1\n",
      "possible max 3 28 2\n",
      "possible max 1 29 1\n",
      "possible max 1 30 1\n",
      "possible max 1 31 1\n"
     ]
    },
    {
     "name": "stderr",
     "output_type": "stream",
     "text": [
      "100%|██████████| 300/300 [00:00<00:00, 326.19it/s]"
     ]
    },
    {
     "name": "stdout",
     "output_type": "stream",
     "text": [
      "2278\n"
     ]
    },
    {
     "name": "stderr",
     "output_type": "stream",
     "text": [
      "\n"
     ]
    }
   ],
   "source": [
    "possible_maxes = []\n",
    "\n",
    "for x_v_i in tqdm.tqdm(range(300)):\n",
    "    for y_v_i in range(1, 200):\n",
    "        \n",
    "        x_v = x_v_i\n",
    "        y_v = y_v_i\n",
    "        x, y = 0, 0\n",
    "        m = 0\n",
    "        success = False\n",
    "        for t in range(50000):\n",
    "            \n",
    "            #if (x_v, y_v) == (270, -60):\n",
    "            #    print(x, y)\n",
    "            \n",
    "            # check for success\n",
    "            if x_min <= x <= x_max and y_min <= y <= y_max: # in target area\n",
    "                success = True\n",
    "                #print(\"success\", x_v, y_v)\n",
    "               \n",
    "            # check for hopelessness\n",
    "            if y < y_min or x > x_max:\n",
    "                #print(\"stopping early\", t, y, y_min)\n",
    "                break\n",
    "                \n",
    "            # do movement\n",
    "            x += x_v\n",
    "            y += y_v\n",
    "            if x_v != 0:\n",
    "                x_v -= 1 # works because x_v is always positive\n",
    "            y_v -= 1\n",
    "            \n",
    "            m = max(m, y)\n",
    "            \n",
    "            \n",
    "                \n",
    "        if success:\n",
    "            possible_maxes.append(m)\n",
    "            #print(\"possible max\", m, x_v_i, y_v_i)\n",
    "            \n",
    "print(np.max(possible_maxes))\n",
    "\n",
    "    "
   ]
  },
  {
   "cell_type": "code",
   "execution_count": null,
   "id": "60550a9e-aa6b-4b7e-aac1-76c91aee463a",
   "metadata": {},
   "outputs": [],
   "source": []
  }
 ],
 "metadata": {
  "kernelspec": {
   "display_name": "base",
   "language": "python",
   "name": "base"
  },
  "language_info": {
   "codemirror_mode": {
    "name": "ipython",
    "version": 3
   },
   "file_extension": ".py",
   "mimetype": "text/x-python",
   "name": "python",
   "nbconvert_exporter": "python",
   "pygments_lexer": "ipython3",
   "version": "3.7.10"
  }
 },
 "nbformat": 4,
 "nbformat_minor": 5
}
