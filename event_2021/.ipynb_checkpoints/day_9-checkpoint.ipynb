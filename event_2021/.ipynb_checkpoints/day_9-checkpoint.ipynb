{
 "cells": [
  {
   "cell_type": "code",
   "execution_count": 1,
   "id": "f27d830b-3f86-4451-9bc3-1c962053f8e2",
   "metadata": {},
   "outputs": [],
   "source": [
    "import numpy as np"
   ]
  },
  {
   "cell_type": "code",
   "execution_count": 2,
   "id": "986cb34b-c0e2-44bf-93b1-d6b49ebd25fe",
   "metadata": {},
   "outputs": [],
   "source": [
    "with open(\"input_day_9.txt\") as file:\n",
    "\n",
    "    lines = [x.strip() for x in file.readlines()]\n",
    "    arr = [[int(x) for x in l] for l in lines]\n"
   ]
  },
  {
   "cell_type": "code",
   "execution_count": 3,
   "id": "73eab4ba-bdf6-478c-b5b5-4392f76b6698",
   "metadata": {},
   "outputs": [
    {
     "name": "stdout",
     "output_type": "stream",
     "text": [
      "585\n"
     ]
    }
   ],
   "source": [
    "total_risk = 0\n",
    "basin_j_i = []\n",
    "\n",
    "for j in range(len(arr)):\n",
    "    for i in range(len(arr[0])):\n",
    "        if (i == 0 or arr[j][i] < arr[j][i - 1]) and (i == len(arr[0]) - 1 or arr[j][i] < arr[j][i + 1]) and (j == 0 or arr[j][i] < arr[j - 1][i]) and (j == len(arr) - 1 or arr[j][i] < arr[j + 1][i]):\n",
    "            total_risk += arr[j][i] + 1\n",
    "            basin_j_i.append([j, i])\n",
    "\n",
    "print(total_risk)\n",
    "\n",
    "        "
   ]
  },
  {
   "cell_type": "code",
   "execution_count": 7,
   "id": "f8f0c980-7c04-47f1-aaf4-b36da67099b4",
   "metadata": {},
   "outputs": [
    {
     "name": "stdout",
     "output_type": "stream",
     "text": [
      "[2, 2, 2, 2, 2, 2, 2, 2, 2, 2, 2, 3, 3, 3, 3, 3, 3, 3, 3, 3, 3, 3, 3, 3, 3, 4, 4, 4, 4, 4, 4, 4, 4, 4, 4, 4, 5, 5, 5, 5, 5, 5, 5, 6, 6, 6, 6, 6, 6, 6, 7, 7, 7, 8, 8, 8, 8, 9, 9, 9, 9, 9, 10, 10, 10, 10, 10, 10, 10, 11, 11, 12, 12, 12, 13, 14, 14, 14, 14, 14, 15, 15, 15, 15, 15, 15, 16, 16, 16, 17, 17, 17, 17, 17, 18, 18, 18, 18, 18, 19, 19, 19, 19, 20, 20, 20, 20, 20, 21, 21, 21, 22, 22, 22, 22, 22, 23, 23, 23, 23, 23, 24, 24, 24, 24, 25, 25, 25, 25, 25, 25, 25, 26, 26, 26, 26, 26, 26, 26, 27, 27, 28, 28, 28, 28, 28, 28, 29, 29, 29, 29, 30, 30, 31, 31, 31, 31, 31, 31, 31, 32, 32, 32, 33, 33, 34, 34, 34, 36, 37, 37, 38, 38, 38, 38, 39, 40, 41, 41, 41, 42, 42, 42, 43, 43, 43, 43, 44, 44, 44, 45, 46, 47, 47, 47, 47, 47, 48, 48, 48, 48, 51, 51, 53, 53, 54, 54, 56, 56, 58, 58, 58, 59, 60, 60, 62, 63, 63, 64, 64, 66, 66, 66, 67, 67, 69, 69, 70, 70, 71, 72, 73, 73, 74, 74, 75, 75, 76, 84, 84, 84, 88, 88, 88, 96, 98]\n",
      "827904\n"
     ]
    }
   ],
   "source": [
    "basin_indices = []\n",
    "\n",
    "\n",
    "def get_basin_index(j, i):\n",
    "    if arr[j][i] == 9:\n",
    "        return -1\n",
    "    \n",
    "    if [j, i] in basin_j_i:\n",
    "        return basin_j_i.index([j, i])\n",
    "    \n",
    "        \n",
    "    candidates = []\n",
    "\n",
    "    if i != 0:\n",
    "        candidates.append(arr[j][i - 1])\n",
    "    else:\n",
    "        candidates.append(10)\n",
    "    if i != len(arr[0]) - 1:\n",
    "        candidates.append(arr[j][i + 1])\n",
    "    else:\n",
    "        candidates.append(10)\n",
    "    if j != 0:\n",
    "        candidates.append(arr[j - 1][i])\n",
    "    else:\n",
    "        candidates.append(10)\n",
    "    if j != len(arr) - 1:\n",
    "        candidates.append(arr[j + 1][i])\n",
    "    else:\n",
    "        candidates.append(10)\n",
    "        \n",
    "    m = np.min(candidates)\n",
    "    index = candidates.index(m)\n",
    "    \n",
    "    if index == 0:\n",
    "        return get_basin_index(j, i - 1)\n",
    "    if index == 1:\n",
    "        return get_basin_index(j, i + 1)\n",
    "    if index == 2:\n",
    "        return get_basin_index(j - 1, i)\n",
    "    if index == 3:\n",
    "        return get_basin_index(j + 1, i)\n",
    "    \n",
    "    print(\"problem!\")\n",
    "\n",
    "    \n",
    "    #print(candidates)\n",
    "    #print(index)\n",
    "    \n",
    "    #print(\"end problem!\")\n",
    "        \n",
    "\n",
    "basin_indices = []\n",
    "for j in range(len(arr)):\n",
    "    for i in range(len(arr[0])):\n",
    "        basin_indices.append(get_basin_index(j, i))\n",
    "        \n",
    "basin_counts = []\n",
    "        \n",
    "for i in range(np.max(basin_indices)):\n",
    "    basin_counts.append(basin_indices.count(i))\n",
    "    \n",
    "basin_counts.sort()\n",
    "\n",
    "print(basin_counts)\n",
    "\n",
    "print(basin_counts[-1] * basin_counts[-2] * basin_counts[-3])\n",
    "\n",
    "    "
   ]
  },
  {
   "cell_type": "code",
   "execution_count": null,
   "id": "387af602-14b0-4be5-a989-da5e23ee91c6",
   "metadata": {},
   "outputs": [],
   "source": []
  }
 ],
 "metadata": {
  "kernelspec": {
   "display_name": "base",
   "language": "python",
   "name": "base"
  },
  "language_info": {
   "codemirror_mode": {
    "name": "ipython",
    "version": 3
   },
   "file_extension": ".py",
   "mimetype": "text/x-python",
   "name": "python",
   "nbconvert_exporter": "python",
   "pygments_lexer": "ipython3",
   "version": "3.7.10"
  }
 },
 "nbformat": 4,
 "nbformat_minor": 5
}
