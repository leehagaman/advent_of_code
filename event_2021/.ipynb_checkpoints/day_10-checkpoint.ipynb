{
 "cells": [
  {
   "cell_type": "code",
   "execution_count": 1,
   "id": "f27d830b-3f86-4451-9bc3-1c962053f8e2",
   "metadata": {},
   "outputs": [],
   "source": [
    "import numpy as np"
   ]
  },
  {
   "cell_type": "code",
   "execution_count": 2,
   "id": "986cb34b-c0e2-44bf-93b1-d6b49ebd25fe",
   "metadata": {},
   "outputs": [],
   "source": [
    "with open(\"input_day_10.txt\") as file:\n",
    "\n",
    "    lines = [x.strip() for x in file.readlines()]\n",
    "\n"
   ]
  },
  {
   "cell_type": "code",
   "execution_count": 3,
   "id": "387af602-14b0-4be5-a989-da5e23ee91c6",
   "metadata": {},
   "outputs": [
    {
     "name": "stdout",
     "output_type": "stream",
     "text": [
      "26397\n"
     ]
    }
   ],
   "source": [
    "syn = 0\n",
    "\n",
    "processed_strs = []\n",
    "\n",
    "for i in range(len(lines)):\n",
    "    \n",
    "    curr_str = \"\"\n",
    "    \n",
    "    l = lines[i]\n",
    "    \n",
    "    line_broken = False\n",
    "\n",
    "    for c in l:\n",
    "        \n",
    "        #print(curr_str, c, syn)\n",
    "        \n",
    "        if line_broken:\n",
    "            continue\n",
    "        \n",
    "        if c == \"(\" or c == \"[\" or c == \"{\" or c == \"<\":\n",
    "            curr_str += c\n",
    "        if c == \")\":\n",
    "            if curr_str[-1] == \"(\":\n",
    "                curr_str = curr_str[:-1]\n",
    "            else:\n",
    "                syn += 3\n",
    "                line_broken = True\n",
    "        if c == \"]\":\n",
    "            if curr_str[-1] == \"[\":\n",
    "                curr_str = curr_str[:-1]\n",
    "            else:\n",
    "                syn += 57\n",
    "                line_broken = True\n",
    "        if c == \"}\":\n",
    "            if curr_str[-1] == \"{\":\n",
    "                curr_str = curr_str[:-1]\n",
    "                #print(\"did this\")\n",
    "            else:\n",
    "                syn += 1197\n",
    "                line_broken = True\n",
    "        if c == \">\":\n",
    "            if curr_str[-1] == \"<\":\n",
    "                curr_str = curr_str[:-1]\n",
    "            else:\n",
    "                syn += 25137\n",
    "                line_broken = True\n",
    "                \n",
    "    if not line_broken:\n",
    "        processed_strs.append(curr_str)\n",
    "\n",
    "\n",
    "print(syn)"
   ]
  },
  {
   "cell_type": "code",
   "execution_count": 4,
   "id": "63fd5d26-14b6-4045-b3d1-18811ddb7af8",
   "metadata": {},
   "outputs": [
    {
     "name": "stdout",
     "output_type": "stream",
     "text": [
      "['[({([[{{', '({[<{(', '((((<{<{{', '<{[{[{{[[', '<{([']\n"
     ]
    }
   ],
   "source": [
    "#print(processed_strs)"
   ]
  },
  {
   "cell_type": "code",
   "execution_count": 5,
   "id": "6595d0c6-b09f-4eea-bfa7-fe52d4a2c812",
   "metadata": {},
   "outputs": [
    {
     "name": "stdout",
     "output_type": "stream",
     "text": [
      "288957\n",
      "5566\n",
      "1480781\n",
      "995444\n",
      "294\n",
      "288957\n"
     ]
    }
   ],
   "source": [
    "l_scores = []\n",
    "\n",
    "for s in processed_strs:\n",
    "    curr_score = 0\n",
    "    \n",
    "    for c in s[::-1]:\n",
    "        if c == \"(\":\n",
    "            curr_score = curr_score * 5 + 1\n",
    "        elif c == \"[\":\n",
    "            curr_score = curr_score * 5 + 2\n",
    "        elif c == \"{\":\n",
    "            curr_score = curr_score * 5 + 3\n",
    "        elif c == \"<\":\n",
    "            curr_score = curr_score * 5 + 4\n",
    "            \n",
    "    l_scores.append(curr_score)\n",
    "    #print(curr_score)\n",
    "    \n",
    "l_scores.sort()\n",
    "print(l_scores[len(l_scores) // 2])"
   ]
  },
  {
   "cell_type": "code",
   "execution_count": null,
   "id": "0eaca260-19c9-441b-9b78-e452c72dc921",
   "metadata": {},
   "outputs": [],
   "source": []
  },
  {
   "cell_type": "code",
   "execution_count": null,
   "id": "acbe8922-30c5-475a-9497-b18ca7bfacaa",
   "metadata": {},
   "outputs": [],
   "source": []
  }
 ],
 "metadata": {
  "kernelspec": {
   "display_name": "base",
   "language": "python",
   "name": "base"
  },
  "language_info": {
   "codemirror_mode": {
    "name": "ipython",
    "version": 3
   },
   "file_extension": ".py",
   "mimetype": "text/x-python",
   "name": "python",
   "nbconvert_exporter": "python",
   "pygments_lexer": "ipython3",
   "version": "3.7.10"
  }
 },
 "nbformat": 4,
 "nbformat_minor": 5
}
