{
 "cells": [
  {
   "cell_type": "code",
   "execution_count": 1,
   "id": "f27d830b-3f86-4451-9bc3-1c962053f8e2",
   "metadata": {},
   "outputs": [],
   "source": [
    "import numpy as np"
   ]
  },
  {
   "cell_type": "code",
   "execution_count": 2,
   "id": "986cb34b-c0e2-44bf-93b1-d6b49ebd25fe",
   "metadata": {},
   "outputs": [
    {
     "name": "stdout",
     "output_type": "stream",
     "text": [
      "[3, 4, 3, 1, 2, 1, 5, 1, 1, 1, 1, 4, 1, 2, 1, 1, 2, 1, 1, 1, 3, 4, 4, 4, 1, 3, 2, 1, 3, 4, 1, 1, 3, 4, 2, 5, 5, 3, 3, 3, 5, 1, 4, 1, 2, 3, 1, 1, 1, 4, 1, 4, 1, 5, 3, 3, 1, 4, 1, 5, 1, 2, 2, 1, 1, 5, 5, 2, 5, 1, 1, 1, 1, 3, 1, 4, 1, 1, 1, 4, 1, 1, 1, 5, 2, 3, 5, 3, 4, 1, 1, 1, 1, 1, 2, 2, 1, 1, 1, 1, 1, 1, 5, 5, 1, 3, 3, 1, 2, 1, 3, 1, 5, 1, 1, 4, 1, 1, 2, 4, 1, 5, 1, 1, 3, 3, 3, 4, 2, 4, 1, 1, 5, 1, 1, 1, 1, 4, 4, 1, 1, 1, 3, 1, 1, 2, 1, 3, 1, 1, 1, 1, 5, 3, 3, 2, 2, 1, 4, 3, 3, 2, 1, 3, 3, 1, 2, 5, 1, 3, 5, 2, 2, 1, 1, 1, 1, 5, 1, 2, 1, 1, 3, 5, 4, 2, 3, 1, 1, 1, 4, 1, 3, 2, 1, 5, 4, 5, 1, 4, 5, 1, 3, 3, 5, 1, 2, 1, 1, 3, 3, 1, 5, 3, 1, 1, 1, 3, 2, 5, 5, 1, 1, 4, 2, 1, 2, 1, 1, 5, 5, 1, 4, 1, 1, 3, 1, 5, 2, 5, 3, 1, 5, 2, 2, 1, 1, 5, 1, 5, 1, 2, 1, 3, 1, 1, 1, 2, 3, 2, 1, 4, 1, 1, 1, 1, 5, 4, 1, 4, 5, 1, 4, 3, 4, 1, 1, 1, 1, 2, 5, 4, 1, 1, 3, 1, 2, 1, 1, 2, 1, 1, 1, 2, 1, 1, 1, 1, 1, 4]\n"
     ]
    }
   ],
   "source": [
    "with open(\"input_day_6.txt\") as file:\n",
    "    #with open(\"input_day_5_small.txt\") as file:\n",
    "\n",
    "    init = [int(x) for x in file.read().split(\",\")]\n",
    "\n",
    "\n",
    "print(init)\n"
   ]
  },
  {
   "cell_type": "code",
   "execution_count": 3,
   "id": "ceb2ce77-5ff2-4bc6-bad5-30a1e9856390",
   "metadata": {},
   "outputs": [
    {
     "name": "stdout",
     "output_type": "stream",
     "text": [
      "1716\n"
     ]
    }
   ],
   "source": [
    "p = init\n",
    "n = []\n",
    "for t in range(18):\n",
    "    #print(t)\n",
    "    n = []\n",
    "    for f in p:\n",
    "        #print(len(n))\n",
    "        if f != 0:\n",
    "            n.append(f - 1)\n",
    "        else:\n",
    "            n.append(8)\n",
    "            n.append(6)\n",
    "        #print(len(n))\n",
    "\n",
    "    p = n\n",
    "            \n",
    "print(len(n))"
   ]
  },
  {
   "cell_type": "code",
   "execution_count": 4,
   "id": "d02afbe7-72f1-4071-a85f-14c2f69761ed",
   "metadata": {},
   "outputs": [
    {
     "name": "stdout",
     "output_type": "stream",
     "text": [
      "1674303997472\n"
     ]
    }
   ],
   "source": [
    "nums_of_each_day = [init.count(i) for i in range(9)]\n",
    "#nums_of_each_day = [[3,4,3,1,2].count(i) for i in range(9)]\n",
    "\n",
    "#print(nums_of_each_day)\n",
    "\n",
    "p = nums_of_each_day\n",
    "\n",
    "n = [0 for i in range(9)]\n",
    "for t in range(256):\n",
    "    n[0] = p[1]\n",
    "    n[1] = p[2]\n",
    "    n[2] = p[3]\n",
    "    n[3] = p[4]\n",
    "    n[4] = p[5]\n",
    "    n[5] = p[6]\n",
    "    n[6] = p[7] + p[0]\n",
    "    n[7] = p[8]\n",
    "    n[8] = p[0]\n",
    "    \n",
    "    p = n[:]\n",
    "\n",
    "            \n",
    "print(np.sum(n))"
   ]
  }
 ],
 "metadata": {
  "kernelspec": {
   "display_name": "base",
   "language": "python",
   "name": "base"
  },
  "language_info": {
   "codemirror_mode": {
    "name": "ipython",
    "version": 3
   },
   "file_extension": ".py",
   "mimetype": "text/x-python",
   "name": "python",
   "nbconvert_exporter": "python",
   "pygments_lexer": "ipython3",
   "version": "3.7.10"
  }
 },
 "nbformat": 4,
 "nbformat_minor": 5
}
