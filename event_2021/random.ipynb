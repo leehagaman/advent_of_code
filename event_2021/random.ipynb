{
 "cells": [
  {
   "cell_type": "code",
   "execution_count": null,
   "id": "798ed027-26eb-45cc-9a09-e215c694e58f",
   "metadata": {},
   "outputs": [],
   "source": [
    "z_count_change_pos = []\n",
    "for i in range(z_max - z_min + 1):\n",
    "    left = z_min + i - 1\n",
    "    center = z_min + i\n",
    "    right = z_min + i + 1\n",
    "    newlz_added = []\n",
    "    #print(\"considering\", center)\n",
    "    if i == 0 or i == z_max - z_min:\n",
    "        z_count_change_pos.append(center) # starts new block\n",
    "        newlz_added.append(center)\n",
    "        print(\"newlz added\", newlz_added)\n",
    "        continue\n",
    "    num_on_left = 0\n",
    "    if a_zlims[0] <= left <= a_zlims[1]:\n",
    "        num_on_left += 1\n",
    "    if b_zlims[0] <= left <= b_zlims[1]:\n",
    "        num_on_left += 1\n",
    "    num_on_right = 0\n",
    "    if a_zlims[0] <= right <= a_zlims[1]:\n",
    "        num_on_right += 1\n",
    "    if b_zlims[0] <= right <= b_zlims[1]:\n",
    "        num_on_right += 1\n",
    "    num_in_center = 0\n",
    "    if a_zlims[0] <= center <= a_zlims[1]:\n",
    "        num_in_center += 1\n",
    "    if b_zlims[0] <= center <= b_zlims[1]:\n",
    "        num_in_center += 1            \n",
    "    if (num_on_left < num_in_center):\n",
    "        z_count_change_pos.append(left)\n",
    "        z_count_change_pos.append(center)\n",
    "        newlz_added.append(left)\n",
    "        newlz_added.append(center)\n",
    "    if (num_in_center > num_on_right):\n",
    "        z_count_change_pos.append(center)\n",
    "        z_count_change_pos.append(right)\n",
    "        newlz_added.append(center)\n",
    "        newlz_added.append(right)\n",
    "    #print(\"left center right\", left, center, right)\n",
    "    #print(\"left center right counts\", num_on_left, num_in_center, num_on_right)\n",
    "    #print(\"newlz added\", newlz_added)\n",
    "z_split_pairs = []         \n",
    "for i in range(len(z_count_change_pos)):\n",
    "    if i % 2 == 0:\n",
    "        z_split_pairs.append([z_count_change_pos[i]])\n",
    "    else:\n",
    "        z_split_pairs[-1].append(z_count_change_pos[i])"
   ]
  },
  {
   "cell_type": "code",
   "execution_count": null,
   "id": "318324dc-e851-445b-b149-46eef65a82be",
   "metadata": {},
   "outputs": [],
   "source": []
  },
  {
   "cell_type": "code",
   "execution_count": null,
   "id": "befec65d-f7c2-4b87-a798-e81f50e1e67f",
   "metadata": {},
   "outputs": [],
   "source": []
  },
  {
   "cell_type": "code",
   "execution_count": null,
   "id": "fbd4ec22-a8ef-4fe9-b51c-b3753711ecc0",
   "metadata": {},
   "outputs": [],
   "source": []
  }
 ],
 "metadata": {
  "kernelspec": {
   "display_name": "base",
   "language": "python",
   "name": "base"
  },
  "language_info": {
   "codemirror_mode": {
    "name": "ipython",
    "version": 3
   },
   "file_extension": ".py",
   "mimetype": "text/x-python",
   "name": "python",
   "nbconvert_exporter": "python",
   "pygments_lexer": "ipython3",
   "version": "3.7.10"
  }
 },
 "nbformat": 4,
 "nbformat_minor": 5
}
