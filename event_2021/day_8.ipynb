{
 "cells": [
  {
   "cell_type": "code",
   "execution_count": 1,
   "id": "f27d830b-3f86-4451-9bc3-1c962053f8e2",
   "metadata": {},
   "outputs": [],
   "source": [
    "import numpy as np"
   ]
  },
  {
   "cell_type": "code",
   "execution_count": 2,
   "id": "986cb34b-c0e2-44bf-93b1-d6b49ebd25fe",
   "metadata": {},
   "outputs": [
    {
     "name": "stdout",
     "output_type": "stream",
     "text": [
      "cgdf eagcbf fc adefg eacdb fbedga geafcd efc dacfe fdgaecb | dcefbag dgcf fc daefc\n",
      "['cgdf', 'eagcbf', 'fc', 'adefg', 'eacdb', 'fbedga', 'geafcd', 'efc', 'dacfe', 'fdgaecb']\n",
      "['dcefbag', 'dgcf', 'fc', 'daefc']\n"
     ]
    }
   ],
   "source": [
    "with open(\"input_day_8.txt\") as file:\n",
    "    #with open(\"input_day_5_small.txt\") as file:\n",
    "\n",
    "    lines = [x.strip() for x in file.readlines()]\n",
    "    controls = [x.split(\"|\")[0].split() for x in lines]\n",
    "    outputs = [x.split(\"|\")[1].split() for x in lines]\n",
    "\n",
    "\n",
    "print(lines[0])\n",
    "print(controls[0])\n",
    "print(outputs[0])\n"
   ]
  },
  {
   "cell_type": "code",
   "execution_count": 3,
   "id": "1ba9c18e-b85c-40ef-95e8-79115e3e1653",
   "metadata": {},
   "outputs": [
    {
     "name": "stdout",
     "output_type": "stream",
     "text": [
      "362\n"
     ]
    }
   ],
   "source": [
    "num_special_nums = 0\n",
    "\n",
    "for o in outputs:\n",
    "    for d in o:\n",
    "        if len(d) == 2 or len(d) == 3 or len(d) == 4 or len(d) == 7: # one, seven, four, eight\n",
    "            num_special_nums += 1\n",
    "            \n",
    "print(num_special_nums)\n"
   ]
  },
  {
   "cell_type": "code",
   "execution_count": 4,
   "id": "a49729dd-c6ec-424f-bcf5-b935c5337930",
   "metadata": {},
   "outputs": [
    {
     "name": "stdout",
     "output_type": "stream",
     "text": [
      "1020159\n"
     ]
    }
   ],
   "source": [
    "tot = 0\n",
    "\n",
    "for i in range(len(controls)):\n",
    "    \n",
    "    two_three_five_corresponding = []\n",
    "    zero_six_nine_corresponding = []\n",
    "    \n",
    "    for d in controls[i]: # digits\n",
    "        \n",
    "        if len(d) == 2:\n",
    "            one_corresponding = d\n",
    "        if len(d) == 3:\n",
    "            seven_corresponding = d\n",
    "        if len(d) == 4:\n",
    "            four_corresponding = d\n",
    "        if len(d) == 5:\n",
    "            two_three_five_corresponding.append(d)\n",
    "        if len(d) == 6:\n",
    "            zero_six_nine_corresponding.append(d)\n",
    "        if len(d) == 7:\n",
    "            eight_corresponding = d\n",
    "            \n",
    "    #print(\"235\", two_three_five_corresponding)\n",
    "        \n",
    "    top_segment = seven_corresponding[:]\n",
    "    for l in one_corresponding:\n",
    "        top_segment = top_segment.replace(l, \"\")\n",
    "    \n",
    "    #print(\"069\", zero_six_nine_corresponding)\n",
    "    #print(\"1\", one_corresponding)\n",
    "    for x in zero_six_nine_corresponding:\n",
    "        if not(one_corresponding[0] in x and one_corresponding[1] in x):\n",
    "            six_corresponding = x\n",
    "            #print(\"6\", six_corresponding)\n",
    "            zero_nine_corresponding = zero_six_nine_corresponding[:]\n",
    "            zero_nine_corresponding.remove(x)\n",
    "            #print(\"09\", zero_nine_corresponding)\n",
    "\n",
    "    #print(\"8\", eight_corresponding)\n",
    "    #print(\"6\", six_corresponding)\n",
    "    \n",
    "    right_upper_segment = eight_corresponding[:]\n",
    "    for l in six_corresponding:\n",
    "        right_upper_segment = right_upper_segment.replace(l, \"\")\n",
    "        \n",
    "    \n",
    "    #print(\"upper right\", right_upper_segment)\n",
    "    #print(\"top\", top_segment)\n",
    "    \n",
    "    for x in two_three_five_corresponding:\n",
    "        if not (right_upper_segment in x and top_segment in x):\n",
    "            five_corresponding = x\n",
    "            two_three_corresponding = two_three_five_corresponding[:]\n",
    "            two_three_corresponding.remove(x)\n",
    "            \n",
    "    left_lower_segment = six_corresponding[:]\n",
    "    for l in five_corresponding:\n",
    "        left_lower_segment = left_lower_segment.replace(l, \"\")\n",
    "        \n",
    "    #print(\"lower left\", left_lower_segment)\n",
    "    #print(\"09\", zero_nine_corresponding)\n",
    "        \n",
    "    for x in zero_nine_corresponding:\n",
    "        if left_lower_segment in x:\n",
    "            zero_corresponding = x\n",
    "            nine_corresponding_ = zero_nine_corresponding[:]\n",
    "            nine_corresponding_.remove(x)\n",
    "            nine_corresponding = nine_corresponding_[0]\n",
    "\n",
    "            \n",
    "    for x in two_three_corresponding:\n",
    "        if left_lower_segment in x:\n",
    "            two_corresponding = x\n",
    "            three_corresponding = two_three_corresponding[:]\n",
    "            three_corresponding.remove(x)\n",
    "            three_corresponding = three_corresponding[0]\n",
    "            \n",
    "            \n",
    "    d_strs = [\n",
    "        zero_corresponding,\n",
    "        one_corresponding,\n",
    "        two_corresponding,\n",
    "        three_corresponding,\n",
    "        four_corresponding,\n",
    "        five_corresponding,\n",
    "        six_corresponding,\n",
    "        seven_corresponding,\n",
    "        eight_corresponding,\n",
    "        nine_corresponding,\n",
    "    ]\n",
    "    \n",
    "    #print(d_strs)\n",
    "    \n",
    "    for p in range(4):\n",
    "        \n",
    "        for num in range(10):\n",
    "            b = True\n",
    "            \n",
    "            #print(num)\n",
    "            #print(d_strs[num])\n",
    "            #print(\"o\", o)\n",
    "            \n",
    "            for c in d_strs[num]:\n",
    "            \n",
    "                if not(c in outputs[i][p] and len(d_strs[num]) == len(outputs[i][p])):\n",
    "                    b = False\n",
    "                    #print(\"in here\")\n",
    "            if b:\n",
    "                tot += num * 10**(3 - p)\n",
    "            \n",
    "                #print(\"added\", tot)\n",
    "print(tot)\n",
    "            \n",
    "    "
   ]
  },
  {
   "cell_type": "code",
   "execution_count": null,
   "id": "73eab4ba-bdf6-478c-b5b5-4392f76b6698",
   "metadata": {},
   "outputs": [],
   "source": []
  }
 ],
 "metadata": {
  "kernelspec": {
   "display_name": "base",
   "language": "python",
   "name": "base"
  },
  "language_info": {
   "codemirror_mode": {
    "name": "ipython",
    "version": 3
   },
   "file_extension": ".py",
   "mimetype": "text/x-python",
   "name": "python",
   "nbconvert_exporter": "python",
   "pygments_lexer": "ipython3",
   "version": "3.7.10"
  }
 },
 "nbformat": 4,
 "nbformat_minor": 5
}
