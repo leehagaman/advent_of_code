{
 "cells": [
  {
   "cell_type": "code",
   "execution_count": 1,
   "id": "f27d830b-3f86-4451-9bc3-1c962053f8e2",
   "metadata": {},
   "outputs": [],
   "source": [
    "import numpy as np\n",
    "import copy"
   ]
  },
  {
   "cell_type": "code",
   "execution_count": 2,
   "id": "986cb34b-c0e2-44bf-93b1-d6b49ebd25fe",
   "metadata": {},
   "outputs": [
    {
     "name": "stdout",
     "output_type": "stream",
     "text": [
      "{'XW': ['ed', 'eq', 'tk', 'end'], 'ed': ['XW', 'eq', 'cc', 'LA', 'tk', 'II'], 'cc': ['tk', 'ed', 'kl', 'II'], 'tk': ['cc', 'II', 'XW', 'LA', 'ed', 'SQ'], 'eq': ['ed', 'ns', 'XW', 'II', 'JR'], 'ns': ['eq'], 'LA': ['kl', 'end', 'ed', 'tk', 'start'], 'kl': ['LA', 'SQ', 'cc', 'start'], 'II': ['tk', 'end', 'cc', 'eq', 'ed'], 'end': ['LA', 'II', 'XW'], 'SQ': ['kl', 'start', 'tk'], 'start': ['SQ', 'LA', 'kl'], 'JR': ['eq']}\n"
     ]
    }
   ],
   "source": [
    "with open(\"input_day_12.txt\") as file:\n",
    "    \n",
    "    connections = [l.strip() for l in file.readlines()]    \n",
    "    \n",
    "    conn = {}\n",
    "    \n",
    "    for c in connections:\n",
    "        x, y = c.split(\"-\")\n",
    "        if x not in conn.keys():\n",
    "            conn[x] = [y]\n",
    "        else:\n",
    "            conn[x].append(y)\n",
    "        if y not in conn.keys():\n",
    "            conn[y] = [x]\n",
    "        else:\n",
    "            conn[y].append(x)\n",
    "\n",
    "print(conn)"
   ]
  },
  {
   "cell_type": "code",
   "execution_count": 3,
   "id": "e3cac17c-5e33-4bdb-99b0-9aabc9140ba2",
   "metadata": {},
   "outputs": [
    {
     "name": "stdout",
     "output_type": "stream",
     "text": [
      "3679\n"
     ]
    }
   ],
   "source": [
    "num = 0\n",
    "\n",
    "def go_one_more(path):\n",
    "    \n",
    "    #print(path)\n",
    "    \n",
    "    global num\n",
    "    \n",
    "    for n in conn[path[-1]]:\n",
    "        if n == \"end\":\n",
    "            num += 1\n",
    "            #print(path)\n",
    "        elif n.isupper() or not (n in path[:-1]):\n",
    "            #print(n)\n",
    "            go_one_more(path + [n])\n",
    "            \n",
    "    \n",
    "\n",
    "go_one_more([\"start\"])\n",
    "            \n",
    "print(num)\n",
    "    "
   ]
  },
  {
   "cell_type": "code",
   "execution_count": 4,
   "id": "47792300-0f4c-454e-86f3-21c60d55dc1f",
   "metadata": {},
   "outputs": [
    {
     "name": "stdout",
     "output_type": "stream",
     "text": [
      "107395\n"
     ]
    }
   ],
   "source": [
    "num = 0\n",
    "\n",
    "def go_one_more(path, visited_twice):\n",
    "    \n",
    "    #print(path)\n",
    "    \n",
    "    global num\n",
    "    \n",
    "    for n in conn[path[-1]]:\n",
    "        if n == \"end\":\n",
    "            num += 1\n",
    "            #print(path)\n",
    "        elif n == \"start\":\n",
    "            continue\n",
    "        elif n.isupper(): # can be added one more time\n",
    "            #print(n)\n",
    "            go_one_more(path + [n], visited_twice)\n",
    "        elif n not in path[:-1]:\n",
    "            go_one_more(path + [n], visited_twice)\n",
    "        elif not visited_twice:\n",
    "            go_one_more(path + [n], True)\n",
    "\n",
    "            \n",
    "    \n",
    "\n",
    "go_one_more([\"start\"], False)\n",
    "            \n",
    "print(num)"
   ]
  },
  {
   "cell_type": "code",
   "execution_count": null,
   "id": "8346be69-06fb-43ab-8f11-c3ccd9704aa7",
   "metadata": {},
   "outputs": [],
   "source": []
  },
  {
   "cell_type": "code",
   "execution_count": null,
   "id": "acbe8922-30c5-475a-9497-b18ca7bfacaa",
   "metadata": {},
   "outputs": [],
   "source": []
  }
 ],
 "metadata": {
  "kernelspec": {
   "display_name": "base",
   "language": "python",
   "name": "base"
  },
  "language_info": {
   "codemirror_mode": {
    "name": "ipython",
    "version": 3
   },
   "file_extension": ".py",
   "mimetype": "text/x-python",
   "name": "python",
   "nbconvert_exporter": "python",
   "pygments_lexer": "ipython3",
   "version": "3.7.10"
  }
 },
 "nbformat": 4,
 "nbformat_minor": 5
}
