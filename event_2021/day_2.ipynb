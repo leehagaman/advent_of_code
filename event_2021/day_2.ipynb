{
 "cells": [
  {
   "cell_type": "code",
   "execution_count": 10,
   "id": "f27d830b-3f86-4451-9bc3-1c962053f8e2",
   "metadata": {},
   "outputs": [],
   "source": [
    "import numpy as np"
   ]
  },
  {
   "cell_type": "code",
   "execution_count": 11,
   "id": "986cb34b-c0e2-44bf-93b1-d6b49ebd25fe",
   "metadata": {},
   "outputs": [
    {
     "name": "stderr",
     "output_type": "stream",
     "text": [
      "/Users/lmh227/opt/miniconda3/lib/python3.7/site-packages/ipykernel_launcher.py:1: VisibleDeprecationWarning: Reading unicode strings without specifying the encoding argument is deprecated. Set the encoding, use None for the system default.\n",
      "  \"\"\"Entry point for launching an IPython kernel.\n"
     ]
    },
    {
     "data": {
      "text/plain": [
       "array([(b'forward', 4), (b'down', 8), (b'down', 3), (b'down', 1),\n",
       "       (b'forward', 8)], dtype=[('f0', 'S7'), ('f1', '<i8')])"
      ]
     },
     "execution_count": 11,
     "metadata": {},
     "output_type": "execute_result"
    }
   ],
   "source": [
    "dirs = np.genfromtxt(\"input_day_2.txt\", dtype=None)\n",
    "dirs[:5]"
   ]
  },
  {
   "cell_type": "code",
   "execution_count": 17,
   "id": "b36c0aab-f138-4aa2-84b4-05668e527bf2",
   "metadata": {},
   "outputs": [],
   "source": [
    "hor = 0\n",
    "dep = 0\n",
    "\n",
    "for d in dirs:\n",
    "    if d[0].decode(\"utf-8\") == \"forward\":\n",
    "        hor += d[1]\n",
    "    elif d[0].decode(\"utf-8\") == \"down\":\n",
    "        dep += d[1]\n",
    "    elif d[0].decode(\"utf-8\") == \"up\":\n",
    "        dep -= d[1]"
   ]
  },
  {
   "cell_type": "code",
   "execution_count": 18,
   "id": "f299f169-c067-4774-8253-b6a0c1c3fc8d",
   "metadata": {},
   "outputs": [
    {
     "name": "stdout",
     "output_type": "stream",
     "text": [
      "1648020\n"
     ]
    }
   ],
   "source": [
    "print(hor * dep)"
   ]
  },
  {
   "cell_type": "code",
   "execution_count": 19,
   "id": "e7254f6c-be85-46ad-ae66-a8d1eafabb5e",
   "metadata": {},
   "outputs": [],
   "source": [
    "\n",
    "aim = 0\n",
    "hor = 0\n",
    "dep = 0\n",
    "\n",
    "for d in dirs:\n",
    "    if d[0].decode(\"utf-8\") == \"forward\":\n",
    "        hor += d[1]\n",
    "        dep += d[1] * aim\n",
    "    elif d[0].decode(\"utf-8\") == \"down\":\n",
    "        aim += d[1]\n",
    "    elif d[0].decode(\"utf-8\") == \"up\":\n",
    "        aim -= d[1]"
   ]
  },
  {
   "cell_type": "code",
   "execution_count": 20,
   "id": "3ea7ecca-77ce-43f9-8be3-f0bb7879b182",
   "metadata": {},
   "outputs": [
    {
     "name": "stdout",
     "output_type": "stream",
     "text": [
      "1759818555\n"
     ]
    }
   ],
   "source": [
    "print(hor * dep)"
   ]
  },
  {
   "cell_type": "code",
   "execution_count": null,
   "id": "7ca17a81-3d78-4bc7-acfe-bca85bb75d4f",
   "metadata": {},
   "outputs": [],
   "source": []
  }
 ],
 "metadata": {
  "kernelspec": {
   "display_name": "base",
   "language": "python",
   "name": "base"
  },
  "language_info": {
   "codemirror_mode": {
    "name": "ipython",
    "version": 3
   },
   "file_extension": ".py",
   "mimetype": "text/x-python",
   "name": "python",
   "nbconvert_exporter": "python",
   "pygments_lexer": "ipython3",
   "version": "3.7.10"
  }
 },
 "nbformat": 4,
 "nbformat_minor": 5
}
