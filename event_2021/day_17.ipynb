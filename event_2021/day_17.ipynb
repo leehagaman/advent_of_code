{
 "cells": [
  {
   "cell_type": "code",
   "execution_count": 1,
   "id": "f27d830b-3f86-4451-9bc3-1c962053f8e2",
   "metadata": {},
   "outputs": [],
   "source": [
    "import numpy as np\n",
    "import copy\n",
    "import tqdm as tqdm"
   ]
  },
  {
   "cell_type": "code",
   "execution_count": 2,
   "id": "986cb34b-c0e2-44bf-93b1-d6b49ebd25fe",
   "metadata": {},
   "outputs": [],
   "source": [
    "# target area: x=269..292, y=-68..-44\n",
    "\n",
    "x_min = 269\n",
    "x_max = 292\n",
    "y_min = -68\n",
    "y_max = -44\n"
   ]
  },
  {
   "cell_type": "code",
   "execution_count": 4,
   "id": "c6bd41de-fe03-4515-9f23-2871bee56aee",
   "metadata": {},
   "outputs": [
    {
     "name": "stderr",
     "output_type": "stream",
     "text": [
      "100%|██████████| 300/300 [00:01<00:00, 230.22it/s]"
     ]
    },
    {
     "name": "stdout",
     "output_type": "stream",
     "text": [
      "2278\n",
      "996\n"
     ]
    },
    {
     "name": "stderr",
     "output_type": "stream",
     "text": [
      "\n"
     ]
    }
   ],
   "source": [
    "possible_maxes = []\n",
    "num_successes = 0\n",
    "\n",
    "for x_v_i in tqdm.tqdm(range(300)):\n",
    "    for y_v_i in range(-70, 200):\n",
    "        \n",
    "        x_v = x_v_i\n",
    "        y_v = y_v_i\n",
    "        x, y = 0, 0\n",
    "        m = 0\n",
    "        success = False\n",
    "        for t in range(50000):\n",
    "            \n",
    "            #if (x_v, y_v) == (270, -60):\n",
    "            #    print(x, y)\n",
    "            \n",
    "            # check for success\n",
    "            if x_min <= x <= x_max and y_min <= y <= y_max: # in target area\n",
    "                success = True\n",
    "                #print(\"success\", x_v, y_v)\n",
    "               \n",
    "            # check for hopelessness\n",
    "            if y < y_min or x > x_max:\n",
    "                #print(\"stopping early\", t, y, y_min)\n",
    "                break\n",
    "                \n",
    "            # do movement\n",
    "            x += x_v\n",
    "            y += y_v\n",
    "            if x_v != 0:\n",
    "                x_v -= 1 # works because x_v is always positive\n",
    "            y_v -= 1\n",
    "            \n",
    "            m = max(m, y)\n",
    "            \n",
    "            \n",
    "                \n",
    "        if success:\n",
    "            possible_maxes.append(m)\n",
    "            num_successes += 1\n",
    "            #print(\"possible max\", m, x_v_i, y_v_i)\n",
    "            \n",
    "print(np.max(possible_maxes))\n",
    "print(num_successes)\n",
    "\n",
    "    "
   ]
  },
  {
   "cell_type": "code",
   "execution_count": null,
   "id": "60550a9e-aa6b-4b7e-aac1-76c91aee463a",
   "metadata": {},
   "outputs": [],
   "source": []
  }
 ],
 "metadata": {
  "kernelspec": {
   "display_name": "base",
   "language": "python",
   "name": "base"
  },
  "language_info": {
   "codemirror_mode": {
    "name": "ipython",
    "version": 3
   },
   "file_extension": ".py",
   "mimetype": "text/x-python",
   "name": "python",
   "nbconvert_exporter": "python",
   "pygments_lexer": "ipython3",
   "version": "3.7.10"
  }
 },
 "nbformat": 4,
 "nbformat_minor": 5
}
