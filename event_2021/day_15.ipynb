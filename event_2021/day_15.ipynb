{
 "cells": [
  {
   "cell_type": "code",
   "execution_count": 1,
   "id": "f27d830b-3f86-4451-9bc3-1c962053f8e2",
   "metadata": {},
   "outputs": [],
   "source": [
    "import numpy as np\n",
    "import copy"
   ]
  },
  {
   "cell_type": "code",
   "execution_count": 2,
   "id": "986cb34b-c0e2-44bf-93b1-d6b49ebd25fe",
   "metadata": {},
   "outputs": [
    {
     "name": "stdout",
     "output_type": "stream",
     "text": [
      "100\n",
      "100\n"
     ]
    }
   ],
   "source": [
    "with open(\"input_day_15.txt\") as file:\n",
    "    \n",
    "    lines = file.read().split(\"\\n\")\n",
    "    \n",
    "    arr = [[int(x) for x in line] for line in lines]\n",
    "    \n",
    "#print(arr)\n",
    "    \n",
    "print(len(arr))\n",
    "print(len(arr[0]))"
   ]
  },
  {
   "cell_type": "code",
   "execution_count": 3,
   "id": "b7d04a90-89e5-4388-a953-e61fa997623a",
   "metadata": {},
   "outputs": [
    {
     "name": "stdout",
     "output_type": "stream",
     "text": [
      "0 622.0\n",
      "1 622.0\n",
      "2 622.0\n",
      "3 621.0\n",
      "4 621.0\n",
      "done!\n",
      "621.0\n"
     ]
    }
   ],
   "source": [
    "cum_arr = [[1e10 for c in range(len(arr[0]))] for r in range(len(arr))]\n",
    "\n",
    "cum_arr[0][0] = 0 # starting position\n",
    "\n",
    "for t in range(5): # updating to make it better\n",
    "    for r in range(len(arr)):\n",
    "        for c in range(len(arr[0])):\n",
    "            # iterate over directions to look\n",
    "            new_vals = [cum_arr[r][c]]\n",
    "            for dr, dc in [[-1, 0], [0, -1], [1, 0], [0, 1]]:\n",
    "                if r + dr < 0 or r + dr > len(arr) - 1:\n",
    "                    continue\n",
    "                if c + dc < 0 or c + dc > len(arr[0]) - 1:\n",
    "                    continue\n",
    "                #print(r, r + dr, c, c + dc)\n",
    "                new_vals.append(arr[r][c] + cum_arr[r + dr][c + dc])\n",
    "                    \n",
    "            #print(new_vals)\n",
    "            cum_arr[r][c] = np.min(new_vals)\n",
    "                \n",
    "    #print(cum_arr)\n",
    "    \n",
    "    print(t, cum_arr[len(arr) - 1][len(arr[0]) - 1])\n",
    "\n",
    "        \n",
    "print(\"done!\")\n",
    "print(cum_arr[len(arr) - 1][len(arr[0]) - 1])"
   ]
  },
  {
   "cell_type": "code",
   "execution_count": 4,
   "id": "c9044f17-8c48-476e-add1-c122a345820c",
   "metadata": {},
   "outputs": [],
   "source": [
    "big_arr = []\n",
    "\n",
    "for R in range(5):\n",
    "    for r in range(len(arr)):\n",
    "        big_arr.append([])\n",
    "        for C in range(5):\n",
    "            for c in range(len(arr[0])):\n",
    "                new = arr[r][c] + R + C\n",
    "                if new > 9:\n",
    "                    big_arr[-1].append(new - 9)\n",
    "                else:\n",
    "                    big_arr[-1].append(new)\n",
    "                    \n",
    "#big_arr = arr[:]"
   ]
  },
  {
   "cell_type": "code",
   "execution_count": 5,
   "id": "c1ef5dc1-3846-416d-bb7a-a1f9efc4b1d0",
   "metadata": {},
   "outputs": [
    {
     "name": "stdout",
     "output_type": "stream",
     "text": [
      "breaking\n",
      "done!\n",
      "2904\n"
     ]
    }
   ],
   "source": [
    "from queue import PriorityQueue\n",
    "\n",
    "q = PriorityQueue()\n",
    "\n",
    "q.put((len(big_arr) + len(big_arr[0]), [0, 0])) # putting the first point with estimated cost\n",
    "\n",
    "cum_risks = [[1e10 for c in range(len(big_arr[0]))] for r in range(len(big_arr))] # not evaluated, assume maximum\n",
    "\n",
    "cum_risks[0][0] = 0\n",
    "\n",
    "#print(q.get())\n",
    "\n",
    "while not q.empty():\n",
    "    \n",
    "    #print(q.queue)\n",
    "    \n",
    "    e = q.get()\n",
    "    #print(\"new size\", q.qsize())\n",
    "\n",
    "    #print(e)\n",
    "    r = e[1][0]\n",
    "    c = e[1][1]\n",
    "    \n",
    "    #print(r, c)\n",
    "    #print(len(big_arr) - 1, len(big_arr[0]) - 1)\n",
    "    \n",
    "    if r == len(big_arr) - 1 and c == len(big_arr[0]) - 1:\n",
    "        print(\"breaking\")\n",
    "        break\n",
    "    \n",
    "    for dr, dc in [[-1, 0], [0, -1], [1, 0], [0, 1]]:\n",
    "        if r + dr < 0 or r + dr > len(big_arr) - 1:\n",
    "            continue\n",
    "        if c + dc < 0 or c + dc > len(big_arr[0]) - 1:\n",
    "            continue\n",
    "            \n",
    "        \n",
    "        #print(\"new and old risk\", cum_risks[r][c] + big_arr[r + dr][c + dc], cum_risks[r + dr][c + dc])\n",
    "        \n",
    "        if cum_risks[r][c] + big_arr[r + dr][c + dc] < cum_risks[r + dr][c + dc]: # improved, add to frontier\n",
    "            \n",
    "            #print(\"improved\", cum_risks[r][c] + big_arr[r + dr][c + dc], \"<\",  cum_risks[r + dr][c + dc])\n",
    "            \n",
    "            cum_risks[r + dr][c + dc] = cum_risks[r][c] + big_arr[r + dr][c + dc]\n",
    "\n",
    "            q.put((cum_risks[r + dr][c + dc] + len(big_arr) - r + len(big_arr[0]) - c, [r + dr, c + dc]))\n",
    "            \n",
    "print(\"done!\")            \n",
    "print(cum_risks[len(big_arr) - 1][len(big_arr[0]) - 1])"
   ]
  },
  {
   "cell_type": "code",
   "execution_count": null,
   "id": "4b0c0960-dd3b-4bd5-8cb7-15ee6c09f9d8",
   "metadata": {},
   "outputs": [],
   "source": []
  }
 ],
 "metadata": {
  "kernelspec": {
   "display_name": "base",
   "language": "python",
   "name": "base"
  },
  "language_info": {
   "codemirror_mode": {
    "name": "ipython",
    "version": 3
   },
   "file_extension": ".py",
   "mimetype": "text/x-python",
   "name": "python",
   "nbconvert_exporter": "python",
   "pygments_lexer": "ipython3",
   "version": "3.7.10"
  }
 },
 "nbformat": 4,
 "nbformat_minor": 5
}
