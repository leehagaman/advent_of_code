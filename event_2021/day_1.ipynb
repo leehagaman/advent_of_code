{
 "cells": [
  {
   "cell_type": "code",
   "execution_count": 1,
   "id": "70ea0383-8687-4c4e-8d42-f010bdcafd3d",
   "metadata": {},
   "outputs": [],
   "source": [
    "import numpy as np"
   ]
  },
  {
   "cell_type": "code",
   "execution_count": 2,
   "id": "26b3273f-7ddc-4d36-8b81-dbc2b753b4d5",
   "metadata": {},
   "outputs": [
    {
     "data": {
      "text/plain": [
       "array([ 174.,  180.,  179., ..., 4615., 4616., 4618.])"
      ]
     },
     "execution_count": 2,
     "metadata": {},
     "output_type": "execute_result"
    }
   ],
   "source": [
    "depths = np.loadtxt(\"input_day_1.txt\")\n",
    "depths"
   ]
  },
  {
   "cell_type": "code",
   "execution_count": 3,
   "id": "ffc4ffb4-5805-4deb-bfac-ae13955d5462",
   "metadata": {},
   "outputs": [
    {
     "name": "stdout",
     "output_type": "stream",
     "text": [
      "1316\n"
     ]
    }
   ],
   "source": [
    "num_times_depth_increased = 0\n",
    "for i in range(len(depths) - 1):\n",
    "    if depths[i] < depths[i+1]:\n",
    "        num_times_depth_increased += 1\n",
    "        \n",
    "print(num_times_depth_increased)"
   ]
  },
  {
   "cell_type": "code",
   "execution_count": 4,
   "id": "f1b5e69c-f0f2-41d0-86ef-53191f4c634d",
   "metadata": {},
   "outputs": [
    {
     "name": "stdout",
     "output_type": "stream",
     "text": [
      "1344\n"
     ]
    }
   ],
   "source": [
    "averaged_depths = []\n",
    "for i in range(len(depths) - 2):\n",
    "    averaged_depths.append(depths[i] + depths[i+1] + depths[i+2])\n",
    "    \n",
    "num_times_average_depth_increased = 0\n",
    "for i in range(len(averaged_depths) - 1):\n",
    "    if averaged_depths[i] < averaged_depths[i+1]:\n",
    "        num_times_average_depth_increased += 1\n",
    "        \n",
    "print(num_times_average_depth_increased)"
   ]
  }
 ],
 "metadata": {
  "kernelspec": {
   "display_name": "base",
   "language": "python",
   "name": "base"
  },
  "language_info": {
   "codemirror_mode": {
    "name": "ipython",
    "version": 3
   },
   "file_extension": ".py",
   "mimetype": "text/x-python",
   "name": "python",
   "nbconvert_exporter": "python",
   "pygments_lexer": "ipython3",
   "version": "3.7.10"
  }
 },
 "nbformat": 4,
 "nbformat_minor": 5
}
