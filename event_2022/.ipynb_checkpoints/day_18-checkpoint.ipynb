{
 "cells": [
  {
   "cell_type": "code",
   "execution_count": 1,
   "id": "1cf85486-d2c2-4849-9ba7-93badc042e4e",
   "metadata": {},
   "outputs": [],
   "source": [
    "import numpy as np\n",
    "\n",
    "from tqdm.notebook import tqdm\n",
    "\n",
    "import matplotlib.pyplot as plt"
   ]
  },
  {
   "cell_type": "code",
   "execution_count": 2,
   "id": "0a22ef8f-14c7-4e84-8347-b3c5cf8010c5",
   "metadata": {},
   "outputs": [],
   "source": [
    "with open(\"input_day_18.txt\") as file:\n",
    "    \n",
    "    text = file.read()\n",
    "\n"
   ]
  },
  {
   "cell_type": "code",
   "execution_count": 3,
   "id": "72cbbcaa-9edb-4424-ae06-2645b6ed6c7c",
   "metadata": {},
   "outputs": [],
   "source": [
    "test = True\n",
    "if test:\n",
    "\n",
    "    text = \"\"\"2,2,2\n",
    "1,2,2\n",
    "3,2,2\n",
    "2,1,2\n",
    "2,3,2\n",
    "2,2,1\n",
    "2,2,3\n",
    "2,2,4\n",
    "2,2,6\n",
    "1,2,5\n",
    "3,2,5\n",
    "2,1,5\n",
    "2,3,5\n",
    "\"\"\"\n",
    "#    text = \"\"\"1,1,1\n",
    "#2,1,1\n",
    "#\"\"\"\n",
    "    \n",
    "text = text.strip()"
   ]
  },
  {
   "cell_type": "code",
   "execution_count": 4,
   "id": "a459f7ae-74e7-4c6e-93c4-bb1132460381",
   "metadata": {},
   "outputs": [],
   "source": [
    "lines = text.split(\"\\n\")\n",
    "words = [l.split(\",\") for l in lines]\n",
    "cubes = [(int(x[0]), int(x[1]), int(x[2])) for x in words]\n",
    "\n",
    "#print(cubes)\n",
    "          "
   ]
  },
  {
   "cell_type": "code",
   "execution_count": 5,
   "id": "4a7530cf-9460-47df-b9b3-f107cbdb8046",
   "metadata": {},
   "outputs": [
    {
     "name": "stdout",
     "output_type": "stream",
     "text": [
      "3542\n"
     ]
    }
   ],
   "source": [
    "sides = set()\n",
    "total_sa = 6 * len(cubes)\n",
    "\n",
    "for c in cubes:\n",
    "    for d in ((-0.5,0,0), (0.5,0,0), (0,-0.5,0), (0,0.5,0), (0,0,-0.5), (0,0,0.5)):\n",
    "        \n",
    "        side_tup = (c[0] + d[0], c[1] + d[1], c[2] + d[2])\n",
    "        \n",
    "        if side_tup in sides:\n",
    "            total_sa -= 2\n",
    "        else:\n",
    "            sides.add(side_tup)\n",
    "            \n",
    "print(total_sa)\n"
   ]
  },
  {
   "cell_type": "code",
   "execution_count": 6,
   "id": "7c66a9f8-a72c-456b-af69-34a232f62ff8",
   "metadata": {},
   "outputs": [],
   "source": [
    "side_counts = {}\n",
    "\n",
    "for c in cubes:\n",
    "    for d in ((-0.5,0,0), (0.5,0,0), (0,-0.5,0), (0,0.5,0), (0,0,-0.5), (0,0,0.5)):\n",
    "        \n",
    "        side_tup = (c[0] + d[0], c[1] + d[1], c[2] + d[2])\n",
    "        \n",
    "        if side_tup in side_counts:\n",
    "            side_counts[side_tup] += 1\n",
    "        else:\n",
    "            side_counts[side_tup] = 1\n",
    "\n",
    "boundary_sides = set()\n",
    "for k,v in side_counts.items():\n",
    "    if v == 1:\n",
    "        boundary_sides.add(k)\n",
    "            "
   ]
  },
  {
   "cell_type": "code",
   "execution_count": 7,
   "id": "6c948c16-5139-49c9-8bc4-6a0c972a1455",
   "metadata": {},
   "outputs": [
    {
     "name": "stdout",
     "output_type": "stream",
     "text": [
      "0 19\n",
      "0 19\n",
      "0 19\n"
     ]
    }
   ],
   "source": [
    "min_x = 1000\n",
    "max_x = -1000\n",
    "min_y = 1000\n",
    "max_y = -1000\n",
    "min_z = 1000\n",
    "max_z = -1000\n",
    "\n",
    "for c in cubes:\n",
    "    min_x = min(min_x, c[0])\n",
    "    max_x = max(max_x, c[0])\n",
    "    min_y = min(min_y, c[1])\n",
    "    max_y = max(max_y, c[1])    \n",
    "    min_z = min(min_z, c[2])\n",
    "    max_z = max(max_z, c[2])\n",
    "    \n",
    "print(min_x, max_x)\n",
    "print(min_y, max_y)\n",
    "print(min_z, max_z)\n"
   ]
  },
  {
   "cell_type": "code",
   "execution_count": 8,
   "id": "273aaeaa-f61e-459c-ae6a-ab1a97426caf",
   "metadata": {},
   "outputs": [],
   "source": [
    "ext_air = set()\n",
    "\n",
    "for ix in range(-1, 21):\n",
    "    for iy in range(-1, 21):\n",
    "        for iz in (-1, 20):\n",
    "            ext_air.add((ix, iy, iz))\n",
    "            ext_air.add((iz, ix, iy))\n",
    "            ext_air.add((iy, iz, ix))\n",
    "            "
   ]
  },
  {
   "cell_type": "code",
   "execution_count": 9,
   "id": "3bdf1432-80ae-42df-8b36-e241e3a17b13",
   "metadata": {},
   "outputs": [
    {
     "data": {
      "application/vnd.jupyter.widget-view+json": {
       "model_id": "0d9c353b6e9c42f48ffa761895a721e1",
       "version_major": 2,
       "version_minor": 0
      },
      "text/plain": [
       "  0%|          | 0/25 [00:00<?, ?it/s]"
      ]
     },
     "metadata": {},
     "output_type": "display_data"
    },
    {
     "data": {
      "text/plain": [
       "2080"
      ]
     },
     "execution_count": 9,
     "metadata": {},
     "output_type": "execute_result"
    }
   ],
   "source": [
    "untouched_sides = boundary_sides.copy()\n",
    "\n",
    "external_sa = 0\n",
    "\n",
    "for flow_step in tqdm(range(25)):\n",
    "    \n",
    "    for a in ext_air.copy():\n",
    "        \n",
    "        for d in ((-0.5,0,0), (0.5,0,0), (0,-0.5,0), (0,0.5,0), (0,0,-0.5), (0,0,0.5)):\n",
    "            side_tup = (a[0] + d[0], a[1] + d[1], a[2] + d[2])\n",
    "            if side_tup in untouched_sides:\n",
    "                untouched_sides.remove(side_tup)\n",
    "                external_sa += 1\n",
    "                \n",
    "        for d in ((-1,0,0), (1,0,0), (0,-1,0), (0,1,0), (0,0,-1), (0,0,1)):\n",
    "            new_potential_air_loc = (a[0] + d[0], a[1] + d[1], a[2] + d[2])\n",
    "            \n",
    "            if not (new_potential_air_loc in ext_air) and not (new_potential_air_loc in cubes):\n",
    "                ext_air.add(new_potential_air_loc)\n",
    "              \n",
    "                \n",
    "external_sa"
   ]
  },
  {
   "cell_type": "code",
   "execution_count": null,
   "id": "3649ac53-87c8-4701-afba-e1e83226b8eb",
   "metadata": {},
   "outputs": [],
   "source": [
    "# 2080"
   ]
  },
  {
   "cell_type": "code",
   "execution_count": null,
   "id": "6631004b-2efc-4448-a33d-d767ec76ab6d",
   "metadata": {},
   "outputs": [],
   "source": []
  },
  {
   "cell_type": "code",
   "execution_count": null,
   "id": "7013981c-9861-45b1-a006-247a83f6cb82",
   "metadata": {},
   "outputs": [],
   "source": []
  }
 ],
 "metadata": {
  "kernelspec": {
   "display_name": "base",
   "language": "python",
   "name": "base"
  },
  "language_info": {
   "codemirror_mode": {
    "name": "ipython",
    "version": 3
   },
   "file_extension": ".py",
   "mimetype": "text/x-python",
   "name": "python",
   "nbconvert_exporter": "python",
   "pygments_lexer": "ipython3",
   "version": "3.7.10"
  }
 },
 "nbformat": 4,
 "nbformat_minor": 5
}
