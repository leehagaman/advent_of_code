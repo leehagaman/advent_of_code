{
 "cells": [
  {
   "cell_type": "code",
   "execution_count": 1,
   "id": "1cf85486-d2c2-4849-9ba7-93badc042e4e",
   "metadata": {},
   "outputs": [],
   "source": [
    "import numpy as np"
   ]
  },
  {
   "cell_type": "code",
   "execution_count": 2,
   "id": "0a22ef8f-14c7-4e84-8347-b3c5cf8010c5",
   "metadata": {},
   "outputs": [],
   "source": [
    "with open(\"input_day_09.txt\") as file:\n",
    "        \n",
    "    lines = file.read().strip().split(\"\\n\")\n",
    "\n"
   ]
  },
  {
   "cell_type": "code",
   "execution_count": 3,
   "id": "9cb885ca-c681-4abd-be06-d5a276f379b3",
   "metadata": {},
   "outputs": [],
   "source": [
    "test1 = False\n",
    "if test1:\n",
    "\n",
    "    lines = \"\"\"\n",
    "    R 4\n",
    "    U 4\n",
    "    L 3\n",
    "    D 1\n",
    "    R 4\n",
    "    D 1\n",
    "    L 5\n",
    "    R 2\n",
    "    \"\"\".strip().split(\"\\n\")\n",
    "    \n",
    "    \n",
    "test2 = False\n",
    "if test2:\n",
    "\n",
    "    lines = \"\"\"\n",
    "    R 5\n",
    "    U 8\n",
    "    L 8\n",
    "    D 3\n",
    "    R 17\n",
    "    D 10\n",
    "    L 25\n",
    "    U 20\n",
    "    \"\"\".strip().split(\"\\n\")"
   ]
  },
  {
   "cell_type": "code",
   "execution_count": 4,
   "id": "59c63f97-ee34-4163-9c25-c735f366f3d6",
   "metadata": {},
   "outputs": [],
   "source": [
    "prev_tail_positions = [[0, 0]]\n",
    "\n",
    "cur_head_x = 0\n",
    "cur_head_y = 0\n",
    "cur_tail_x = 0\n",
    "cur_tail_y = 0\n",
    "\n",
    "for l in lines:\n",
    "    d = l.split()[0]\n",
    "    n = int(l.split()[1])\n",
    "    \n",
    "    for i in range(n):\n",
    "        if d == \"R\":\n",
    "            cur_head_x += 1\n",
    "        elif d == \"L\":\n",
    "            cur_head_x -= 1\n",
    "        elif d == \"U\":\n",
    "            cur_head_y += 1\n",
    "        elif d == \"D\":\n",
    "            cur_head_y -= 1\n",
    "            \n",
    "        offset = [cur_head_x - cur_tail_x, cur_head_y - cur_tail_y]\n",
    "\n",
    "        if offset == [2, 0]:\n",
    "            cur_tail_x += 1\n",
    "        elif offset == [-2, 0]:\n",
    "            cur_tail_x -= 1\n",
    "        elif offset == [0, 2]:\n",
    "            cur_tail_y += 1\n",
    "        elif offset == [0, -2]:\n",
    "            cur_tail_y -= 1\n",
    "        elif offset == [1, 2] or offset == [2, 1]:\n",
    "            cur_tail_x += 1\n",
    "            cur_tail_y += 1\n",
    "        elif offset == [-1, -2] or offset == [-2, -1]:\n",
    "            cur_tail_x -= 1\n",
    "            cur_tail_y -= 1\n",
    "        elif offset == [1, -2] or offset == [2, -1]:\n",
    "            cur_tail_x += 1\n",
    "            cur_tail_y -= 1\n",
    "        elif offset == [-1, 2] or offset == [-2, 1]:\n",
    "            cur_tail_x -= 1\n",
    "            cur_tail_y += 1\n",
    "\n",
    "        if [cur_tail_x, cur_tail_y] not in prev_tail_positions:\n",
    "            prev_tail_positions.append([cur_tail_x, cur_tail_y])\n",
    "        \n",
    "    \n",
    "    \n",
    "    \n",
    "    "
   ]
  },
  {
   "cell_type": "code",
   "execution_count": 5,
   "id": "8cef9f81-bc4e-4d25-91cc-441bbc822528",
   "metadata": {},
   "outputs": [
    {
     "data": {
      "text/plain": [
       "6243"
      ]
     },
     "execution_count": 5,
     "metadata": {},
     "output_type": "execute_result"
    }
   ],
   "source": [
    "len(prev_tail_positions)"
   ]
  },
  {
   "cell_type": "code",
   "execution_count": 6,
   "id": "8832d84c-0e1b-4e6b-b28b-1eb05bea3601",
   "metadata": {},
   "outputs": [],
   "source": [
    "prev_tail_positions = [[0, 0]]\n",
    "\n",
    "cur_knots_x = [0, 0, 0, 0, 0, 0, 0, 0, 0, 0]\n",
    "cur_knots_y = [0, 0, 0, 0, 0, 0, 0, 0, 0, 0]\n",
    "\n",
    "for l in lines:\n",
    "    d = l.split()[0]\n",
    "    n = int(l.split()[1])\n",
    "    \n",
    "    for i in range(n):\n",
    "        if d == \"R\":\n",
    "            cur_knots_x[0] += 1\n",
    "        elif d == \"L\":\n",
    "            cur_knots_x[0] -= 1\n",
    "        elif d == \"U\":\n",
    "            cur_knots_y[0] += 1\n",
    "        elif d == \"D\":\n",
    "            cur_knots_y[0] -= 1\n",
    "            \n",
    "        for knot in range(1, 10): # all except the head\n",
    "            \n",
    "            offset = [cur_knots_x[knot-1] - cur_knots_x[knot], cur_knots_y[knot-1] - cur_knots_y[knot]]\n",
    "\n",
    "            if offset == [2, 0]:\n",
    "                cur_knots_x[knot] += 1\n",
    "            elif offset == [-2, 0]:\n",
    "                cur_knots_x[knot] -= 1\n",
    "            elif offset == [0, 2]:\n",
    "                cur_knots_y[knot] += 1\n",
    "            elif offset == [0, -2]:\n",
    "                cur_knots_y[knot] -= 1\n",
    "            elif offset == [1, 2] or offset == [2, 1] or offset == [2, 2]:\n",
    "                cur_knots_x[knot] += 1\n",
    "                cur_knots_y[knot] += 1\n",
    "            elif offset == [-1, -2] or offset == [-2, -1] or offset == [-2, -2]:\n",
    "                cur_knots_x[knot] -= 1\n",
    "                cur_knots_y[knot] -= 1\n",
    "            elif offset == [1, -2] or offset == [2, -1] or offset == [2, -2]:\n",
    "                cur_knots_x[knot] += 1\n",
    "                cur_knots_y[knot] -= 1\n",
    "            elif offset == [-1, 2] or offset == [-2, 1] or offset == [-2, 2]:\n",
    "                cur_knots_x[knot] -= 1\n",
    "                cur_knots_y[knot] += 1\n",
    "                \n",
    "            if knot == 9:\n",
    "                if [cur_knots_x[knot], cur_knots_y[knot]] not in prev_tail_positions:\n",
    "                    prev_tail_positions.append([cur_knots_x[knot], cur_knots_y[knot]])\n",
    "        \n",
    "    \n",
    "    "
   ]
  },
  {
   "cell_type": "code",
   "execution_count": 7,
   "id": "219fc5d9-4030-4c1a-9aef-1154d464a50a",
   "metadata": {},
   "outputs": [],
   "source": [
    "#prev_tail_positions"
   ]
  },
  {
   "cell_type": "code",
   "execution_count": 8,
   "id": "8b04ae8a-3048-45c3-84e6-f6f62456fc8f",
   "metadata": {},
   "outputs": [
    {
     "data": {
      "text/plain": [
       "54"
      ]
     },
     "execution_count": 8,
     "metadata": {},
     "output_type": "execute_result"
    }
   ],
   "source": [
    "len(prev_tail_positions)"
   ]
  },
  {
   "cell_type": "code",
   "execution_count": null,
   "id": "88ad2850-eaee-48cc-8233-d41534e74062",
   "metadata": {},
   "outputs": [],
   "source": []
  },
  {
   "cell_type": "code",
   "execution_count": null,
   "id": "647d5a4c-5b72-468e-9ee1-b4b0ef70e56c",
   "metadata": {},
   "outputs": [],
   "source": []
  }
 ],
 "metadata": {
  "kernelspec": {
   "display_name": "base",
   "language": "python",
   "name": "base"
  },
  "language_info": {
   "codemirror_mode": {
    "name": "ipython",
    "version": 3
   },
   "file_extension": ".py",
   "mimetype": "text/x-python",
   "name": "python",
   "nbconvert_exporter": "python",
   "pygments_lexer": "ipython3",
   "version": "3.7.10"
  }
 },
 "nbformat": 4,
 "nbformat_minor": 5
}
