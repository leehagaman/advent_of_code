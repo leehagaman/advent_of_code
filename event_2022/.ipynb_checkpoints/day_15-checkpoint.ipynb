{
 "cells": [
  {
   "cell_type": "code",
   "execution_count": 1,
   "id": "1cf85486-d2c2-4849-9ba7-93badc042e4e",
   "metadata": {},
   "outputs": [],
   "source": [
    "import numpy as np\n",
    "\n",
    "from tqdm.notebook import tqdm\n"
   ]
  },
  {
   "cell_type": "code",
   "execution_count": 2,
   "id": "0a22ef8f-14c7-4e84-8347-b3c5cf8010c5",
   "metadata": {},
   "outputs": [],
   "source": [
    "with open(\"input_day_15.txt\") as file:\n",
    "    \n",
    "    text = file.read()\n",
    "\n",
    "row_of_interest = 2000000\n",
    "max_search = 4000000\n"
   ]
  },
  {
   "cell_type": "code",
   "execution_count": 3,
   "id": "72cbbcaa-9edb-4424-ae06-2645b6ed6c7c",
   "metadata": {},
   "outputs": [],
   "source": [
    "test = False\n",
    "if test:\n",
    "    row_of_interest = 10\n",
    "    max_search = 20\n",
    "\n",
    "\n",
    "    text = \"\"\"Sensor at x=2, y=18: closest beacon is at x=-2, y=15\n",
    "Sensor at x=9, y=16: closest beacon is at x=10, y=16\n",
    "Sensor at x=13, y=2: closest beacon is at x=15, y=3\n",
    "Sensor at x=12, y=14: closest beacon is at x=10, y=16\n",
    "Sensor at x=10, y=20: closest beacon is at x=10, y=16\n",
    "Sensor at x=14, y=17: closest beacon is at x=10, y=16\n",
    "Sensor at x=8, y=7: closest beacon is at x=2, y=10\n",
    "Sensor at x=2, y=0: closest beacon is at x=2, y=10\n",
    "Sensor at x=0, y=11: closest beacon is at x=2, y=10\n",
    "Sensor at x=20, y=14: closest beacon is at x=25, y=17\n",
    "Sensor at x=17, y=20: closest beacon is at x=21, y=22\n",
    "Sensor at x=16, y=7: closest beacon is at x=15, y=3\n",
    "Sensor at x=14, y=3: closest beacon is at x=15, y=3\n",
    "Sensor at x=20, y=1: closest beacon is at x=15, y=3\"\"\"\n",
    "    "
   ]
  },
  {
   "cell_type": "code",
   "execution_count": 4,
   "id": "3ad5009a-53cf-46dd-b01b-bc3bbc93daf7",
   "metadata": {},
   "outputs": [],
   "source": [
    "lines = text.strip().split(\"\\n\")\n"
   ]
  },
  {
   "cell_type": "code",
   "execution_count": 5,
   "id": "e84ec62b-4b8d-48bb-a47a-a080cf41b754",
   "metadata": {},
   "outputs": [
    {
     "data": {
      "text/plain": [
       "['Sensor at x=3999724, y=2000469: closest beacon is at x=4281123, y=2282046',\n",
       " 'Sensor at x=3995530, y=8733: closest beacon is at x=3321979, y=-692911',\n",
       " 'Sensor at x=3016889, y=2550239: closest beacon is at x=2408038, y=2645605',\n",
       " 'Sensor at x=3443945, y=3604888: closest beacon is at x=3610223, y=3768674',\n",
       " 'Sensor at x=168575, y=491461: closest beacon is at x=1053731, y=-142061']"
      ]
     },
     "execution_count": 5,
     "metadata": {},
     "output_type": "execute_result"
    }
   ],
   "source": [
    "num_lines = len(lines)\n",
    "\n",
    "lines[:5]"
   ]
  },
  {
   "cell_type": "code",
   "execution_count": 6,
   "id": "be0adbf8-a694-4602-bbf5-7257490c7d87",
   "metadata": {},
   "outputs": [],
   "source": [
    "p1 = False\n",
    "if p1:\n",
    "    \n",
    "    excluded_ranges = []\n",
    "    beacons_in_row = []\n",
    "\n",
    "    for l in lines:\n",
    "        words = l.split()\n",
    "\n",
    "        sensor_x = int(words[2].split(\"=\")[1].split(\",\")[0])\n",
    "        sensor_y = int(words[3].split(\"=\")[1].split(\":\")[0])\n",
    "\n",
    "        beacon_x = int(words[8].split(\"=\")[1].split(\",\")[0])\n",
    "        beacon_y = int(words[9].split(\"=\")[1])\n",
    "\n",
    "        if beacon_y == row_of_interest:\n",
    "            if (beacon_x, beacon_y) not in beacons_in_row:\n",
    "                beacons_in_row.append((beacon_x, beacon_y))\n",
    "\n",
    "        #print(sensor_x, sensor_y, beacon_x, beacon_y)\n",
    "\n",
    "        dist = abs(sensor_x - beacon_x) + abs(sensor_y - beacon_y)\n",
    "\n",
    "        rel_y_to_row = abs(sensor_y - row_of_interest)\n",
    "\n",
    "        excluded_width_on_each_side = dist - rel_y_to_row\n",
    "\n",
    "        excluded_ranges.append((sensor_x - excluded_width_on_each_side, sensor_x + excluded_width_on_each_side))\n",
    "    \n",
    "    min_x = 1e99\n",
    "    max_x = -1e99\n",
    "    for r in excluded_ranges:\n",
    "        min_x = min(min_x, r[0])\n",
    "        max_x = max(max_x, r[1])\n",
    "    \n",
    "    num_excluded = 0\n",
    "    for x in tqdm(range(min_x, max_x + 1)):\n",
    "        excluded = False\n",
    "        for r in excluded_ranges:\n",
    "            if r[0] <= x <= r[1]:\n",
    "                excluded = True\n",
    "        if excluded:\n",
    "            num_excluded += 1\n",
    "\n",
    "        #print(x, excluded)\n",
    "\n",
    "    num_excluded -= len(beacons_in_row)\n",
    "\n",
    "    print(num_excluded)"
   ]
  },
  {
   "cell_type": "code",
   "execution_count": 7,
   "id": "801b2543-12e7-4133-a9ab-d6f568fdac31",
   "metadata": {},
   "outputs": [
    {
     "data": {
      "application/vnd.jupyter.widget-view+json": {
       "model_id": "17f2222fd45e4395aaa74d3bf7bc3803",
       "version_major": 2,
       "version_minor": 0
      },
      "text/plain": [
       "  0%|          | 0/26 [00:00<?, ?it/s]"
      ]
     },
     "metadata": {},
     "output_type": "display_data"
    }
   ],
   "source": [
    "boundaries = set()\n",
    "all_beacons = set()\n",
    "\n",
    "for l in tqdm(lines):\n",
    "    \n",
    "    words = l.split()\n",
    "    \n",
    "    sensor_x = int(words[2].split(\"=\")[1].split(\",\")[0])\n",
    "    sensor_y = int(words[3].split(\"=\")[1].split(\":\")[0])\n",
    "    \n",
    "    beacon_x = int(words[8].split(\"=\")[1].split(\",\")[0])\n",
    "    beacon_y = int(words[9].split(\"=\")[1])\n",
    "    \n",
    "    all_beacons.add((beacon_x, beacon_y))\n",
    "        \n",
    "    dist = abs(sensor_x - beacon_x) + abs(sensor_y - beacon_y) + 1 # adding one to get the boundary\n",
    "    \n",
    "    for i in range(dist + 1):\n",
    "        if 0 <= sensor_x + i <= max_search and 0 <= sensor_y + dist - i <= max_search:\n",
    "            boundaries.add((sensor_x + i, sensor_y + dist - i)) # top to right\n",
    "        if 0 <= sensor_x + dist - i + i <= max_search and 0 <= sensor_y - i <= max_search:\n",
    "            boundaries.add((sensor_x + dist - i, sensor_y - i)) # right to bottom\n",
    "        if 0 <= sensor_x - i <= max_search and 0 <= sensor_y - dist + i <= max_search:\n",
    "            boundaries.add((sensor_x - i, sensor_y - dist + i)) # bottom to left\n",
    "        if 0 <= sensor_x - dist + i <= max_search and 0 <= sensor_y + i <= max_search:\n",
    "            boundaries.add((sensor_x - dist + i, sensor_y + i)) # left to top\n"
   ]
  },
  {
   "cell_type": "code",
   "execution_count": 8,
   "id": "8137d5b8-e2d8-4b0d-9cc3-26cce45b732a",
   "metadata": {},
   "outputs": [
    {
     "data": {
      "application/vnd.jupyter.widget-view+json": {
       "model_id": "fe9b195fb1a04d3188c507a21753636d",
       "version_major": 2,
       "version_minor": 0
      },
      "text/plain": [
       "  0%|          | 0/4000001 [00:00<?, ?it/s]"
      ]
     },
     "metadata": {},
     "output_type": "display_data"
    }
   ],
   "source": [
    "for i in tqdm(range(0, max_search + 1)):\n",
    "    \n",
    "    boundaries.add((0, i))\n",
    "    boundaries.add((i, 0))\n",
    "    boundaries.add((max_search, i))\n",
    "    boundaries.add((i, max_search))\n",
    "    "
   ]
  },
  {
   "cell_type": "code",
   "execution_count": 9,
   "id": "1bfa56e4-73ec-47c4-acd8-68216bfbd24f",
   "metadata": {},
   "outputs": [],
   "source": [
    "sensor_x_vals = []\n",
    "sensor_y_vals = []\n",
    "sensor_dist_vals = []\n",
    "\n",
    "for l in lines:\n",
    "    \n",
    "    words = l.split()\n",
    "\n",
    "    sensor_x = int(words[2].split(\"=\")[1].split(\",\")[0])\n",
    "    sensor_y = int(words[3].split(\"=\")[1].split(\":\")[0])\n",
    "\n",
    "    beacon_x = int(words[8].split(\"=\")[1].split(\",\")[0])\n",
    "    beacon_y = int(words[9].split(\"=\")[1])\n",
    "\n",
    "    sensor_dist = abs(sensor_x - beacon_x) + abs(sensor_y - beacon_y)\n",
    "    \n",
    "    sensor_x_vals.append(sensor_x)\n",
    "    sensor_y_vals.append(sensor_y)\n",
    "    sensor_dist_vals.append(sensor_dist)\n",
    "    "
   ]
  },
  {
   "cell_type": "code",
   "execution_count": 10,
   "id": "ca2b6584-bf78-458b-b22d-36788b77e7fa",
   "metadata": {},
   "outputs": [
    {
     "data": {
      "application/vnd.jupyter.widget-view+json": {
       "model_id": "a17b24c3746648168c4a919665e09a83",
       "version_major": 2,
       "version_minor": 0
      },
      "text/plain": [
       "  0%|          | 0/57108961 [00:00<?, ?it/s]"
      ]
     },
     "metadata": {},
     "output_type": "display_data"
    }
   ],
   "source": [
    "# takes like one hour\n",
    "all_possible = []\n",
    "\n",
    "for b in tqdm(boundaries):\n",
    "        \n",
    "    excluded = False\n",
    "    \n",
    "    for i in range(num_lines):\n",
    "                \n",
    "        if abs(b[0] - sensor_x_vals[i]) + abs(b[1] - sensor_y_vals[i]) <= sensor_dist_vals[i]:\n",
    "            excluded = True        \n",
    "            \n",
    "    if not excluded and not (b in all_beacons):\n",
    "        answer = b\n",
    "        break"
   ]
  },
  {
   "cell_type": "code",
   "execution_count": 11,
   "id": "e40e3332-06ea-4acf-bfd8-16335e1c7868",
   "metadata": {},
   "outputs": [
    {
     "name": "stdout",
     "output_type": "stream",
     "text": [
      "(3337614, 2933732)\n",
      "13350458933732\n"
     ]
    }
   ],
   "source": [
    "print(answer)\n",
    "print(answer[0] * 4000000 + answer[1])"
   ]
  },
  {
   "cell_type": "code",
   "execution_count": null,
   "id": "0b1223a9-748e-4757-941f-ee2aa4da68e5",
   "metadata": {},
   "outputs": [],
   "source": []
  },
  {
   "cell_type": "code",
   "execution_count": null,
   "id": "1da755b1-d32e-4800-81cb-378b33c6a215",
   "metadata": {},
   "outputs": [],
   "source": []
  },
  {
   "cell_type": "code",
   "execution_count": 12,
   "id": "c8ab03d1-a65c-4bde-8717-823c3904f22a",
   "metadata": {},
   "outputs": [
    {
     "data": {
      "text/plain": [
       "'all_possible = []\\n\\nfor b in tqdm(boundaries):\\n        \\n    excluded = False\\n    \\n    for l in lines:\\n    \\n        words = l.split()\\n\\n        sensor_x = int(words[2].split(\"=\")[1].split(\",\")[0])\\n        sensor_y = int(words[3].split(\"=\")[1].split(\":\")[0])\\n\\n        beacon_x = int(words[8].split(\"=\")[1].split(\",\")[0])\\n        beacon_y = int(words[9].split(\"=\")[1])\\n\\n        sensor_dist = abs(sensor_x - beacon_x) + abs(sensor_y - beacon_y)\\n        \\n        boundary_dist = abs(b[0] - sensor_x) + abs(b[1] - sensor_y)\\n        \\n        if boundary_dist <= sensor_dist:\\n            excluded = True\\n            \\n        #if b == (3, 11):\\n        #    print(\"\\n\")\\n        #    print(l)\\n        #    print(dist)\\n        #    print\\n        #    print(excluded)\\n            \\n            \\n    if not excluded:\\n        all_possible.append(b)'"
      ]
     },
     "execution_count": 12,
     "metadata": {},
     "output_type": "execute_result"
    }
   ],
   "source": [
    "# would take 4 hours, too slow\n",
    "\n",
    "\"\"\"all_possible = []\n",
    "\n",
    "for b in tqdm(boundaries):\n",
    "        \n",
    "    excluded = False\n",
    "    \n",
    "    for l in lines:\n",
    "    \n",
    "        words = l.split()\n",
    "\n",
    "        sensor_x = int(words[2].split(\"=\")[1].split(\",\")[0])\n",
    "        sensor_y = int(words[3].split(\"=\")[1].split(\":\")[0])\n",
    "\n",
    "        beacon_x = int(words[8].split(\"=\")[1].split(\",\")[0])\n",
    "        beacon_y = int(words[9].split(\"=\")[1])\n",
    "\n",
    "        sensor_dist = abs(sensor_x - beacon_x) + abs(sensor_y - beacon_y)\n",
    "        \n",
    "        boundary_dist = abs(b[0] - sensor_x) + abs(b[1] - sensor_y)\n",
    "        \n",
    "        if boundary_dist <= sensor_dist:\n",
    "            excluded = True\n",
    "            \n",
    "        #if b == (3, 11):\n",
    "        #    print(\"\\n\")\n",
    "        #    print(l)\n",
    "        #    print(dist)\n",
    "        #    print\n",
    "        #    print(excluded)\n",
    "            \n",
    "            \n",
    "    if not excluded:\n",
    "        all_possible.append(b)\"\"\"\n",
    "    "
   ]
  },
  {
   "cell_type": "code",
   "execution_count": null,
   "id": "8d4dbd1a-ed73-48d1-a2e2-92e797217d80",
   "metadata": {},
   "outputs": [],
   "source": []
  },
  {
   "cell_type": "code",
   "execution_count": null,
   "id": "1bdf6571-a9bc-42c5-be55-53614bba3588",
   "metadata": {},
   "outputs": [],
   "source": []
  },
  {
   "cell_type": "code",
   "execution_count": 13,
   "id": "96e5aee4-3f7c-4c63-ba94-c9fe5ca0dea3",
   "metadata": {},
   "outputs": [
    {
     "data": {
      "text/plain": [
       "'excluded_ranges_each = []\\nbeacons_each = []\\n\\nfor r in tqdm(range(0, max_search + 1)):\\n    excluded_ranges_each.append([])\\n    beacons_each.append([])\\n    \\n    for l in lines:\\n        words = l.split()\\n\\n        sensor_x = int(words[2].split(\"=\")[1].split(\",\")[0])\\n        sensor_y = int(words[3].split(\"=\")[1].split(\":\")[0])\\n\\n        beacon_x = int(words[8].split(\"=\")[1].split(\",\")[0])\\n        beacon_y = int(words[9].split(\"=\")[1])\\n\\n        if beacon_y == r:\\n            if (beacon_x, beacon_y) not in beacons_in_row:\\n                beacons_each[-1].append((beacon_x, beacon_y))\\n\\n        #print(sensor_x, sensor_y, beacon_x, beacon_y)\\n\\n        dist = abs(sensor_x - beacon_x) + abs(sensor_y - beacon_y)\\n\\n        rel_y_to_row = abs(sensor_y - row_of_interest)\\n\\n        excluded_width_on_each_side = dist - rel_y_to_row\\n\\n        excluded_ranges_each[-1].append((sensor_x - excluded_width_on_each_side, sensor_x + excluded_width_on_each_side))'"
      ]
     },
     "execution_count": 13,
     "metadata": {},
     "output_type": "execute_result"
    }
   ],
   "source": [
    "# would take like ten minutes, too slow\n",
    "\"\"\"excluded_ranges_each = []\n",
    "beacons_each = []\n",
    "\n",
    "for r in tqdm(range(0, max_search + 1)):\n",
    "    excluded_ranges_each.append([])\n",
    "    beacons_each.append([])\n",
    "    \n",
    "    for l in lines:\n",
    "        words = l.split()\n",
    "\n",
    "        sensor_x = int(words[2].split(\"=\")[1].split(\",\")[0])\n",
    "        sensor_y = int(words[3].split(\"=\")[1].split(\":\")[0])\n",
    "\n",
    "        beacon_x = int(words[8].split(\"=\")[1].split(\",\")[0])\n",
    "        beacon_y = int(words[9].split(\"=\")[1])\n",
    "\n",
    "        if beacon_y == r:\n",
    "            if (beacon_x, beacon_y) not in beacons_in_row:\n",
    "                beacons_each[-1].append((beacon_x, beacon_y))\n",
    "\n",
    "        #print(sensor_x, sensor_y, beacon_x, beacon_y)\n",
    "\n",
    "        dist = abs(sensor_x - beacon_x) + abs(sensor_y - beacon_y)\n",
    "\n",
    "        rel_y_to_row = abs(sensor_y - row_of_interest)\n",
    "\n",
    "        excluded_width_on_each_side = dist - rel_y_to_row\n",
    "\n",
    "        excluded_ranges_each[-1].append((sensor_x - excluded_width_on_each_side, sensor_x + excluded_width_on_each_side))\"\"\"\n",
    "\n"
   ]
  },
  {
   "cell_type": "code",
   "execution_count": null,
   "id": "f71e3cef-c069-43c2-8198-caa2baa6b8a7",
   "metadata": {},
   "outputs": [],
   "source": []
  },
  {
   "cell_type": "code",
   "execution_count": null,
   "id": "3e823f3c-acfb-4b73-8015-0bbd07d70032",
   "metadata": {},
   "outputs": [],
   "source": []
  },
  {
   "cell_type": "code",
   "execution_count": null,
   "id": "2db8de64-0e4b-47d2-954f-a73a335e3ea8",
   "metadata": {},
   "outputs": [],
   "source": []
  },
  {
   "cell_type": "code",
   "execution_count": null,
   "id": "9af78c93-b692-4b9c-a64c-54eb1c06930f",
   "metadata": {},
   "outputs": [],
   "source": []
  }
 ],
 "metadata": {
  "kernelspec": {
   "display_name": "base",
   "language": "python",
   "name": "base"
  },
  "language_info": {
   "codemirror_mode": {
    "name": "ipython",
    "version": 3
   },
   "file_extension": ".py",
   "mimetype": "text/x-python",
   "name": "python",
   "nbconvert_exporter": "python",
   "pygments_lexer": "ipython3",
   "version": "3.7.10"
  }
 },
 "nbformat": 4,
 "nbformat_minor": 5
}
