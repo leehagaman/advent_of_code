{
 "cells": [
  {
   "cell_type": "code",
   "execution_count": 1,
   "id": "1cf85486-d2c2-4849-9ba7-93badc042e4e",
   "metadata": {},
   "outputs": [],
   "source": [
    "import numpy as np\n",
    "\n",
    "from tqdm.notebook import tqdm\n"
   ]
  },
  {
   "cell_type": "code",
   "execution_count": 2,
   "id": "0a22ef8f-14c7-4e84-8347-b3c5cf8010c5",
   "metadata": {},
   "outputs": [],
   "source": [
    "with open(\"input_day_13.txt\") as file:\n",
    "    \n",
    "    text = file.read().strip()\n"
   ]
  },
  {
   "cell_type": "code",
   "execution_count": 3,
   "id": "72cbbcaa-9edb-4424-ae06-2645b6ed6c7c",
   "metadata": {},
   "outputs": [],
   "source": [
    "test = False\n",
    "if test:\n",
    "    text = \"\"\"[1,1,3,1,1]\n",
    "    [1,1,5,1,1]\n",
    "\n",
    "    [[1],[2,3,4]]\n",
    "    [[1],4]\n",
    "\n",
    "    [9]\n",
    "    [[8,7,6]]\n",
    "\n",
    "    [[4,4],4,4]\n",
    "    [[4,4],4,4,4]\n",
    "\n",
    "    [7,7,7,7]\n",
    "    [7,7,7]\n",
    "\n",
    "    []\n",
    "    [3]\n",
    "\n",
    "    [[[]]]\n",
    "    [[]]\n",
    "\n",
    "    [1,[2,[3,[4,[5,6,7]]]],8,9]\n",
    "    [1,[2,[3,[4,[5,6,0]]]],8,9]\"\"\"\n",
    "    "
   ]
  },
  {
   "cell_type": "code",
   "execution_count": 4,
   "id": "a5d6cf59-1294-4adf-81bb-5017d9f1e731",
   "metadata": {},
   "outputs": [],
   "source": [
    "list_pairs_text = [x.split(\"\\n\") for x in text.split(\"\\n\\n\")]\n",
    "list_pairs = [[eval(x) for x in p] for p in list_pairs_text]\n",
    "all_lists = []\n",
    "for p in list_pairs:\n",
    "    all_lists += p\n",
    "all_lists.append([[2]])\n",
    "all_lists.append([[6]])\n",
    "    "
   ]
  },
  {
   "cell_type": "code",
   "execution_count": 5,
   "id": "2b861e56-72d4-4940-8f26-b9430173b85e",
   "metadata": {},
   "outputs": [],
   "source": [
    "def right_order(l1, l2): # 1 means correct, -1 means wrong, 0 means unknown\n",
    "    \n",
    "    #print(\"comparing\", l1, \"with\", l2)\n",
    "    \n",
    "    if type(l1) == int and type(l2) == int:\n",
    "        if l1 < l2:\n",
    "            return -1\n",
    "        elif l2 < l1:\n",
    "            return 1\n",
    "        else:\n",
    "            return 0\n",
    "        \n",
    "    if type(l1) == list and type(l2) == list:\n",
    "        if len(l1) < len(l2): # presumed correct\n",
    "            for i in range(len(l1)):\n",
    "                if right_order(l1[i], l2[i]) == -1:\n",
    "                    return -1\n",
    "                elif right_order(l1[i], l2[i]) == 1:\n",
    "                    return 1\n",
    "            return -1\n",
    "        elif len(l1) > len(l2): # presumed incorrect\n",
    "            for i in range(len(l2)):\n",
    "                if right_order(l1[i], l2[i]) == -1:\n",
    "                    return -1\n",
    "                elif right_order(l1[i], l2[i]) == 1:\n",
    "                    return 1\n",
    "            return 1\n",
    "        else:\n",
    "            for i in range(len(l1)):\n",
    "                if right_order(l1[i], l2[i]) == -1:\n",
    "                    return -1\n",
    "                elif right_order(l1[i], l2[i]) == 1:\n",
    "                    return 1\n",
    "            return 0\n",
    "        \n",
    "    if type(l1) == int and type(l2) == list:\n",
    "        return right_order([l1], l2)\n",
    "    \n",
    "    if type(l1) == list and type(l2) == int:\n",
    "        return right_order(l1, [l2])\n",
    "        \n",
    "    "
   ]
  },
  {
   "cell_type": "code",
   "execution_count": 6,
   "id": "ccbf7ae8-e9c4-49c2-bd47-22829db0b11f",
   "metadata": {},
   "outputs": [
    {
     "data": {
      "text/plain": [
       "6484"
      ]
     },
     "execution_count": 6,
     "metadata": {},
     "output_type": "execute_result"
    }
   ],
   "source": [
    "correct_total_indices = 0\n",
    "for i, p in enumerate(list_pairs):\n",
    "    if right_order(p[0], p[1]) == -1:\n",
    "        correct_total_indices += i + 1\n",
    "        \n",
    "correct_total_indices"
   ]
  },
  {
   "cell_type": "code",
   "execution_count": 7,
   "id": "e9ab1f58-cfee-46a3-913f-df0cc27d3647",
   "metadata": {},
   "outputs": [],
   "source": [
    "import functools\n",
    "\n",
    "key = functools.cmp_to_key(right_order)\n",
    "\n",
    "\n",
    "sorted_all_lists = sorted(all_lists, key=key)"
   ]
  },
  {
   "cell_type": "code",
   "execution_count": 10,
   "id": "167750a3-08a3-4ff9-a8bd-4bc4bf20908f",
   "metadata": {},
   "outputs": [
    {
     "data": {
      "text/plain": [
       "19305"
      ]
     },
     "execution_count": 10,
     "metadata": {},
     "output_type": "execute_result"
    }
   ],
   "source": [
    "(sorted_all_lists.index([[6]]) + 1) * (sorted_all_lists.index([[2]]) + 1)"
   ]
  },
  {
   "cell_type": "code",
   "execution_count": 11,
   "id": "6bd9ae69-7065-4adb-8f82-6d5a58391e38",
   "metadata": {},
   "outputs": [],
   "source": [
    "#print(right_order([9], [[8,7,6]]))"
   ]
  },
  {
   "cell_type": "code",
   "execution_count": null,
   "id": "3b38e93e-2709-4cb9-9984-dfbb811279db",
   "metadata": {},
   "outputs": [],
   "source": []
  },
  {
   "cell_type": "code",
   "execution_count": 12,
   "id": "aa6db7bc-730f-4275-abbe-29ddb0458f3a",
   "metadata": {},
   "outputs": [],
   "source": [
    "# started 7:45\n",
    "# finished 8:22"
   ]
  }
 ],
 "metadata": {
  "kernelspec": {
   "display_name": "base",
   "language": "python",
   "name": "base"
  },
  "language_info": {
   "codemirror_mode": {
    "name": "ipython",
    "version": 3
   },
   "file_extension": ".py",
   "mimetype": "text/x-python",
   "name": "python",
   "nbconvert_exporter": "python",
   "pygments_lexer": "ipython3",
   "version": "3.7.10"
  }
 },
 "nbformat": 4,
 "nbformat_minor": 5
}
