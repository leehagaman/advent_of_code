{
 "cells": [
  {
   "cell_type": "code",
   "execution_count": 1,
   "id": "1cf85486-d2c2-4849-9ba7-93badc042e4e",
   "metadata": {},
   "outputs": [],
   "source": [
    "import numpy as np\n",
    "\n",
    "from tqdm.notebook import tqdm\n",
    "\n",
    "import matplotlib.pyplot as plt\n",
    "\n",
    "from queue import PriorityQueue\n"
   ]
  },
  {
   "cell_type": "code",
   "execution_count": 2,
   "id": "0a22ef8f-14c7-4e84-8347-b3c5cf8010c5",
   "metadata": {},
   "outputs": [],
   "source": [
    "with open(\"input_day_21.txt\") as file:\n",
    "    \n",
    "    text = file.read()\n"
   ]
  },
  {
   "cell_type": "code",
   "execution_count": 3,
   "id": "72cbbcaa-9edb-4424-ae06-2645b6ed6c7c",
   "metadata": {},
   "outputs": [],
   "source": [
    "test = False\n",
    "if test:\n",
    "\n",
    "    text = \"\"\"root: pppw + sjmn\n",
    "dbpl: 5\n",
    "cczh: sllz + lgvd\n",
    "zczc: 2\n",
    "ptdq: humn - dvpt\n",
    "dvpt: 3\n",
    "lfqf: 4\n",
    "humn: 5\n",
    "ljgn: 2\n",
    "sjmn: drzm * dbpl\n",
    "sllz: 4\n",
    "pppw: cczh / lfqf\n",
    "lgvd: ljgn * ptdq\n",
    "drzm: hmdt - zczc\n",
    "hmdt: 32\n",
    "\n",
    "\"\"\"\n",
    "    \n",
    "text = text.strip()"
   ]
  },
  {
   "cell_type": "code",
   "execution_count": 4,
   "id": "06540aad-e387-49f1-a2ad-aa56c4c69574",
   "metadata": {},
   "outputs": [],
   "source": [
    "equation_dics = {}\n",
    "number_dics = {}\n",
    "\n",
    "for line in text.split(\"\\n\"):\n",
    "    \n",
    "    monkey = line.split(\":\")[0]\n",
    "    \n",
    "    if \"+\" in line or \"-\" in line or \"*\" in line or \"/\" in line:\n",
    "        equation_dics[monkey] = line.split(\":\")[1].strip()\n",
    "    else:\n",
    "        number_dics[monkey] = int(line.split(\":\")[1].strip())\n",
    "    "
   ]
  },
  {
   "cell_type": "code",
   "execution_count": 5,
   "id": "c83cabc0-f89d-4272-9da1-189f840d6456",
   "metadata": {},
   "outputs": [
    {
     "name": "stdout",
     "output_type": "stream",
     "text": [
      "1579 789 790\n"
     ]
    }
   ],
   "source": [
    "print(len(text.split(\"\\n\")), len(equation_dics), len(number_dics))"
   ]
  },
  {
   "cell_type": "code",
   "execution_count": 6,
   "id": "93c2b4c9-7d41-461c-9846-c22b977207a9",
   "metadata": {},
   "outputs": [],
   "source": [
    "#equation_dics"
   ]
  },
  {
   "cell_type": "code",
   "execution_count": 7,
   "id": "dd77765c-413f-4066-b683-45c41a68e4a4",
   "metadata": {},
   "outputs": [],
   "source": [
    "#number_dics"
   ]
  },
  {
   "cell_type": "code",
   "execution_count": 8,
   "id": "fe80c670-b84e-4cd9-b1fe-4d3fa9766196",
   "metadata": {},
   "outputs": [
    {
     "name": "stdout",
     "output_type": "stream",
     "text": [
      "789 790\n",
      "found it: 78342931359552.0\n"
     ]
    }
   ],
   "source": [
    "iters = 0\n",
    "\n",
    "while True:\n",
    "    \n",
    "    if iters % 10000 == 0:\n",
    "        print(len(equation_dics), len(number_dics))\n",
    "    \n",
    "    \n",
    "    if \"root\" in number_dics:\n",
    "        print(\"found it:\", number_dics[\"root\"])\n",
    "        break\n",
    "    \n",
    "    added_something = False\n",
    "    for k, v in equation_dics.copy().items():\n",
    "        \n",
    "        if \"+\" in v:\n",
    "            v1, v2 = v.split(\"+\")\n",
    "            v1 = v1.strip()\n",
    "            v2 = v2.strip()\n",
    "            if v1 in number_dics and v2 in number_dics:\n",
    "                number_dics[k] = number_dics[v1] + number_dics[v2]\n",
    "                del equation_dics[k]\n",
    "                added_something = True\n",
    "        elif \"-\" in v:\n",
    "            v1, v2 = v.split(\"-\")\n",
    "            v1 = v1.strip()\n",
    "            v2 = v2.strip()\n",
    "            #if k == \"drzm\":\n",
    "            #    print(\"subtracting\", v1, v2, v1 in number_dics, v2 in number_dics)\n",
    "            if v1 in number_dics and v2 in number_dics:\n",
    "                number_dics[k] = number_dics[v1] - number_dics[v2]\n",
    "                del equation_dics[k]\n",
    "                added_something = True\n",
    "        elif \"*\" in v:\n",
    "            v1, v2 = v.split(\"*\")\n",
    "            v1 = v1.strip()\n",
    "            v2 = v2.strip()\n",
    "            if v1 in number_dics and v2 in number_dics:\n",
    "                number_dics[k] = number_dics[v1] * number_dics[v2]\n",
    "                del equation_dics[k]\n",
    "                added_something = True\n",
    "        elif \"/\" in v:\n",
    "            v1, v2 = v.split(\"/\")\n",
    "            v1 = v1.strip()\n",
    "            v2 = v2.strip()\n",
    "            if v1 in number_dics and v2 in number_dics:\n",
    "                number_dics[k] = number_dics[v1] / number_dics[v2]            \n",
    "                del equation_dics[k]\n",
    "                added_something = True\n",
    "    if not added_something:\n",
    "        #print(\"added nothing\")\n",
    "        pass\n",
    "    \n",
    "    iters += 1\n",
    "            \n",
    "    \n",
    "    "
   ]
  },
  {
   "cell_type": "code",
   "execution_count": 9,
   "id": "7b9278e2-6e08-46a8-a88d-d2778290068c",
   "metadata": {},
   "outputs": [],
   "source": [
    "equation_dics = {}\n",
    "number_dics = {}\n",
    "\n",
    "for line in text.split(\"\\n\"):\n",
    "    \n",
    "    monkey = line.split(\":\")[0]\n",
    "    \n",
    "    if \"+\" in line or \"-\" in line or \"*\" in line or \"/\" in line:\n",
    "        equation_dics[monkey] = line.split(\":\")[1].strip()\n",
    "    else:\n",
    "        number_dics[monkey] = int(line.split(\":\")[1].strip())\n",
    "        \n",
    "number_dics[\"humn\"] = \"???\"\n",
    "if test:\n",
    "    equation_dics[\"root\"] = \"pppw == sjmn\"\n",
    "else:\n",
    "    equation_dics[\"root\"] = \"lvvf == rqgq\"\n",
    "    \n",
    "# TEMPORARY\n",
    "#number_dics[\"humn\"] = 25550\n",
    "    "
   ]
  },
  {
   "cell_type": "code",
   "execution_count": 10,
   "id": "0210f931-c182-4dca-978e-9e893df492cc",
   "metadata": {},
   "outputs": [
    {
     "name": "stdout",
     "output_type": "stream",
     "text": [
      "789 790\n",
      "found it: (((6862813426220.0) - ((((((((((((((((((((((((((((((((((((((((((((((((((((((((((((((((((((???) - (961)) * (29)) + (577.0)) / (7)) - (507)) * (9)) + (614.0)) + (281.0)) / (2)) + (528)) / (2)) - (153)) * (3)) - (769)) / (5)) + (45)) * (2)) - (826)) / (2)) + (147)) * (2)) + (982)) * (2)) - (158.0)) / (2)) - (104)) + (835.0)) / (3)) + (573)) * (8)) - (890)) / (2)) + (124.0)) * (2)) - (233.0)) * (2)) + (752.0)) / (2)) + (29.0)) * (2)) - (675)) + (346.0)) / (3)) + (165.0)) / (2)) - (866.0)) * (3)) - (999)) * (2)) + (404.0)) / (2)) - (56)) * (2)) + (944.0)) / (2)) - (822)) * (2)) + (964.0)) / (4)) - (459.0)) * (2)) + (639)) + (546)) + (141.0)) / (5)) + (378)) / (5))) * (8)) == (23440423968672.0)\n"
     ]
    }
   ],
   "source": [
    "if test:\n",
    "    print(\"\\n\\nequations:\")\n",
    "    print(equation_dics)\n",
    "    print(\"\\nnumbers:\")\n",
    "    print(number_dics)\n",
    "\n",
    "\n",
    "iters = 0\n",
    "\n",
    "while True:\n",
    "    \n",
    "    if iters % 10000 == 0:\n",
    "        print(len(equation_dics), len(number_dics))\n",
    "    \n",
    "    \n",
    "    if \"root\" in number_dics:\n",
    "        print(\"found it:\", number_dics[\"root\"])\n",
    "        break\n",
    "    \n",
    "    added_something = False\n",
    "    for k, v in equation_dics.copy().items():\n",
    "        \n",
    "        if len(v) > 15:\n",
    "            print(\"weird\", v)\n",
    "        \n",
    "        if \"+\" in v:\n",
    "            v1, v2 = v.split(\"+\")\n",
    "            v1 = v1.strip()\n",
    "            v2 = v2.strip()\n",
    "            if v1 in number_dics and v2 in number_dics:\n",
    "                if \"???\" in str(number_dics[v1]):\n",
    "                    number_dics[k] = \"(\" + number_dics[v1] + \") + (\" + str(number_dics[v2]) + \")\"\n",
    "                elif \"???\" in str(number_dics[v2]):\n",
    "                    number_dics[k] = \"(\" + number_dics[v2] + \") + (\" + str(number_dics[v1]) + \")\"\n",
    "                else:\n",
    "                    number_dics[k] = number_dics[v1] + number_dics[v2]\n",
    "                del equation_dics[k]\n",
    "                added_something = True\n",
    "        elif \"-\" in v:\n",
    "            v1, v2 = v.split(\"-\")\n",
    "            v1 = v1.strip()\n",
    "            v2 = v2.strip()\n",
    "            #if k == \"drzm\":\n",
    "            #    print(\"subtracting\", v1, v2, v1 in number_dics, v2 in number_dics)\n",
    "            if v1 in number_dics and v2 in number_dics:\n",
    "                if \"???\" in str(number_dics[v1]):\n",
    "                    number_dics[k] = \"(\" + number_dics[v1] + \") - (\" + str(number_dics[v2]) + \")\"\n",
    "                elif \"???\" in str(number_dics[v2]):\n",
    "                    number_dics[k] = \"(\" + str(number_dics[v1]) + \") - (\" + number_dics[v2] + \")\"\n",
    "                else:\n",
    "                    number_dics[k] = number_dics[v1] - number_dics[v2]\n",
    "                del equation_dics[k]\n",
    "                added_something = True\n",
    "        elif \"*\" in v:\n",
    "            v1, v2 = v.split(\"*\")\n",
    "            v1 = v1.strip()\n",
    "            v2 = v2.strip()\n",
    "            if v1 in number_dics and v2 in number_dics:\n",
    "                if \"???\" in str(number_dics[v1]):\n",
    "                    number_dics[k] = \"(\" + number_dics[v1] + \") * (\" + str(number_dics[v2]) + \")\"\n",
    "                elif \"???\" in str(number_dics[v2]):\n",
    "                    number_dics[k] = \"(\" + number_dics[v2] + \") * (\" + str(number_dics[v1]) + \")\"\n",
    "                else:\n",
    "                    number_dics[k] = number_dics[v1] * number_dics[v2]\n",
    "                del equation_dics[k]\n",
    "                added_something = True\n",
    "        elif \"/\" in v:\n",
    "            v1, v2 = v.split(\"/\")\n",
    "            v1 = v1.strip()\n",
    "            v2 = v2.strip()\n",
    "            if v1 in number_dics and v2 in number_dics:\n",
    "                if \"???\" in str(number_dics[v1]):\n",
    "                    number_dics[k] = \"(\" + number_dics[v1] + \") / (\" + str(number_dics[v2]) + \")\"\n",
    "                elif \"???\" in str(number_dics[v2]):\n",
    "                    number_dics[k] = \"(\" + number_dics[v2] + \") / (\" + str(number_dics[v1]) + \")\"\n",
    "                else:\n",
    "                    number_dics[k] = number_dics[v1] / number_dics[v2]\n",
    "                del equation_dics[k]\n",
    "                added_something = True\n",
    "        elif \"==\" in v:\n",
    "            v1, v2 = v.split(\"==\")\n",
    "            v1 = v1.strip()\n",
    "            v2 = v2.strip()\n",
    "            if v1 in number_dics and v2 in number_dics:\n",
    "                number_dics[k] = \"(\" + str(number_dics[v1]) + \") == (\" + str(number_dics[v2]) + \")\"\n",
    "                del equation_dics[k]\n",
    "                added_something = True\n",
    "        else:\n",
    "            print(\"invalid equation!\")\n",
    "                \n",
    "    if not added_something:\n",
    "        print(\"added nothing\")\n",
    "        pass\n",
    "    \n",
    "    iters += 1\n",
    "    \n",
    "    if test:\n",
    "        print(\"\\n\\nequations:\")\n",
    "        print(equation_dics)\n",
    "        print(\"\\nnumbers:\")\n",
    "        print(number_dics)\n",
    "            \n",
    "    \n",
    "    "
   ]
  },
  {
   "cell_type": "code",
   "execution_count": 11,
   "id": "52faaae5-47e0-40c6-a4e2-795c8d1f4760",
   "metadata": {},
   "outputs": [],
   "source": [
    "if test:\n",
    "    def f(X):\n",
    "        return (((((X) - (3)) * (2)) + (4)) / (4)) - (150)\n",
    "else:\n",
    "    def f(X):\n",
    "        return (((6862813426220.0) - ((((((((((((((((((((((((((((((((((((((((((((((((((((((((((((((((((((X) - (961)) * (29)) + (577.0)) / (7)) - (507)) * (9)) + (614.0)) + (281.0)) / (2)) + (528)) / (2)) - (153)) * (3)) - (769)) / (5)) + (45)) * (2)) - (826)) / (2)) + (147)) * (2)) + (982)) * (2)) - (158.0)) / (2)) - (104)) + (835.0)) / (3)) + (573)) * (8)) - (890)) / (2)) + (124.0)) * (2)) - (233.0)) * (2)) + (752.0)) / (2)) + (29.0)) * (2)) - (675)) + (346.0)) / (3)) + (165.0)) / (2)) - (866.0)) * (3)) - (999)) * (2)) + (404.0)) / (2)) - (56)) * (2)) + (944.0)) / (2)) - (822)) * (2)) + (964.0)) / (4)) - (459.0)) * (2)) + (639)) + (546)) + (141.0)) / (5)) + (378)) / (5))) * (8)) - (23440423968672.0)\n",
    "    "
   ]
  },
  {
   "cell_type": "code",
   "execution_count": 14,
   "id": "aeb8b618-5803-42fc-bafa-c759e2665727",
   "metadata": {},
   "outputs": [
    {
     "name": "stdout",
     "output_type": "stream",
     "text": [
      "[25550.]\n",
      "0.0\n"
     ]
    }
   ],
   "source": [
    "import scipy.optimize\n",
    "\n",
    "\n",
    "ans = scipy.optimize.fsolve(f,0.)\n",
    "print(ans)\n",
    "\n",
    "# scipy optimize didn't work, I used Mathematica\n",
    "#Solve[\n",
    "#(((6862813426220.0) - ((((((((((((((((((((((((((((((((((((((((((((((((((((((((((((((((((((x) - (961)) * (29)) + (577.0)) / (7)) - (507)) * (9)) + (614.0)) + (281.0)) / (2)) + (528)) / (2)) - (153)) * (3)) - (769)) / (5)) + (45)) * (2)) - (826)) / (2)) + (147)) * (2)) + (982)) * (2)) - (158.0)) / (2)) - (104)) + (835.0)) / (3)) + (573)) * (8)) - (890)) / (2)) + (124.0)) * (2)) - (233.0)) * (2)) + (752.0)) / (2)) + (29.0)) * (2)) - (675)) + (346.0)) / (3)) + (165.0)) / (2)) - (866.0)) * (3)) - (999)) * (2)) + (404.0)) / (2)) - (56)) * (2)) + (944.0)) / (2)) - (822)) * (2)) + (964.0)) / (4)) - (459.0)) * (2)) + (639)) + (546)) + (141.0)) / (5)) + (378)) / (5))) * (8)) == (23440423968672.0)\n",
    "#, x]\n",
    "\n",
    "\n",
    "print(f(3296135418820))\n",
    "\n",
    "# 25550 is too low\n"
   ]
  },
  {
   "cell_type": "code",
   "execution_count": null,
   "id": "2e5a4758-5f6d-445d-9885-164c0b677d41",
   "metadata": {},
   "outputs": [],
   "source": []
  },
  {
   "cell_type": "code",
   "execution_count": null,
   "id": "542238e8-b39f-45fe-964d-fb0f5c173b8e",
   "metadata": {},
   "outputs": [],
   "source": []
  }
 ],
 "metadata": {
  "kernelspec": {
   "display_name": "base",
   "language": "python",
   "name": "base"
  },
  "language_info": {
   "codemirror_mode": {
    "name": "ipython",
    "version": 3
   },
   "file_extension": ".py",
   "mimetype": "text/x-python",
   "name": "python",
   "nbconvert_exporter": "python",
   "pygments_lexer": "ipython3",
   "version": "3.7.10"
  }
 },
 "nbformat": 4,
 "nbformat_minor": 5
}
