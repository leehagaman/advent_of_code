{
 "cells": [
  {
   "cell_type": "code",
   "execution_count": 1,
   "id": "1cf85486-d2c2-4849-9ba7-93badc042e4e",
   "metadata": {},
   "outputs": [],
   "source": [
    "import numpy as np\n",
    "\n",
    "from tqdm.notebook import tqdm\n",
    "\n",
    "import matplotlib.pyplot as plt\n",
    "\n",
    "from queue import PriorityQueue\n"
   ]
  },
  {
   "cell_type": "code",
   "execution_count": 2,
   "id": "0a22ef8f-14c7-4e84-8347-b3c5cf8010c5",
   "metadata": {},
   "outputs": [],
   "source": [
    "with open(\"input_day_25.txt\") as file:\n",
    "    \n",
    "    text = file.read()\n"
   ]
  },
  {
   "cell_type": "code",
   "execution_count": 3,
   "id": "72cbbcaa-9edb-4424-ae06-2645b6ed6c7c",
   "metadata": {},
   "outputs": [],
   "source": [
    "test = False\n",
    "if test:\n",
    "\n",
    "    text = \"\"\"\n",
    "1=-0-2\n",
    "12111\n",
    "2=0=\n",
    "21\n",
    "2=01\n",
    "111\n",
    "20012\n",
    "112\n",
    "1=-1=\n",
    "1-12\n",
    "12\n",
    "1=\n",
    "122\n",
    "\"\"\"\n",
    "    \n",
    "text = text.strip()\n"
   ]
  },
  {
   "cell_type": "code",
   "execution_count": 6,
   "id": "48badad0-d124-49e0-b7c4-1a065cface82",
   "metadata": {},
   "outputs": [],
   "source": [
    "class Snafu_num:\n",
    "    \n",
    "    def __init__(self, s):\n",
    "        \n",
    "        self.s = s\n",
    "        \n",
    "        n = 0\n",
    "        place = 1\n",
    "        for c in s[::-1]:\n",
    "            if c == \"=\":\n",
    "                n += -2 * place\n",
    "            elif c == \"-\":\n",
    "                n += -1 * place\n",
    "            elif c == \"0\":\n",
    "                n += 0 * place\n",
    "            elif c == \"1\":\n",
    "                n += 1 * place\n",
    "            elif c == \"2\":\n",
    "                n += 2 * place\n",
    "                \n",
    "            place *= 5\n",
    "        \n",
    "        self.num = n\n",
    "        \n",
    "    def __add__(self, other):\n",
    "        \n",
    "        new_num = self.num + other.num\n",
    "        remaining_num = new_num\n",
    "        \n",
    "        new_s = \"\"\n",
    "        place = 1\n",
    "        while True:\n",
    "            \n",
    "            curr_part = (remaining_num % (place * 5)) // place\n",
    "            if curr_part > 2:\n",
    "                curr_part -= 5\n",
    "                \n",
    "            #print(new_s, remaining_num)\n",
    "                \n",
    "            remaining_num -= curr_part * place\n",
    "            place *= 5\n",
    "            \n",
    "            if curr_part == -2:\n",
    "                curr_s_part = \"=\"\n",
    "            elif curr_part == -1:\n",
    "                curr_s_part = \"-\"\n",
    "            elif curr_part == 0:\n",
    "                curr_s_part = \"0\"\n",
    "            elif curr_part == 1:\n",
    "                curr_s_part = \"1\"\n",
    "            elif curr_part == 2:\n",
    "                curr_s_part = \"2\"\n",
    "            \n",
    "            new_s = curr_s_part + new_s\n",
    "        \n",
    "            if remaining_num == 0:\n",
    "                break\n",
    "        \n",
    "        new = Snafu_num(\"\")\n",
    "        new.num = new_num\n",
    "        new.s = new_s\n",
    "            \n",
    "        return new\n",
    "    "
   ]
  },
  {
   "cell_type": "code",
   "execution_count": 8,
   "id": "0b98f15b-50db-49be-93f8-65888f8faf70",
   "metadata": {},
   "outputs": [
    {
     "data": {
      "application/vnd.jupyter.widget-view+json": {
       "model_id": "6f9ff668343e4ddfb8651b703e449a33",
       "version_major": 2,
       "version_minor": 0
      },
      "text/plain": [
       "  0%|          | 0/13 [00:00<?, ?it/s]"
      ]
     },
     "metadata": {},
     "output_type": "display_data"
    },
    {
     "data": {
      "text/plain": [
       "'2=-1=0'"
      ]
     },
     "execution_count": 8,
     "metadata": {},
     "output_type": "execute_result"
    }
   ],
   "source": [
    "total = Snafu_num(\"0\")\n",
    "\n",
    "for s in tqdm(text.split(\"\\n\")):\n",
    "    total += Snafu_num(s)\n",
    "    \n",
    "total.s"
   ]
  },
  {
   "cell_type": "code",
   "execution_count": null,
   "id": "07745e87-6f36-4551-8a86-39541442b97f",
   "metadata": {},
   "outputs": [],
   "source": []
  },
  {
   "cell_type": "code",
   "execution_count": null,
   "id": "d7365fff-f964-49c6-ae98-b88aacd66673",
   "metadata": {},
   "outputs": [],
   "source": []
  },
  {
   "cell_type": "code",
   "execution_count": null,
   "id": "c0ccb1af-c564-48a1-98dd-aac7670902bb",
   "metadata": {},
   "outputs": [],
   "source": []
  }
 ],
 "metadata": {
  "kernelspec": {
   "display_name": "base",
   "language": "python",
   "name": "base"
  },
  "language_info": {
   "codemirror_mode": {
    "name": "ipython",
    "version": 3
   },
   "file_extension": ".py",
   "mimetype": "text/x-python",
   "name": "python",
   "nbconvert_exporter": "python",
   "pygments_lexer": "ipython3",
   "version": "3.7.10"
  }
 },
 "nbformat": 4,
 "nbformat_minor": 5
}
