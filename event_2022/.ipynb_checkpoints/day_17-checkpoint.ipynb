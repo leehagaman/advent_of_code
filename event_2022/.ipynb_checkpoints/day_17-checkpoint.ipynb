{
 "cells": [
  {
   "cell_type": "code",
   "execution_count": 1,
   "id": "1cf85486-d2c2-4849-9ba7-93badc042e4e",
   "metadata": {},
   "outputs": [],
   "source": [
    "import numpy as np\n",
    "\n",
    "from tqdm.notebook import tqdm\n",
    "\n",
    "import matplotlib.pyplot as plt"
   ]
  },
  {
   "cell_type": "code",
   "execution_count": 2,
   "id": "0a22ef8f-14c7-4e84-8347-b3c5cf8010c5",
   "metadata": {},
   "outputs": [],
   "source": [
    "with open(\"input_day_17.txt\") as file:\n",
    "    \n",
    "    text = file.read()\n",
    "\n"
   ]
  },
  {
   "cell_type": "code",
   "execution_count": 3,
   "id": "72cbbcaa-9edb-4424-ae06-2645b6ed6c7c",
   "metadata": {},
   "outputs": [],
   "source": [
    "test = False\n",
    "if test:\n",
    "\n",
    "    text = \">>><<><>><<<>><>>><<<>>><<<><<<>><>><<>>\"\n",
    "    "
   ]
  },
  {
   "cell_type": "code",
   "execution_count": 4,
   "id": "5cb96b13-d5a3-4ed9-add0-227dd3d30bfc",
   "metadata": {},
   "outputs": [],
   "source": [
    "text = text.strip()"
   ]
  },
  {
   "cell_type": "code",
   "execution_count": 5,
   "id": "198327d1-a020-4675-9eeb-ca6f36449866",
   "metadata": {},
   "outputs": [
    {
     "name": "stdout",
     "output_type": "stream",
     "text": [
      "10091\n"
     ]
    }
   ],
   "source": [
    "print(len(text))"
   ]
  },
  {
   "cell_type": "code",
   "execution_count": 6,
   "id": "63d99178-79af-4903-9bc0-f9c151a89b78",
   "metadata": {},
   "outputs": [],
   "source": [
    "heights_over_time = []"
   ]
  },
  {
   "cell_type": "code",
   "execution_count": 7,
   "id": "3ad5009a-53cf-46dd-b01b-bc3bbc93daf7",
   "metadata": {},
   "outputs": [
    {
     "data": {
      "application/vnd.jupyter.widget-view+json": {
       "model_id": "b63b7ead26ea4f8aa5eb03fabe41be9a",
       "version_major": 2,
       "version_minor": 0
      },
      "text/plain": [
       "  0%|          | 0/1000000 [00:00<?, ?it/s]"
      ]
     },
     "metadata": {},
     "output_type": "display_data"
    },
    {
     "name": "stdout",
     "output_type": "stream",
     "text": [
      "1570454\n"
     ]
    }
   ],
   "source": [
    "#num_blocks = 2022\n",
    "num_blocks = 1000000\n",
    "\n",
    "cycle_test = 1\n",
    "\n",
    "arr = []\n",
    "for x in range(9):\n",
    "    arr.append([]) # next column\n",
    "    for y in range(-1, 5 * num_blocks):\n",
    "        v = 0\n",
    "        if x == 0 or x == 8 or y == -1:\n",
    "            v = 1\n",
    "        arr[-1].append(v)\n",
    "        \n",
    "curr_index = 0\n",
    "max_rock_height = 0\n",
    "\n",
    "for rock in tqdm(range(num_blocks)):\n",
    "    \n",
    "    if rock % cycle_test == 0:\n",
    "        heights_over_time.append(max_rock_height)\n",
    "    \n",
    "    #print(\"new_rock\")\n",
    "    \n",
    "    curr_rock_positions = []\n",
    "\n",
    "    if rock % 5 == 0: # horizontal\n",
    "        curr_rock_positions.append((3, max_rock_height + 4))\n",
    "        curr_rock_positions.append((4, max_rock_height + 4))\n",
    "        curr_rock_positions.append((5, max_rock_height + 4))\n",
    "        curr_rock_positions.append((6, max_rock_height + 4))\n",
    "    if rock % 5 == 1:\n",
    "        curr_rock_positions.append((3, max_rock_height + 5))\n",
    "        curr_rock_positions.append((4, max_rock_height + 5))\n",
    "        curr_rock_positions.append((5, max_rock_height + 5))\n",
    "        curr_rock_positions.append((4, max_rock_height + 4))\n",
    "        curr_rock_positions.append((4, max_rock_height + 6))\n",
    "    if rock % 5 == 2:\n",
    "        curr_rock_positions.append((3, max_rock_height + 4))\n",
    "        curr_rock_positions.append((4, max_rock_height + 4))\n",
    "        curr_rock_positions.append((5, max_rock_height + 4))\n",
    "        curr_rock_positions.append((5, max_rock_height + 5))\n",
    "        curr_rock_positions.append((5, max_rock_height + 6))\n",
    "    if rock % 5 == 3:\n",
    "        curr_rock_positions.append((3, max_rock_height + 4))\n",
    "        curr_rock_positions.append((3, max_rock_height + 5))\n",
    "        curr_rock_positions.append((3, max_rock_height + 6))\n",
    "        curr_rock_positions.append((3, max_rock_height + 7))\n",
    "    if rock % 5 == 4:\n",
    "        curr_rock_positions.append((3, max_rock_height + 4))\n",
    "        curr_rock_positions.append((4, max_rock_height + 4))\n",
    "        curr_rock_positions.append((3, max_rock_height + 5))\n",
    "        curr_rock_positions.append((4, max_rock_height + 5))\n",
    "        \n",
    "    #if rock < 10:\n",
    "    #    print(\"\\n\")\n",
    "    #    for c in arr:\n",
    "    #        print(c[:20])\n",
    "        \n",
    "        \n",
    "    while True: # falling\n",
    "        #print(\"new falling loop\")\n",
    "        #print(curr_rock_positions)\n",
    "        \n",
    "        #print(curr_index, text[curr_index])\n",
    "        \n",
    "        if text[curr_index] == \"<\":\n",
    "            #print(\"left\")\n",
    "            hit = False\n",
    "            for rp in curr_rock_positions:\n",
    "                #print(\"checking for left collisions\", rp)\n",
    "                if arr[rp[0]-1][rp[1]] == 1: # hit a rock or a wall\n",
    "                    hit = True\n",
    "            if not hit:\n",
    "                #print(\"moved left\")\n",
    "                new_rock_positions = [(rp[0]-1, rp[1]) for rp in curr_rock_positions]\n",
    "                curr_rock_positions = new_rock_positions\n",
    "        else:\n",
    "            #print(\"right\")\n",
    "            hit = False\n",
    "            for rp in curr_rock_positions:\n",
    "                #print(\"checking for right collisions\", rp)\n",
    "                if arr[rp[0]+1][rp[1]] == 1: # hit a rock or a wall\n",
    "                    hit = True\n",
    "            if not hit:\n",
    "                #print(\"moved right\")\n",
    "                new_rock_positions = [(rp[0]+1, rp[1]) for rp in curr_rock_positions]\n",
    "                curr_rock_positions = new_rock_positions\n",
    "        \n",
    "        curr_index += 1\n",
    "        if curr_index == len(text):\n",
    "            curr_index = 0\n",
    "\n",
    "        stop = False\n",
    "        for rp in curr_rock_positions:\n",
    "            #print(\"checking for down collisions\", rp)\n",
    "            if arr[rp[0]][rp[1]-1] == 1: # hit a rock or a wall\n",
    "                #print(\"stopping\")\n",
    "                stop = True\n",
    "        if stop:\n",
    "            #print(\"stopping\")\n",
    "            for rp in curr_rock_positions:\n",
    "                #print(\"adding\", rp)\n",
    "                arr[rp[0]][rp[1]] = 1\n",
    "                max_rock_height = max(max_rock_height, rp[1])\n",
    "            break\n",
    "        else:\n",
    "            new_rock_positions = [(rp[0], rp[1]-1) for rp in curr_rock_positions]\n",
    "            curr_rock_positions = new_rock_positions\n",
    "        \n",
    "\n",
    "\n",
    "print(max_rock_height)\n"
   ]
  },
  {
   "cell_type": "code",
   "execution_count": 8,
   "id": "bed39e21-1478-4579-99c0-9fc936d005eb",
   "metadata": {},
   "outputs": [],
   "source": [
    "diffs = []\n",
    "for i in range(len(heights_over_time) - 1):\n",
    "    diffs.append(heights_over_time[i+1] - heights_over_time[i])\n"
   ]
  },
  {
   "cell_type": "code",
   "execution_count": 15,
   "id": "cba04f1e-1c9e-4153-a047-d13ab4def1cc",
   "metadata": {},
   "outputs": [
    {
     "name": "stdout",
     "output_type": "stream",
     "text": [
      "1\n",
      "1\n",
      "1\n",
      "1\n",
      "1\n",
      "1\n",
      "1\n",
      "1\n",
      "1\n",
      "1\n",
      "1\n",
      "1\n",
      "1\n",
      "1\n",
      "1\n",
      "1\n",
      "1\n",
      "1\n",
      "1\n",
      "1\n",
      "1\n",
      "1\n",
      "1\n",
      "1\n",
      "1\n",
      "1\n",
      "1\n",
      "1\n",
      "1\n",
      "1\n",
      "1\n",
      "1\n",
      "1\n",
      "1\n",
      "1\n",
      "1\n",
      "1\n",
      "1\n",
      "1\n",
      "1\n",
      "1\n",
      "1\n",
      "1\n",
      "1\n",
      "1\n",
      "1\n",
      "1\n",
      "1\n",
      "1\n",
      "1\n"
     ]
    }
   ],
   "source": [
    "for i in range(50):\n",
    "\n",
    "    print(diffs[i * 575])"
   ]
  },
  {
   "cell_type": "code",
   "execution_count": 10,
   "id": "a2b287ff-2ce1-4659-883d-754035cf16e3",
   "metadata": {},
   "outputs": [
    {
     "name": "stdout",
     "output_type": "stream",
     "text": [
      "28571428571.42857\n"
     ]
    }
   ],
   "source": [
    "print(1_000_000_000_000 / 35)"
   ]
  },
  {
   "cell_type": "code",
   "execution_count": 11,
   "id": "5e088535-25a4-4d82-817e-cd5cc7489219",
   "metadata": {},
   "outputs": [
    {
     "data": {
      "text/plain": [
       "'from scipy.fft import fft, fftfreq\\n\\nN = len(diffs)\\nT = 1\\n\\nx = np.linspace(0.0, N*T, N, endpoint=False)\\n\\ny = diffs\\n\\nyf = fft(y)\\n\\nxf = fftfreq(N, T)[:N//2]\\n\\n\\nplt.plot(xf, 2.0/N * np.abs(yf[0:N//2]))\\n\\nplt.grid()\\n\\nplt.show()'"
      ]
     },
     "execution_count": 11,
     "metadata": {},
     "output_type": "execute_result"
    }
   ],
   "source": [
    "\"\"\"from scipy.fft import fft, fftfreq\n",
    "\n",
    "N = len(diffs)\n",
    "T = 1\n",
    "\n",
    "x = np.linspace(0.0, N*T, N, endpoint=False)\n",
    "\n",
    "y = diffs\n",
    "\n",
    "yf = fft(y)\n",
    "\n",
    "xf = fftfreq(N, T)[:N//2]\n",
    "\n",
    "\n",
    "plt.plot(xf, 2.0/N * np.abs(yf[0:N//2]))\n",
    "\n",
    "plt.grid()\n",
    "\n",
    "plt.show()\"\"\""
   ]
  },
  {
   "cell_type": "code",
   "execution_count": 12,
   "id": "fbe39aaa-d117-4ff9-827d-786b562c86c2",
   "metadata": {},
   "outputs": [
    {
     "name": "stdout",
     "output_type": "stream",
     "text": [
      "success! 575 0\n"
     ]
    },
    {
     "ename": "KeyboardInterrupt",
     "evalue": "",
     "output_type": "error",
     "traceback": [
      "\u001b[0;31m---------------------------------------------------------------------------\u001b[0m",
      "\u001b[0;31mKeyboardInterrupt\u001b[0m                         Traceback (most recent call last)",
      "\u001b[0;32m<ipython-input-12-f5509023d9e8>\u001b[0m in \u001b[0;36m<module>\u001b[0;34m\u001b[0m\n\u001b[1;32m      6\u001b[0m             \u001b[0;32mif\u001b[0m \u001b[0mspacing\u001b[0m\u001b[0;34m*\u001b[0m\u001b[0;34m(\u001b[0m\u001b[0mi\u001b[0m\u001b[0;34m+\u001b[0m\u001b[0;36m1\u001b[0m\u001b[0;34m)\u001b[0m\u001b[0;34m+\u001b[0m\u001b[0moffset\u001b[0m \u001b[0;34m>=\u001b[0m \u001b[0mlen\u001b[0m\u001b[0;34m(\u001b[0m\u001b[0mdiffs\u001b[0m\u001b[0;34m)\u001b[0m\u001b[0;34m:\u001b[0m\u001b[0;34m\u001b[0m\u001b[0;34m\u001b[0m\u001b[0m\n\u001b[1;32m      7\u001b[0m                 \u001b[0;32mbreak\u001b[0m\u001b[0;34m\u001b[0m\u001b[0;34m\u001b[0m\u001b[0m\n\u001b[0;32m----> 8\u001b[0;31m             \u001b[0;32mif\u001b[0m \u001b[0mdiffs\u001b[0m\u001b[0;34m[\u001b[0m\u001b[0mspacing\u001b[0m\u001b[0;34m*\u001b[0m\u001b[0;34m(\u001b[0m\u001b[0mi\u001b[0m\u001b[0;34m+\u001b[0m\u001b[0;36m1\u001b[0m\u001b[0;34m)\u001b[0m\u001b[0;34m+\u001b[0m\u001b[0moffset\u001b[0m\u001b[0;34m]\u001b[0m \u001b[0;34m!=\u001b[0m \u001b[0mdiffs\u001b[0m\u001b[0;34m[\u001b[0m\u001b[0mspacing\u001b[0m\u001b[0;34m*\u001b[0m\u001b[0mi\u001b[0m\u001b[0;34m+\u001b[0m\u001b[0moffset\u001b[0m\u001b[0;34m]\u001b[0m\u001b[0;34m:\u001b[0m\u001b[0;34m\u001b[0m\u001b[0;34m\u001b[0m\u001b[0m\n\u001b[0m\u001b[1;32m      9\u001b[0m                 \u001b[0mall_zero\u001b[0m \u001b[0;34m=\u001b[0m \u001b[0;32mFalse\u001b[0m\u001b[0;34m\u001b[0m\u001b[0;34m\u001b[0m\u001b[0m\n\u001b[1;32m     10\u001b[0m                 \u001b[0;32mbreak\u001b[0m\u001b[0;34m\u001b[0m\u001b[0;34m\u001b[0m\u001b[0m\n",
      "\u001b[0;31mKeyboardInterrupt\u001b[0m: "
     ]
    }
   ],
   "source": [
    "for spacing in range(len(diffs)):\n",
    "    all_zero = True\n",
    "    for offset in range(spacing):\n",
    "        i = 0\n",
    "        while True:\n",
    "            if spacing*(i+1)+offset >= len(diffs):\n",
    "                break\n",
    "            if diffs[spacing*(i+1)+offset] != diffs[spacing*i+offset]:\n",
    "                all_zero = False\n",
    "                break\n",
    "            i += 1\n",
    "\n",
    "        if all_zero:\n",
    "            print(\"success!\", spacing, offset)"
   ]
  },
  {
   "cell_type": "code",
   "execution_count": null,
   "id": "9af78c93-b692-4b9c-a64c-54eb1c06930f",
   "metadata": {},
   "outputs": [],
   "source": []
  },
  {
   "cell_type": "code",
   "execution_count": null,
   "id": "3649ac53-87c8-4701-afba-e1e83226b8eb",
   "metadata": {},
   "outputs": [],
   "source": []
  },
  {
   "cell_type": "code",
   "execution_count": null,
   "id": "6631004b-2efc-4448-a33d-d767ec76ab6d",
   "metadata": {},
   "outputs": [],
   "source": []
  },
  {
   "cell_type": "code",
   "execution_count": null,
   "id": "7013981c-9861-45b1-a006-247a83f6cb82",
   "metadata": {},
   "outputs": [],
   "source": []
  }
 ],
 "metadata": {
  "kernelspec": {
   "display_name": "base",
   "language": "python",
   "name": "base"
  },
  "language_info": {
   "codemirror_mode": {
    "name": "ipython",
    "version": 3
   },
   "file_extension": ".py",
   "mimetype": "text/x-python",
   "name": "python",
   "nbconvert_exporter": "python",
   "pygments_lexer": "ipython3",
   "version": "3.7.10"
  }
 },
 "nbformat": 4,
 "nbformat_minor": 5
}
