{
 "cells": [
  {
   "cell_type": "code",
   "execution_count": 1,
   "id": "1cf85486-d2c2-4849-9ba7-93badc042e4e",
   "metadata": {},
   "outputs": [],
   "source": [
    "import numpy as np"
   ]
  },
  {
   "cell_type": "code",
   "execution_count": 2,
   "id": "0a22ef8f-14c7-4e84-8347-b3c5cf8010c5",
   "metadata": {},
   "outputs": [],
   "source": [
    "with open(\"input_day_08.txt\") as file:\n",
    "    #with open(\"input_day_08_test.txt\") as file:\n",
    "        \n",
    "    lines = file.read().strip().split(\"\\n\")\n",
    "    arr = [[int(c) for c in l] for l in lines]\n",
    "\n"
   ]
  },
  {
   "cell_type": "code",
   "execution_count": 3,
   "id": "168941f1-69e9-4d1e-9907-927ea0f6827a",
   "metadata": {},
   "outputs": [
    {
     "data": {
      "text/plain": [
       "[3, 0, 3, 7, 3]"
      ]
     },
     "execution_count": 3,
     "metadata": {},
     "output_type": "execute_result"
    }
   ],
   "source": [
    "arr[0][:10]"
   ]
  },
  {
   "cell_type": "code",
   "execution_count": 4,
   "id": "9f3917bb-fb27-422b-b222-849c54c3686e",
   "metadata": {},
   "outputs": [],
   "source": [
    "#arr"
   ]
  },
  {
   "cell_type": "code",
   "execution_count": 5,
   "id": "f29d0bdb-5f7e-49d3-ac52-949c19068ce4",
   "metadata": {},
   "outputs": [
    {
     "data": {
      "text/plain": [
       "[4, 3, 2, 1, 0]"
      ]
     },
     "execution_count": 5,
     "metadata": {},
     "output_type": "execute_result"
    }
   ],
   "source": [
    "list(range(5-1, 0-1, -1))"
   ]
  },
  {
   "cell_type": "code",
   "execution_count": 6,
   "id": "cddabca4-86f7-4cba-8696-eb5675132823",
   "metadata": {},
   "outputs": [],
   "source": [
    "num_vis = 0\n",
    "\n",
    "num_rows = len(arr)\n",
    "num_cols = len(arr[0])\n",
    "\n",
    "for r in range(num_rows):\n",
    "    for c in range(num_cols):     \n",
    "        \n",
    "        visible = False\n",
    "        \n",
    "        visible_str = \"\"\n",
    "        \n",
    "        # top to bottom\n",
    "        max_h = -1\n",
    "        for ri in range(r):\n",
    "            #print(ri, arr[ri][c])\n",
    "            if arr[ri][c] > max_h:\n",
    "                max_h = arr[ri][c]\n",
    "        if max_h < arr[r][c]:\n",
    "            visible = True\n",
    "            visible_str += \"top, \"\n",
    "        \n",
    "        # bottom to top\n",
    "        max_h = -1\n",
    "        for ri in range(num_rows - 1, r, -1):\n",
    "            #print(ri, arr[ri][c])\n",
    "            if arr[ri][c] > max_h:\n",
    "                max_h = arr[ri][c]\n",
    "        if max_h < arr[r][c]:\n",
    "            visible = True\n",
    "            visible_str += \"bottom, \"\n",
    "            \n",
    "        # left to right\n",
    "        max_h = -1\n",
    "        for ci in range(c):\n",
    "            if arr[r][ci] > max_h:\n",
    "                max_h = arr[r][ci]\n",
    "        if max_h < arr[r][c]:\n",
    "            visible = True\n",
    "            visible_str += \"left, \"\n",
    "\n",
    "        # right to left\n",
    "        max_h = -1\n",
    "        for ci in range(num_cols - 1, c, -1):\n",
    "            if arr[r][ci] > max_h:\n",
    "                max_h = arr[r][ci]\n",
    "        if max_h < arr[r][c]:\n",
    "            visible = True\n",
    "            visible_str += \"right, \"\n",
    "            \n",
    "        if visible:\n",
    "            #print(num_vis, \"visible\", r, c, arr[r][c], visible_str)\n",
    "            num_vis += 1\n",
    "                \n",
    "        "
   ]
  },
  {
   "cell_type": "code",
   "execution_count": 7,
   "id": "4e1619ac-1c82-4eaf-b894-5dea76b19145",
   "metadata": {},
   "outputs": [
    {
     "data": {
      "text/plain": [
       "21"
      ]
     },
     "execution_count": 7,
     "metadata": {},
     "output_type": "execute_result"
    }
   ],
   "source": [
    "num_vis"
   ]
  },
  {
   "cell_type": "code",
   "execution_count": 11,
   "id": "6f46c698-3b19-44d4-b705-56146125190a",
   "metadata": {},
   "outputs": [],
   "source": [
    "max_scenic_score = 0\n",
    "\n",
    "num_rows = len(arr)\n",
    "num_cols = len(arr[0])\n",
    "\n",
    "for r in range(num_rows):\n",
    "    for c in range(num_cols):     \n",
    "        \n",
    "    #for r in [3]:\n",
    "        #for c in [2]:  \n",
    "        \n",
    "        \n",
    "        \n",
    "        # top to bottom\n",
    "        num_top = 0\n",
    "        for ri in range(r + 1, num_rows):\n",
    "            num_top += 1\n",
    "            if arr[ri][c] >= arr[r][c]:\n",
    "                break\n",
    "            \n",
    "        # bottom to top\n",
    "        num_bottom = 0\n",
    "        for ri in range(r-1, -1, -1):\n",
    "            #print(\"bottom to top\", ri, arr[ri][c])\n",
    "            num_bottom += 1\n",
    "            if arr[ri][c] >= arr[r][c]:\n",
    "                break\n",
    "            \n",
    "        # left to right\n",
    "        num_left = 0\n",
    "        for ci in range(c + 1, num_cols):\n",
    "            num_left += 1\n",
    "            if arr[r][ci] >= arr[r][c]:\n",
    "                break\n",
    "            \n",
    "        # right to left\n",
    "        num_right = 0\n",
    "        for ci in range(c-1, -1, -1):\n",
    "            num_right += 1\n",
    "            if arr[r][ci] >= arr[r][c]:\n",
    "                break\n",
    "            \n",
    "        #print(r, c, arr[r][c])\n",
    "        #print(\"    \", num_top, num_bottom, num_left, num_right)\n",
    "        #print(\"        \", num_top * num_bottom * num_left * num_right)\n",
    "            \n",
    "        max_scenic_score = max(max_scenic_score, num_top * num_bottom * num_left * num_right)"
   ]
  },
  {
   "cell_type": "code",
   "execution_count": 9,
   "id": "c8ab9434-eea2-499f-a483-2c65ed03cffb",
   "metadata": {},
   "outputs": [
    {
     "data": {
      "text/plain": [
       "8"
      ]
     },
     "execution_count": 9,
     "metadata": {},
     "output_type": "execute_result"
    }
   ],
   "source": [
    "max_scenic_score"
   ]
  },
  {
   "cell_type": "code",
   "execution_count": null,
   "id": "43f6f2e2-0fb5-4fe6-bf50-1cbfbba7b962",
   "metadata": {},
   "outputs": [],
   "source": []
  }
 ],
 "metadata": {
  "kernelspec": {
   "display_name": "base",
   "language": "python",
   "name": "base"
  },
  "language_info": {
   "codemirror_mode": {
    "name": "ipython",
    "version": 3
   },
   "file_extension": ".py",
   "mimetype": "text/x-python",
   "name": "python",
   "nbconvert_exporter": "python",
   "pygments_lexer": "ipython3",
   "version": "3.7.10"
  }
 },
 "nbformat": 4,
 "nbformat_minor": 5
}
