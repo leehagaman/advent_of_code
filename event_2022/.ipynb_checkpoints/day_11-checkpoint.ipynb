{
 "cells": [
  {
   "cell_type": "code",
   "execution_count": 1,
   "id": "1cf85486-d2c2-4849-9ba7-93badc042e4e",
   "metadata": {},
   "outputs": [],
   "source": [
    "import numpy as np\n",
    "\n",
    "from tqdm.notebook import tqdm"
   ]
  },
  {
   "cell_type": "code",
   "execution_count": 2,
   "id": "0a22ef8f-14c7-4e84-8347-b3c5cf8010c5",
   "metadata": {},
   "outputs": [],
   "source": [
    "#with open(\"input_day_11_test.txt\") as file:\n",
    "with open(\"input_day_11.txt\") as file:\n",
    "    \n",
    "    text = file.read()\n",
    "\n"
   ]
  },
  {
   "cell_type": "code",
   "execution_count": 3,
   "id": "a5eed334-fba2-4330-b44e-93c4399b9dfc",
   "metadata": {},
   "outputs": [],
   "source": [
    "small_test = False\n",
    "\n",
    "if small_test:\n",
    "\n",
    "    text = \"\"\"Monkey 0:\n",
    "      Starting items: 79, 98\n",
    "      Operation: new = old * 19\n",
    "      Test: divisible by 23\n",
    "        If true: throw to monkey 2\n",
    "        If false: throw to monkey 3\n",
    "\n",
    "    Monkey 1:\n",
    "      Starting items: 54, 65, 75, 74\n",
    "      Operation: new = old + 6\n",
    "      Test: divisible by 19\n",
    "        If true: throw to monkey 2\n",
    "        If false: throw to monkey 0\n",
    "\n",
    "    Monkey 2:\n",
    "      Starting items: 79, 60, 97\n",
    "      Operation: new = old * old\n",
    "      Test: divisible by 13\n",
    "        If true: throw to monkey 1\n",
    "        If false: throw to monkey 3\n",
    "\n",
    "    Monkey 3:\n",
    "      Starting items: 74\n",
    "      Operation: new = old + 3\n",
    "      Test: divisible by 17\n",
    "        If true: throw to monkey 0\n",
    "        If false: throw to monkey 1\n",
    "    \"\"\""
   ]
  },
  {
   "cell_type": "code",
   "execution_count": 4,
   "id": "f8f37929-0b2d-48ce-8bc3-7b6c7297554d",
   "metadata": {},
   "outputs": [],
   "source": [
    "monkeys = text.strip().split(\"\\n\\n\")\n",
    "\n",
    "current_holdings = []\n",
    "op_strings = []\n",
    "divisibilities = []\n",
    "true_throws = []\n",
    "false_throws = []\n",
    "\n",
    "for m in monkeys:\n",
    "    \n",
    "    lines = m.split(\"\\n\")\n",
    "    \n",
    "    current_holdings_strs = lines[1].split()[2:]\n",
    "    current_m_holdings = []\n",
    "    for x in current_holdings_strs:\n",
    "        if x[-1] == \",\":\n",
    "            current_m_holdings.append(int(x[:-1]))\n",
    "        else:\n",
    "            current_m_holdings.append(int(x))\n",
    "    current_holdings.append(current_m_holdings)\n",
    "    \n",
    "    op_strings.append(lines[2].split(\"=\")[1].strip())\n",
    "    \n",
    "    divisibilities.append(int(lines[3].split(\"by\")[1].strip()))\n",
    "    \n",
    "    true_throws.append(int(lines[4].split(\"monkey\")[1].strip()))\n",
    "    false_throws.append(int(lines[5].split(\"monkey\")[1].strip()))\n"
   ]
  },
  {
   "cell_type": "code",
   "execution_count": 5,
   "id": "91d518c6-1373-4e23-88d9-db1da50b4e07",
   "metadata": {},
   "outputs": [
    {
     "data": {
      "text/plain": [
       "[[79, 98], [54, 65, 75, 74], [79, 60, 97], [74]]"
      ]
     },
     "execution_count": 5,
     "metadata": {},
     "output_type": "execute_result"
    }
   ],
   "source": [
    "current_holdings"
   ]
  },
  {
   "cell_type": "code",
   "execution_count": 6,
   "id": "2945be7b-3e11-4850-ac3d-5d4060d62250",
   "metadata": {},
   "outputs": [
    {
     "data": {
      "text/plain": [
       "['old * 19', 'old + 6', 'old * old', 'old + 3']"
      ]
     },
     "execution_count": 6,
     "metadata": {},
     "output_type": "execute_result"
    }
   ],
   "source": [
    "op_strings"
   ]
  },
  {
   "cell_type": "code",
   "execution_count": 7,
   "id": "1a3ed101-c8a0-4c08-a7ed-1359975573a3",
   "metadata": {},
   "outputs": [
    {
     "data": {
      "text/plain": [
       "[23, 19, 13, 17]"
      ]
     },
     "execution_count": 7,
     "metadata": {},
     "output_type": "execute_result"
    }
   ],
   "source": [
    "divisibilities"
   ]
  },
  {
   "cell_type": "code",
   "execution_count": 8,
   "id": "b7907e1a-0a9d-48eb-9710-3461cd4de006",
   "metadata": {},
   "outputs": [
    {
     "data": {
      "text/plain": [
       "96577"
      ]
     },
     "execution_count": 8,
     "metadata": {},
     "output_type": "execute_result"
    }
   ],
   "source": [
    "total_divisibility = 1\n",
    "for d in divisibilities:\n",
    "    total_divisibility *= d\n",
    "total_divisibility"
   ]
  },
  {
   "cell_type": "code",
   "execution_count": 9,
   "id": "4c5e7393-27a8-4906-9ad2-544207c52ce6",
   "metadata": {},
   "outputs": [
    {
     "data": {
      "text/plain": [
       "[2, 2, 1, 0]"
      ]
     },
     "execution_count": 9,
     "metadata": {},
     "output_type": "execute_result"
    }
   ],
   "source": [
    "true_throws"
   ]
  },
  {
   "cell_type": "code",
   "execution_count": 10,
   "id": "d86790fc-3995-4344-baac-84c924c77b5a",
   "metadata": {},
   "outputs": [
    {
     "data": {
      "text/plain": [
       "[3, 0, 3, 1]"
      ]
     },
     "execution_count": 10,
     "metadata": {},
     "output_type": "execute_result"
    }
   ],
   "source": [
    "false_throws"
   ]
  },
  {
   "cell_type": "code",
   "execution_count": 11,
   "id": "badd84b0-be65-4ba5-8574-628ac69f39dc",
   "metadata": {},
   "outputs": [],
   "source": [
    "detailed_print = False\n",
    "round_print = False\n",
    "\n",
    "examine_counts = [0 for _ in range(len(current_holdings))]\n",
    "\n",
    "for r in range(20):\n",
    "    for m in range(len(current_holdings)):\n",
    "        for i in range(len(current_holdings[m])):\n",
    "            old = current_holdings[m][0] # always examine the leftmost item\n",
    "            new = eval(op_strings[m])\n",
    "            new = new // 3\n",
    "            examine_counts[m] += 1\n",
    "            \n",
    "            #print(old, new)\n",
    "            current_holdings[m] = current_holdings[m][1:] # removing the item from this monkey\n",
    "            if new % divisibilities[m] == 0:\n",
    "                current_holdings[true_throws[m]] = current_holdings[true_throws[m]] + [new]\n",
    "            else:\n",
    "                current_holdings[false_throws[m]] = current_holdings[false_throws[m]] + [new]\n",
    "        \n",
    "        if detailed_print:\n",
    "            print(\"\\nAfter round\", r + 1, \"monkey\", m)\n",
    "            for m in range(len(current_holdings)):\n",
    "                print(\"Monkey\", m, \":\", current_holdings[m])\n",
    "        \n",
    "    if round_print:\n",
    "        print(\"\\nAfter round\", r + 1)\n",
    "        for m in range(len(current_holdings)):\n",
    "            print(\"Monkey\", m, \":\", current_holdings[m])\n"
   ]
  },
  {
   "cell_type": "code",
   "execution_count": 12,
   "id": "a9bfa11f-0cae-4f18-9376-fdd9ddb22b83",
   "metadata": {},
   "outputs": [
    {
     "name": "stdout",
     "output_type": "stream",
     "text": [
      "10605\n"
     ]
    }
   ],
   "source": [
    "sorted_counts = sorted(examine_counts)\n",
    "\n",
    "print(sorted_counts[-1] * sorted_counts[-2])"
   ]
  },
  {
   "cell_type": "code",
   "execution_count": 13,
   "id": "a2550073-7b78-4272-883b-cb3383d338b0",
   "metadata": {},
   "outputs": [],
   "source": [
    "monkeys = text.strip().split(\"\\n\\n\")\n",
    "\n",
    "current_holdings = []\n",
    "op_strings = []\n",
    "divisibilities = []\n",
    "true_throws = []\n",
    "false_throws = []\n",
    "\n",
    "for m in monkeys:\n",
    "    \n",
    "    lines = m.split(\"\\n\")\n",
    "    \n",
    "    current_holdings_strs = lines[1].split()[2:]\n",
    "    current_m_holdings = []\n",
    "    for x in current_holdings_strs:\n",
    "        if x[-1] == \",\":\n",
    "            current_m_holdings.append(int(x[:-1]))\n",
    "        else:\n",
    "            current_m_holdings.append(int(x))\n",
    "    current_holdings.append(current_m_holdings)\n",
    "    \n",
    "    op_strings.append(lines[2].split(\"=\")[1].strip())\n",
    "    \n",
    "    divisibilities.append(int(lines[3].split(\"by\")[1].strip()))\n",
    "    \n",
    "    true_throws.append(int(lines[4].split(\"monkey\")[1].strip()))\n",
    "    false_throws.append(int(lines[5].split(\"monkey\")[1].strip()))\n"
   ]
  },
  {
   "cell_type": "code",
   "execution_count": 14,
   "id": "e0abe419-2737-4526-8e2c-dbc5d11986d2",
   "metadata": {},
   "outputs": [
    {
     "data": {
      "application/vnd.jupyter.widget-view+json": {
       "model_id": "95518da9f8c0470c99e9a502b8b601a5",
       "version_major": 2,
       "version_minor": 0
      },
      "text/plain": [
       "  0%|          | 0/10000 [00:00<?, ?it/s]"
      ]
     },
     "metadata": {},
     "output_type": "display_data"
    }
   ],
   "source": [
    "detailed_print = False\n",
    "round_print = False\n",
    "\n",
    "examine_counts = [0 for _ in range(len(current_holdings))]\n",
    "\n",
    "for r in tqdm(range(10000)):\n",
    "    for m in range(len(current_holdings)):\n",
    "        for i in range(len(current_holdings[m])):\n",
    "            old = current_holdings[m][0] # always examine the leftmost item\n",
    "            new = eval(op_strings[m])\n",
    "            new = new // 1\n",
    "            new = new % total_divisibility\n",
    "            examine_counts[m] += 1\n",
    "            \n",
    "            #print(old, new)\n",
    "            current_holdings[m] = current_holdings[m][1:] # removing the item from this monkey\n",
    "            if new % divisibilities[m] == 0:\n",
    "                current_holdings[true_throws[m]] = current_holdings[true_throws[m]] + [new]\n",
    "            else:\n",
    "                current_holdings[false_throws[m]] = current_holdings[false_throws[m]] + [new]\n",
    "        \n",
    "        if detailed_print:\n",
    "            print(\"\\nAfter round\", r + 1, \"monkey\", m)\n",
    "            for m in range(len(current_holdings)):\n",
    "                print(\"Monkey\", m, \":\", current_holdings[m])\n",
    "        \n",
    "    if round_print:\n",
    "        print(\"\\nAfter round\", r + 1)\n",
    "        for m in range(len(current_holdings)):\n",
    "            print(\"Monkey\", m, \":\", current_holdings[m])\n"
   ]
  },
  {
   "cell_type": "code",
   "execution_count": 15,
   "id": "a5c05ba3-e48c-4701-90f7-0706afd9f4cb",
   "metadata": {},
   "outputs": [
    {
     "data": {
      "text/plain": [
       "[52166, 47830, 1938, 52013]"
      ]
     },
     "execution_count": 15,
     "metadata": {},
     "output_type": "execute_result"
    }
   ],
   "source": [
    "examine_counts"
   ]
  },
  {
   "cell_type": "code",
   "execution_count": 16,
   "id": "ff4d0da2-159c-4380-950f-78f36b854c75",
   "metadata": {},
   "outputs": [
    {
     "name": "stdout",
     "output_type": "stream",
     "text": [
      "2713310158\n"
     ]
    }
   ],
   "source": [
    "sorted_counts = sorted(examine_counts)\n",
    "\n",
    "print(sorted_counts[-1] * sorted_counts[-2])"
   ]
  },
  {
   "cell_type": "code",
   "execution_count": 17,
   "id": "6cc8fa92-3a0f-4ea0-947d-271eec9abde4",
   "metadata": {},
   "outputs": [],
   "source": [
    "# 10:10 start"
   ]
  }
 ],
 "metadata": {
  "kernelspec": {
   "display_name": "base",
   "language": "python",
   "name": "base"
  },
  "language_info": {
   "codemirror_mode": {
    "name": "ipython",
    "version": 3
   },
   "file_extension": ".py",
   "mimetype": "text/x-python",
   "name": "python",
   "nbconvert_exporter": "python",
   "pygments_lexer": "ipython3",
   "version": "3.7.10"
  }
 },
 "nbformat": 4,
 "nbformat_minor": 5
}
