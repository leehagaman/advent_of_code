{
 "cells": [
  {
   "cell_type": "code",
   "execution_count": null,
   "id": "1cf85486-d2c2-4849-9ba7-93badc042e4e",
   "metadata": {},
   "outputs": [],
   "source": [
    "import numpy as np"
   ]
  },
  {
   "cell_type": "code",
   "execution_count": null,
   "id": "0a22ef8f-14c7-4e84-8347-b3c5cf8010c5",
   "metadata": {},
   "outputs": [],
   "source": [
    "with open(\"input_day_03.txt\") as file:\n",
    "    #with open(\"input_day_02_test.txt\") as file:\n",
    "    lines = file.read().strip().split(\"\\n\")\n",
    "    #rounds = [line.split(\" \") for line in lines]\n",
    "    \n",
    "print(lines[:10])\n",
    "    "
   ]
  },
  {
   "cell_type": "code",
   "execution_count": null,
   "id": "43cb4199-2af5-49d3-af3a-cca96faea732",
   "metadata": {},
   "outputs": [],
   "source": [
    "p_tot = 0\n",
    "\n",
    "for r in lines:\n",
    "    c1 = r[:int(len(r)/2)]\n",
    "    c2 = r[int(len(r)/2):]\n",
    "    \n",
    "    for i in c1:\n",
    "        if i in c2:\n",
    "            if i.isupper():\n",
    "                p = ord(i) - 38\n",
    "            if i.islower():\n",
    "                p = ord(i) - 96\n",
    "                \n",
    "    p_tot.append(p)\n",
    "            \n",
    "    \n",
    "p_tot"
   ]
  },
  {
   "cell_type": "code",
   "execution_count": null,
   "id": "3b881738-8afb-4206-b4eb-a2868774e12e",
   "metadata": {},
   "outputs": [],
   "source": [
    "ord(\"A\") - 38"
   ]
  },
  {
   "cell_type": "code",
   "execution_count": null,
   "id": "be089fd9-a624-4e49-ae6a-8ce79aa45884",
   "metadata": {},
   "outputs": [],
   "source": [
    "ord(\"a\") - 96"
   ]
  },
  {
   "cell_type": "code",
   "execution_count": null,
   "id": "49f9592a-af14-479c-9795-94d5c080436c",
   "metadata": {},
   "outputs": [],
   "source": []
  }
 ],
 "metadata": {
  "kernelspec": {
   "display_name": "base",
   "language": "python",
   "name": "base"
  },
  "language_info": {
   "codemirror_mode": {
    "name": "ipython",
    "version": 3
   },
   "file_extension": ".py",
   "mimetype": "text/x-python",
   "name": "python",
   "nbconvert_exporter": "python",
   "pygments_lexer": "ipython3",
   "version": "3.7.10"
  }
 },
 "nbformat": 4,
 "nbformat_minor": 5
}
