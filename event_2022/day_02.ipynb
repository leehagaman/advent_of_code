{
 "cells": [
  {
   "cell_type": "code",
   "execution_count": 1,
   "id": "1cf85486-d2c2-4849-9ba7-93badc042e4e",
   "metadata": {},
   "outputs": [],
   "source": [
    "import numpy as np"
   ]
  },
  {
   "cell_type": "code",
   "execution_count": 2,
   "id": "0a22ef8f-14c7-4e84-8347-b3c5cf8010c5",
   "metadata": {},
   "outputs": [
    {
     "name": "stdout",
     "output_type": "stream",
     "text": [
      "[['A', 'Z'], ['A', 'Y'], ['B', 'X'], ['B', 'X'], ['C', 'X'], ['B', 'X'], ['A', 'X'], ['A', 'X'], ['C', 'X'], ['A', 'X']]\n"
     ]
    }
   ],
   "source": [
    "with open(\"input_day_02.txt\") as file:\n",
    "    #with open(\"input_day_02_test.txt\") as file:\n",
    "    lines = file.read().strip().split(\"\\n\")\n",
    "    rounds = [line.split(\" \") for line in lines]\n",
    "    \n",
    "print(rounds[:10])\n",
    "    "
   ]
  },
  {
   "cell_type": "code",
   "execution_count": 3,
   "id": "0b37a25d-b05c-4773-8554-5f16b90ab05c",
   "metadata": {},
   "outputs": [
    {
     "data": {
      "text/plain": [
       "11150"
      ]
     },
     "execution_count": 3,
     "metadata": {},
     "output_type": "execute_result"
    }
   ],
   "source": [
    "total = 0\n",
    "\n",
    "for r in rounds:\n",
    "    \n",
    "    if r[1] == \"X\": total += 1\n",
    "    if r[1] == \"Y\": total += 2\n",
    "    if r[1] == \"Z\": total += 3\n",
    "    \n",
    "    \n",
    "    if r[0] == \"A\" and r[1] == \"Y\": # paper beats rock\n",
    "        total += 6\n",
    "    elif r[0] == \"A\" and r[1] == \"Z\": # scissors loses to rock\n",
    "        total += 0\n",
    "    elif r[0] == \"B\" and r[1] == \"X\": # rock loses to paper\n",
    "        total += 0\n",
    "    elif r[0] == \"B\" and r[1] == \"Z\": # scissors beats paper\n",
    "        total += 6\n",
    "    elif r[0] == \"C\" and r[1] == \"X\": # rock beats scissors\n",
    "        total += 6\n",
    "    elif r[0] == \"C\" and r[1] == \"Y\": # rock loses to paper\n",
    "        total += 0\n",
    "    else: # tie\n",
    "        total += 3\n",
    "\n",
    "total"
   ]
  },
  {
   "cell_type": "code",
   "execution_count": 4,
   "id": "28cdde8a-1a97-4b2f-a859-7a8b7be4dd14",
   "metadata": {},
   "outputs": [
    {
     "data": {
      "text/plain": [
       "8295"
      ]
     },
     "execution_count": 4,
     "metadata": {},
     "output_type": "execute_result"
    }
   ],
   "source": [
    "total = 0\n",
    "\n",
    "for r in rounds:\n",
    "    \n",
    "    if r[1] == \"X\": total += 0\n",
    "    if r[1] == \"Y\": total += 3\n",
    "    if r[1] == \"Z\": total += 6\n",
    "        \n",
    "    if r[0] == \"A\" and r[1] == \"Z\": # paper beats rock\n",
    "        total += 2\n",
    "    elif r[0] == \"B\" and r[1] == \"Z\": # scissors beats paper\n",
    "        total += 3\n",
    "    elif r[0] == \"C\" and r[1] == \"Z\": # rock beats scissors\n",
    "        total += 1\n",
    "    elif r[0] == \"A\" and r[1] == \"Y\": # rock ties rock\n",
    "        total += 1\n",
    "    elif r[0] == \"B\" and r[1] == \"Y\": # paper ties paper\n",
    "        total += 2\n",
    "    elif r[0] == \"C\" and r[1] == \"Y\": # scissors ties scissors\n",
    "        total += 3\n",
    "    elif r[0] == \"A\" and r[1] == \"X\": # scissors loses to rock\n",
    "        total += 3\n",
    "    elif r[0] == \"B\" and r[1] == \"X\": # rock loses to paper\n",
    "        total += 1\n",
    "    elif r[0] == \"C\" and r[1] == \"X\": # paper loses to scissors\n",
    "        total += 2\n",
    "        \n",
    "    #print(total)\n",
    "    \n",
    "total"
   ]
  },
  {
   "cell_type": "code",
   "execution_count": null,
   "id": "43cb4199-2af5-49d3-af3a-cca96faea732",
   "metadata": {},
   "outputs": [],
   "source": []
  }
 ],
 "metadata": {
  "kernelspec": {
   "display_name": "base",
   "language": "python",
   "name": "base"
  },
  "language_info": {
   "codemirror_mode": {
    "name": "ipython",
    "version": 3
   },
   "file_extension": ".py",
   "mimetype": "text/x-python",
   "name": "python",
   "nbconvert_exporter": "python",
   "pygments_lexer": "ipython3",
   "version": "3.7.10"
  }
 },
 "nbformat": 4,
 "nbformat_minor": 5
}
