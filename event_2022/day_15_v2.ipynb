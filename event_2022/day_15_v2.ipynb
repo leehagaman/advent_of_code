{
 "cells": [
  {
   "cell_type": "code",
   "execution_count": 1,
   "id": "1cf85486-d2c2-4849-9ba7-93badc042e4e",
   "metadata": {},
   "outputs": [],
   "source": [
    "import numpy as np\n",
    "\n",
    "from tqdm.notebook import tqdm\n"
   ]
  },
  {
   "cell_type": "code",
   "execution_count": 2,
   "id": "0a22ef8f-14c7-4e84-8347-b3c5cf8010c5",
   "metadata": {},
   "outputs": [],
   "source": [
    "with open(\"input_day_15.txt\") as file:\n",
    "    \n",
    "    text = file.read()\n",
    "\n",
    "row_of_interest = 2000000\n",
    "max_search = 4000000\n"
   ]
  },
  {
   "cell_type": "code",
   "execution_count": 3,
   "id": "72cbbcaa-9edb-4424-ae06-2645b6ed6c7c",
   "metadata": {},
   "outputs": [],
   "source": [
    "test = False\n",
    "if test:\n",
    "    row_of_interest = 10\n",
    "    max_search = 20\n",
    "\n",
    "\n",
    "    text = \"\"\"Sensor at x=2, y=18: closest beacon is at x=-2, y=15\n",
    "Sensor at x=9, y=16: closest beacon is at x=10, y=16\n",
    "Sensor at x=13, y=2: closest beacon is at x=15, y=3\n",
    "Sensor at x=12, y=14: closest beacon is at x=10, y=16\n",
    "Sensor at x=10, y=20: closest beacon is at x=10, y=16\n",
    "Sensor at x=14, y=17: closest beacon is at x=10, y=16\n",
    "Sensor at x=8, y=7: closest beacon is at x=2, y=10\n",
    "Sensor at x=2, y=0: closest beacon is at x=2, y=10\n",
    "Sensor at x=0, y=11: closest beacon is at x=2, y=10\n",
    "Sensor at x=20, y=14: closest beacon is at x=25, y=17\n",
    "Sensor at x=17, y=20: closest beacon is at x=21, y=22\n",
    "Sensor at x=16, y=7: closest beacon is at x=15, y=3\n",
    "Sensor at x=14, y=3: closest beacon is at x=15, y=3\n",
    "Sensor at x=20, y=1: closest beacon is at x=15, y=3\"\"\"\n",
    "    "
   ]
  },
  {
   "cell_type": "code",
   "execution_count": 4,
   "id": "3ad5009a-53cf-46dd-b01b-bc3bbc93daf7",
   "metadata": {},
   "outputs": [],
   "source": [
    "lines = text.strip().split(\"\\n\")\n"
   ]
  },
  {
   "cell_type": "code",
   "execution_count": 5,
   "id": "e84ec62b-4b8d-48bb-a47a-a080cf41b754",
   "metadata": {},
   "outputs": [
    {
     "data": {
      "text/plain": [
       "['Sensor at x=3999724, y=2000469: closest beacon is at x=4281123, y=2282046',\n",
       " 'Sensor at x=3995530, y=8733: closest beacon is at x=3321979, y=-692911',\n",
       " 'Sensor at x=3016889, y=2550239: closest beacon is at x=2408038, y=2645605',\n",
       " 'Sensor at x=3443945, y=3604888: closest beacon is at x=3610223, y=3768674',\n",
       " 'Sensor at x=168575, y=491461: closest beacon is at x=1053731, y=-142061']"
      ]
     },
     "execution_count": 5,
     "metadata": {},
     "output_type": "execute_result"
    }
   ],
   "source": [
    "num_lines = len(lines)\n",
    "\n",
    "lines[:5]"
   ]
  },
  {
   "cell_type": "code",
   "execution_count": 6,
   "id": "be0adbf8-a694-4602-bbf5-7257490c7d87",
   "metadata": {},
   "outputs": [],
   "source": [
    "excluded_ranges = []\n",
    "beacons_in_row = []\n",
    "\n",
    "for l in lines:\n",
    "    words = l.split()\n",
    "\n",
    "    sensor_x = int(words[2].split(\"=\")[1].split(\",\")[0])\n",
    "    sensor_y = int(words[3].split(\"=\")[1].split(\":\")[0])\n",
    "\n",
    "    beacon_x = int(words[8].split(\"=\")[1].split(\",\")[0])\n",
    "    beacon_y = int(words[9].split(\"=\")[1])\n",
    "\n",
    "    if beacon_y == row_of_interest:\n",
    "        if (beacon_x, beacon_y) not in beacons_in_row:\n",
    "            beacons_in_row.append((beacon_x, beacon_y))\n",
    "\n",
    "    #print(sensor_x, sensor_y, beacon_x, beacon_y)\n",
    "\n",
    "    dist = abs(sensor_x - beacon_x) + abs(sensor_y - beacon_y)\n",
    "\n",
    "    rel_y_to_row = abs(sensor_y - row_of_interest)\n",
    "\n",
    "    excluded_width_on_each_side = dist - rel_y_to_row\n",
    "\n",
    "    excluded_ranges.append((sensor_x - excluded_width_on_each_side, sensor_x + excluded_width_on_each_side))\n"
   ]
  },
  {
   "cell_type": "code",
   "execution_count": 7,
   "id": "988b5177-9472-4373-9728-07dd5333c45d",
   "metadata": {},
   "outputs": [
    {
     "name": "stdout",
     "output_type": "stream",
     "text": [
      "5176944\n"
     ]
    }
   ],
   "source": [
    "range_edges_set = set()\n",
    "\n",
    "for r in excluded_ranges:\n",
    "    range_edges_set.add(r[0])\n",
    "    range_edges_set.add(r[1])\n",
    "    \n",
    "range_edges = sorted(list(range_edges_set))\n",
    "    \n",
    "orthogonal_ranges = []\n",
    "\n",
    "for i in range(len(range_edges) - 1):\n",
    "    \n",
    "    candidate_range = (range_edges[i], range_edges[i + 1])\n",
    "    \n",
    "    include = False\n",
    "    for r in excluded_ranges:\n",
    "        if r[0] <= candidate_range[0] <= candidate_range[1] <= r[1]:\n",
    "            include = True\n",
    "            \n",
    "    if include:\n",
    "        orthogonal_ranges.append(candidate_range)\n",
    "\n",
    "\n",
    "num_double_counted = 0\n",
    "for i in range(len(orthogonal_ranges) - 1):\n",
    "    if orthogonal_ranges[i][1] == orthogonal_ranges[i+1][0]: # consecutive\n",
    "        num_double_counted += 1\n",
    "    \n",
    "\n",
    "num_excluded = 0\n",
    "for r in orthogonal_ranges:\n",
    "    num_excluded += r[1] - r[0] + 1\n",
    "\n",
    "#print(num_excluded, len(beacons_in_row), num_double_counted)\n",
    "num_excluded -= len(beacons_in_row)\n",
    "num_excluded -= num_double_counted\n",
    "\n",
    "print(num_excluded)"
   ]
  },
  {
   "cell_type": "code",
   "execution_count": 8,
   "id": "801b2543-12e7-4133-a9ab-d6f568fdac31",
   "metadata": {},
   "outputs": [
    {
     "data": {
      "application/vnd.jupyter.widget-view+json": {
       "model_id": "27d7b2dee51b4f799dc91485b68584c2",
       "version_major": 2,
       "version_minor": 0
      },
      "text/plain": [
       "  0%|          | 0/26 [00:00<?, ?it/s]"
      ]
     },
     "metadata": {},
     "output_type": "display_data"
    }
   ],
   "source": [
    "boundaries_sets = []\n",
    "all_beacons = set()\n",
    "\n",
    "for l in tqdm(lines):\n",
    "    \n",
    "    boundaries_sets.append(set())\n",
    "    \n",
    "    words = l.split()\n",
    "    \n",
    "    sensor_x = int(words[2].split(\"=\")[1].split(\",\")[0])\n",
    "    sensor_y = int(words[3].split(\"=\")[1].split(\":\")[0])\n",
    "    \n",
    "    beacon_x = int(words[8].split(\"=\")[1].split(\",\")[0])\n",
    "    beacon_y = int(words[9].split(\"=\")[1])\n",
    "    \n",
    "    all_beacons.add((beacon_x, beacon_y))\n",
    "        \n",
    "    dist = abs(sensor_x - beacon_x) + abs(sensor_y - beacon_y) + 1 # adding one to get the boundary\n",
    "    \n",
    "    for i in range(dist + 1):\n",
    "        if 0 <= sensor_x + i <= max_search and 0 <= sensor_y + dist - i <= max_search:\n",
    "            boundaries_sets[-1].add((sensor_x + i, sensor_y + dist - i)) # top to right\n",
    "        if 0 <= sensor_x + dist - i + i <= max_search and 0 <= sensor_y - i <= max_search:\n",
    "            boundaries_sets[-1].add((sensor_x + dist - i, sensor_y - i)) # right to bottom\n",
    "        if 0 <= sensor_x - i <= max_search and 0 <= sensor_y - dist + i <= max_search:\n",
    "            boundaries_sets[-1].add((sensor_x - i, sensor_y - dist + i)) # bottom to left\n",
    "        if 0 <= sensor_x - dist + i <= max_search and 0 <= sensor_y + i <= max_search:\n",
    "            boundaries_sets[-1].add((sensor_x - dist + i, sensor_y + i)) # left to top\n"
   ]
  },
  {
   "cell_type": "code",
   "execution_count": 9,
   "id": "8137d5b8-e2d8-4b0d-9cc3-26cce45b732a",
   "metadata": {},
   "outputs": [
    {
     "data": {
      "application/vnd.jupyter.widget-view+json": {
       "model_id": "7ce9027058c0428eb63075106710ced7",
       "version_major": 2,
       "version_minor": 0
      },
      "text/plain": [
       "  0%|          | 0/4000001 [00:00<?, ?it/s]"
      ]
     },
     "metadata": {},
     "output_type": "display_data"
    }
   ],
   "source": [
    "boundaries_sets.append(set())\n",
    "\n",
    "for i in tqdm(range(0, max_search + 1)):\n",
    "    \n",
    "    boundaries_sets[-1].add((0, i))\n",
    "    boundaries_sets[-1].add((i, 0))\n",
    "    boundaries_sets[-1].add((max_search, i))\n",
    "    boundaries_sets[-1].add((i, max_search))\n",
    "    "
   ]
  },
  {
   "cell_type": "code",
   "execution_count": 10,
   "id": "1bfa56e4-73ec-47c4-acd8-68216bfbd24f",
   "metadata": {},
   "outputs": [],
   "source": [
    "sensor_x_vals = []\n",
    "sensor_y_vals = []\n",
    "sensor_dist_vals = []\n",
    "\n",
    "for l in lines:\n",
    "    \n",
    "    words = l.split()\n",
    "\n",
    "    sensor_x = int(words[2].split(\"=\")[1].split(\",\")[0])\n",
    "    sensor_y = int(words[3].split(\"=\")[1].split(\":\")[0])\n",
    "\n",
    "    beacon_x = int(words[8].split(\"=\")[1].split(\",\")[0])\n",
    "    beacon_y = int(words[9].split(\"=\")[1])\n",
    "\n",
    "    sensor_dist = abs(sensor_x - beacon_x) + abs(sensor_y - beacon_y)\n",
    "    \n",
    "    sensor_x_vals.append(sensor_x)\n",
    "    sensor_y_vals.append(sensor_y)\n",
    "    sensor_dist_vals.append(sensor_dist)\n",
    "    "
   ]
  },
  {
   "cell_type": "code",
   "execution_count": 11,
   "id": "145e14cc-ca93-4c5c-b162-61e86954135d",
   "metadata": {},
   "outputs": [
    {
     "data": {
      "application/vnd.jupyter.widget-view+json": {
       "model_id": "4d1e0bb2104846f5be8639ffd0a7ae9f",
       "version_major": 2,
       "version_minor": 0
      },
      "text/plain": [
       "  0%|          | 0/27 [00:00<?, ?it/s]"
      ]
     },
     "metadata": {},
     "output_type": "display_data"
    }
   ],
   "source": [
    "multiple_boundary_set = set()\n",
    "\n",
    "for i in tqdm(range(len(boundaries_sets))):\n",
    "    for j in range(len(boundaries_sets)):\n",
    "        if j <= i:\n",
    "            continue\n",
    "            \n",
    "        \n",
    "        multiple_boundary_set = multiple_boundary_set.union(boundaries_sets[i].intersection(boundaries_sets[j]))\n",
    "\n"
   ]
  },
  {
   "cell_type": "code",
   "execution_count": 12,
   "id": "ca2b6584-bf78-458b-b22d-36788b77e7fa",
   "metadata": {},
   "outputs": [
    {
     "data": {
      "application/vnd.jupyter.widget-view+json": {
       "model_id": "5bc07f64b65745bab7f03949f3b6333d",
       "version_major": 2,
       "version_minor": 0
      },
      "text/plain": [
       "  0%|          | 0/2733371 [00:00<?, ?it/s]"
      ]
     },
     "metadata": {},
     "output_type": "display_data"
    }
   ],
   "source": [
    "all_possible = []\n",
    "\n",
    "for b in tqdm(multiple_boundary_set):\n",
    "    \n",
    "    excluded = False\n",
    "    \n",
    "    for i in range(num_lines):\n",
    "                \n",
    "        if abs(b[0] - sensor_x_vals[i]) + abs(b[1] - sensor_y_vals[i]) <= sensor_dist_vals[i]:\n",
    "            excluded = True        \n",
    "            \n",
    "    if not excluded and not (b in all_beacons):\n",
    "        answer = b\n",
    "        break"
   ]
  },
  {
   "cell_type": "code",
   "execution_count": 13,
   "id": "e40e3332-06ea-4acf-bfd8-16335e1c7868",
   "metadata": {},
   "outputs": [
    {
     "name": "stdout",
     "output_type": "stream",
     "text": [
      "(3337614, 2933732)\n",
      "13350458933732\n"
     ]
    }
   ],
   "source": [
    "print(answer)\n",
    "print(answer[0] * 4000000 + answer[1])"
   ]
  },
  {
   "cell_type": "code",
   "execution_count": null,
   "id": "0b1223a9-748e-4757-941f-ee2aa4da68e5",
   "metadata": {},
   "outputs": [],
   "source": []
  },
  {
   "cell_type": "code",
   "execution_count": null,
   "id": "1da755b1-d32e-4800-81cb-378b33c6a215",
   "metadata": {},
   "outputs": [],
   "source": []
  },
  {
   "cell_type": "code",
   "execution_count": null,
   "id": "9af78c93-b692-4b9c-a64c-54eb1c06930f",
   "metadata": {},
   "outputs": [],
   "source": []
  }
 ],
 "metadata": {
  "kernelspec": {
   "display_name": "base",
   "language": "python",
   "name": "base"
  },
  "language_info": {
   "codemirror_mode": {
    "name": "ipython",
    "version": 3
   },
   "file_extension": ".py",
   "mimetype": "text/x-python",
   "name": "python",
   "nbconvert_exporter": "python",
   "pygments_lexer": "ipython3",
   "version": "3.7.10"
  }
 },
 "nbformat": 4,
 "nbformat_minor": 5
}
