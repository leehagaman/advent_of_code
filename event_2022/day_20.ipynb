{
 "cells": [
  {
   "cell_type": "code",
   "execution_count": 1,
   "id": "1cf85486-d2c2-4849-9ba7-93badc042e4e",
   "metadata": {},
   "outputs": [],
   "source": [
    "import numpy as np\n",
    "\n",
    "from tqdm.notebook import tqdm\n",
    "\n",
    "import matplotlib.pyplot as plt\n",
    "\n",
    "from queue import PriorityQueue\n"
   ]
  },
  {
   "cell_type": "code",
   "execution_count": 2,
   "id": "0a22ef8f-14c7-4e84-8347-b3c5cf8010c5",
   "metadata": {},
   "outputs": [],
   "source": [
    "with open(\"input_day_20.txt\") as file:\n",
    "    \n",
    "    text = file.read()\n"
   ]
  },
  {
   "cell_type": "code",
   "execution_count": 3,
   "id": "72cbbcaa-9edb-4424-ae06-2645b6ed6c7c",
   "metadata": {},
   "outputs": [],
   "source": [
    "test = False\n",
    "if test:\n",
    "\n",
    "    text = \"\"\"1\n",
    "2\n",
    "-3\n",
    "3\n",
    "-2\n",
    "0\n",
    "4\"\"\"\n",
    "    \n",
    "text = text.strip()"
   ]
  },
  {
   "cell_type": "code",
   "execution_count": 4,
   "id": "6631004b-2efc-4448-a33d-d767ec76ab6d",
   "metadata": {},
   "outputs": [],
   "source": [
    "nums = [int(l) for l in text.split(\"\\n\")]\n",
    "\n",
    "nums_ids = [(nums[i], i) for i in range(len(nums))]\n"
   ]
  },
  {
   "cell_type": "code",
   "execution_count": 5,
   "id": "c2e95ea6-36d0-4fdc-b86c-c92dabae2bd0",
   "metadata": {},
   "outputs": [],
   "source": [
    "#import collections\n",
    "#print(len([item for item, count in collections.Counter(nums).items() if count > 1]))"
   ]
  },
  {
   "cell_type": "code",
   "execution_count": 6,
   "id": "92117422-232a-4120-bb36-e38358991f32",
   "metadata": {},
   "outputs": [],
   "source": [
    "def move(curr_nums_ids, num_id, test=False):\n",
    "    if test:\n",
    "        print(\"moving\", num_id)\n",
    "        \n",
    "    num, idnum = num_id\n",
    "    \n",
    "    old_pos = curr_nums_ids.index(num_id)\n",
    "    new_pos = (old_pos + num) % (len(curr_nums_ids) - 1) # always biased left, will never place a number on the very right\n",
    "    \n",
    "    if test:\n",
    "        print(\"new pos:\", new_pos)\n",
    "    \n",
    "    other_nums_ids = curr_nums_ids.copy()\n",
    "    other_nums_ids.remove(num_id)\n",
    "    \n",
    "    curr_nums_ids = other_nums_ids[:new_pos] + [num_id] + other_nums_ids[new_pos:]\n",
    "    \n",
    "    if test:\n",
    "        print(curr_nums_ids)\n",
    "        \n",
    "    return curr_nums_ids.copy()\n",
    "        "
   ]
  },
  {
   "cell_type": "code",
   "execution_count": 7,
   "id": "547fc0da-49dc-4d74-bd22-9831d70bee32",
   "metadata": {},
   "outputs": [],
   "source": [
    "curr_nums_ids = nums_ids.copy()\n",
    "\n",
    "if test:\n",
    "    print(curr_nums_ids)\n",
    "\n",
    "for num_id in nums_ids:\n",
    "    \n",
    "    curr_nums_ids = move(curr_nums_ids, num_id, test=test)\n",
    "    \n",
    "mixed_nums_ids = curr_nums_ids\n",
    "\n",
    "mixed_nums = [x[0] for x in curr_nums_ids]"
   ]
  },
  {
   "cell_type": "code",
   "execution_count": 8,
   "id": "329250b3-9db4-4337-af74-fc8aa670b89e",
   "metadata": {},
   "outputs": [
    {
     "name": "stdout",
     "output_type": "stream",
     "text": [
      "5000 5000\n",
      "8712 -4413 9668\n",
      "13967\n"
     ]
    }
   ],
   "source": [
    "print(len(nums), len(mixed_nums))\n",
    "\n",
    "start_index = mixed_nums.index(0)\n",
    "\n",
    "print(mixed_nums[(start_index + 1000) % len(nums)], mixed_nums[(start_index + 2000) % len(nums)], mixed_nums[(start_index + 3000) % len(nums)])\n",
    "print(mixed_nums[(start_index + 1000) % len(nums)] + mixed_nums[(start_index + 2000) % len(nums)] + mixed_nums[(start_index + 3000) % len(nums)])\n",
    "\n",
    "# 9505 is too low\n",
    "# -4908 is wrong\n"
   ]
  },
  {
   "cell_type": "code",
   "execution_count": 9,
   "id": "98bb5a3d-85cb-48f7-895b-6ae13220496e",
   "metadata": {},
   "outputs": [],
   "source": [
    "decrypted_nums_ids = [(x[0] * 811589153, x[1]) for x in nums_ids]\n",
    "\n",
    "ten_x_nums_ids = []\n",
    "for i in range(10):\n",
    "    ten_x_nums_ids += decrypted_nums_ids\n",
    "    \n",
    "curr_nums_ids = decrypted_nums_ids.copy()\n",
    "\n",
    "for num_id in tqdm(ten_x_nums_ids):\n",
    "    \n",
    "    curr_nums_ids = move(curr_nums_ids, num_id, test=test)\n",
    "    \n",
    "mixed_nums = [x[0] for x in curr_nums_ids]   "
   ]
  },
  {
   "cell_type": "code",
   "execution_count": 10,
   "id": "db4c4f03-278f-4310-9ffd-645f37e8e211",
   "metadata": {},
   "outputs": [
    {
     "name": "stdout",
     "output_type": "stream",
     "text": [
      "-778313997727 -2102015906270 4670695575515\n",
      "1790365671518\n"
     ]
    }
   ],
   "source": [
    "start_index = mixed_nums.index(0)\n",
    "\n",
    "print(mixed_nums[(start_index + 1000) % len(nums)], mixed_nums[(start_index + 2000) % len(nums)], mixed_nums[(start_index + 3000) % len(nums)])\n",
    "print(mixed_nums[(start_index + 1000) % len(nums)] + mixed_nums[(start_index + 2000) % len(nums)] + mixed_nums[(start_index + 3000) % len(nums)])\n"
   ]
  },
  {
   "cell_type": "code",
   "execution_count": null,
   "id": "c66dea84-ea84-418a-9114-198a883f1afa",
   "metadata": {},
   "outputs": [],
   "source": []
  }
 ],
 "metadata": {
  "kernelspec": {
   "display_name": "base",
   "language": "python",
   "name": "base"
  },
  "language_info": {
   "codemirror_mode": {
    "name": "ipython",
    "version": 3
   },
   "file_extension": ".py",
   "mimetype": "text/x-python",
   "name": "python",
   "nbconvert_exporter": "python",
   "pygments_lexer": "ipython3",
   "version": "3.7.10"
  }
 },
 "nbformat": 4,
 "nbformat_minor": 5
}
