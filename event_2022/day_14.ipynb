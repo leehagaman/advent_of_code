{
 "cells": [
  {
   "cell_type": "code",
   "execution_count": 1,
   "id": "1cf85486-d2c2-4849-9ba7-93badc042e4e",
   "metadata": {},
   "outputs": [],
   "source": [
    "import numpy as np\n",
    "\n",
    "from tqdm.notebook import tqdm\n"
   ]
  },
  {
   "cell_type": "code",
   "execution_count": 2,
   "id": "0a22ef8f-14c7-4e84-8347-b3c5cf8010c5",
   "metadata": {},
   "outputs": [],
   "source": [
    "with open(\"input_day_14.txt\") as file:\n",
    "    \n",
    "    text = file.read()\n"
   ]
  },
  {
   "cell_type": "code",
   "execution_count": 3,
   "id": "72cbbcaa-9edb-4424-ae06-2645b6ed6c7c",
   "metadata": {},
   "outputs": [],
   "source": [
    "test = False\n",
    "if test:\n",
    "    text = \"\"\"498,4 -> 498,6 -> 496,6\n",
    "503,4 -> 502,4 -> 502,9 -> 494,9\"\"\"\n",
    "    "
   ]
  },
  {
   "cell_type": "code",
   "execution_count": 4,
   "id": "3ad5009a-53cf-46dd-b01b-bc3bbc93daf7",
   "metadata": {},
   "outputs": [],
   "source": [
    "lines = text.strip().split(\"\\n\")\n"
   ]
  },
  {
   "cell_type": "code",
   "execution_count": 5,
   "id": "45421932-d1e0-40b4-af68-b13b5a6f60d8",
   "metadata": {},
   "outputs": [],
   "source": [
    "#lines"
   ]
  },
  {
   "cell_type": "code",
   "execution_count": 6,
   "id": "a5d6cf59-1294-4adf-81bb-5017d9f1e731",
   "metadata": {},
   "outputs": [],
   "source": [
    "rock_sand_locations = set()\n",
    "\n",
    "for l in lines: # looping over input file lines\n",
    "    #print(l)\n",
    "    points = [p.strip() for p in l.split(\"->\")]\n",
    "    pxs = [int(p.split(\",\")[0]) for p in points]\n",
    "    pys = [int(p.split(\",\")[1]) for p in points]\n",
    "        \n",
    "    for s in range(len(pxs) - 1): # looping over segments\n",
    "        p_x_start = pxs[s]\n",
    "        p_x_end = pxs[s+1]\n",
    "        p_y_start = pys[s]\n",
    "        p_y_end = pys[s+1]\n",
    "        \n",
    "        if p_x_start == p_x_end: # vertical rock\n",
    "            for y in range(min(p_y_start, p_y_end), max(p_y_start, p_y_end) + 1):\n",
    "                rock_sand_locations.add((p_x_start, y))\n",
    "        elif p_y_start == p_y_end: # horizontal rock\n",
    "            for x in range(min(p_x_start, p_x_end), max(p_x_start, p_x_end) + 1):\n",
    "                rock_sand_locations.add((x, p_y_start))\n",
    "        else:\n",
    "            print(\"invalid segment!\")\n"
   ]
  },
  {
   "cell_type": "code",
   "execution_count": 7,
   "id": "ec4f2c84-e8d5-4746-a1c4-9c842f031c40",
   "metadata": {},
   "outputs": [
    {
     "name": "stdout",
     "output_type": "stream",
     "text": [
      "177\n"
     ]
    }
   ],
   "source": [
    "max_y = np.max([p[1] for p in rock_sand_locations])\n",
    "print(max_y)"
   ]
  },
  {
   "cell_type": "code",
   "execution_count": 8,
   "id": "307484f2-4e5b-44b4-9056-9084137a16ba",
   "metadata": {},
   "outputs": [
    {
     "name": "stdout",
     "output_type": "stream",
     "text": [
      "492\n"
     ]
    }
   ],
   "source": [
    "min_x = np.min([p[0] for p in rock_sand_locations])\n",
    "print(min_x)"
   ]
  },
  {
   "cell_type": "code",
   "execution_count": 9,
   "id": "149b5f5b-3ea5-46ee-ab31-e49414101bb3",
   "metadata": {},
   "outputs": [
    {
     "name": "stdout",
     "output_type": "stream",
     "text": [
      "551\n"
     ]
    }
   ],
   "source": [
    "max_x = np.max([p[0] for p in rock_sand_locations])\n",
    "print(max_x)"
   ]
  },
  {
   "cell_type": "code",
   "execution_count": 10,
   "id": "b87cc7cd-eed5-42de-924d-0cda19859b6d",
   "metadata": {},
   "outputs": [],
   "source": [
    "p1 = False\n",
    "\n",
    "if p1:\n",
    "\n",
    "    num_resting_sands = 0\n",
    "\n",
    "    while True: # generating new sand\n",
    "        if num_resting_sands % 100 == 0: \n",
    "            print(num_resting_sands)\n",
    "        curr_sand_location = (500, 0)\n",
    "        while True: # making sand fall\n",
    "\n",
    "            if curr_sand_location[1] > max_y:\n",
    "                print(num_resting_sands)\n",
    "                print(1/0)\n",
    "\n",
    "            downward_location = (curr_sand_location[0], curr_sand_location[1] + 1)\n",
    "            leftward_location = (curr_sand_location[0] - 1, curr_sand_location[1] + 1)\n",
    "            rightward_location = (curr_sand_location[0] + 1, curr_sand_location[1] + 1)\n",
    "\n",
    "            if downward_location not in rock_sand_locations:\n",
    "                curr_sand_location = downward_location\n",
    "\n",
    "            elif leftward_location not in rock_sand_locations:\n",
    "                curr_sand_location = leftward_location\n",
    "\n",
    "            elif rightward_location not in rock_sand_locations:\n",
    "                curr_sand_location = rightward_location\n",
    "            else:\n",
    "                num_resting_sands += 1\n",
    "                rock_sand_locations.add(curr_sand_location)\n",
    "                break\n",
    "    "
   ]
  },
  {
   "cell_type": "code",
   "execution_count": 11,
   "id": "47b90b11-e64d-46ab-974c-b0c9f7f18f10",
   "metadata": {},
   "outputs": [],
   "source": [
    "if test:\n",
    "    lines.append(f\"450,11 -> 600,11\")\n",
    "else:\n",
    "    lines.append(f\"0,179 -> 1000,179\")\n",
    "    "
   ]
  },
  {
   "cell_type": "code",
   "execution_count": 12,
   "id": "bc21d26f-683f-4f18-8384-bf14d07f0bc1",
   "metadata": {},
   "outputs": [],
   "source": [
    "rock_sand_locations = set()\n",
    "\n",
    "for l in lines: # looping over input file lines\n",
    "    #print(l)\n",
    "    points = [p.strip() for p in l.split(\"->\")]\n",
    "    pxs = [int(p.split(\",\")[0]) for p in points]\n",
    "    pys = [int(p.split(\",\")[1]) for p in points]\n",
    "        \n",
    "    for s in range(len(pxs) - 1): # looping over segments\n",
    "        p_x_start = pxs[s]\n",
    "        p_x_end = pxs[s+1]\n",
    "        p_y_start = pys[s]\n",
    "        p_y_end = pys[s+1]\n",
    "        \n",
    "        if p_x_start == p_x_end: # vertical rock\n",
    "            for y in range(min(p_y_start, p_y_end), max(p_y_start, p_y_end) + 1):\n",
    "                rock_sand_locations.add((p_x_start, y))\n",
    "        elif p_y_start == p_y_end: # horizontal rock\n",
    "            for x in range(min(p_x_start, p_x_end), max(p_x_start, p_x_end) + 1):\n",
    "                rock_sand_locations.add((x, p_y_start))\n",
    "        else:\n",
    "            print(\"invalid segment!\")\n"
   ]
  },
  {
   "cell_type": "code",
   "execution_count": 13,
   "id": "a007c709-d40f-4d34-8fe7-25244be621b5",
   "metadata": {},
   "outputs": [
    {
     "name": "stdout",
     "output_type": "stream",
     "text": [
      "0\n",
      "1000\n",
      "2000\n",
      "3000\n",
      "4000\n",
      "5000\n",
      "6000\n",
      "7000\n",
      "8000\n",
      "9000\n",
      "10000\n",
      "11000\n",
      "12000\n",
      "13000\n",
      "14000\n",
      "15000\n",
      "16000\n",
      "17000\n",
      "18000\n",
      "19000\n",
      "20000\n",
      "21000\n",
      "22000\n",
      "23000\n",
      "24000\n",
      "25000\n",
      "26000\n",
      "27000\n",
      "28000\n",
      "29000\n",
      "30000\n",
      "total:  30157\n"
     ]
    },
    {
     "ename": "ZeroDivisionError",
     "evalue": "division by zero",
     "output_type": "error",
     "traceback": [
      "\u001b[0;31m---------------------------------------------------------------------------\u001b[0m",
      "\u001b[0;31mZeroDivisionError\u001b[0m                         Traceback (most recent call last)",
      "\u001b[0;32m<ipython-input-13-eec5cc8737d7>\u001b[0m in \u001b[0;36m<module>\u001b[0;34m\u001b[0m\n\u001b[1;32m     33\u001b[0m             \u001b[0;32mif\u001b[0m \u001b[0mcurr_sand_location\u001b[0m \u001b[0;34m==\u001b[0m \u001b[0;34m(\u001b[0m\u001b[0;36m500\u001b[0m\u001b[0;34m,\u001b[0m \u001b[0;36m0\u001b[0m\u001b[0;34m)\u001b[0m\u001b[0;34m:\u001b[0m \u001b[0;31m# got stuck\u001b[0m\u001b[0;34m\u001b[0m\u001b[0;34m\u001b[0m\u001b[0m\n\u001b[1;32m     34\u001b[0m                 \u001b[0mprint\u001b[0m\u001b[0;34m(\u001b[0m\u001b[0;34m\"total: \"\u001b[0m\u001b[0;34m,\u001b[0m \u001b[0mnum_resting_sands\u001b[0m\u001b[0;34m)\u001b[0m\u001b[0;34m\u001b[0m\u001b[0;34m\u001b[0m\u001b[0m\n\u001b[0;32m---> 35\u001b[0;31m                 \u001b[0mprint\u001b[0m\u001b[0;34m(\u001b[0m\u001b[0;36m1\u001b[0m\u001b[0;34m/\u001b[0m\u001b[0;36m0\u001b[0m\u001b[0;34m)\u001b[0m\u001b[0;34m\u001b[0m\u001b[0;34m\u001b[0m\u001b[0m\n\u001b[0m\u001b[1;32m     36\u001b[0m \u001b[0;34m\u001b[0m\u001b[0m\n\u001b[1;32m     37\u001b[0m             \u001b[0;32mbreak\u001b[0m\u001b[0;34m\u001b[0m\u001b[0;34m\u001b[0m\u001b[0m\n",
      "\u001b[0;31mZeroDivisionError\u001b[0m: division by zero"
     ]
    }
   ],
   "source": [
    "num_resting_sands = 0\n",
    "\n",
    "while True: # generating new sand\n",
    "    if num_resting_sands % 1000 == 0: \n",
    "        print(num_resting_sands)\n",
    "        \n",
    "    curr_sand_location = (500, 0)\n",
    "    while True: # making sand fall\n",
    "        \n",
    "        #if num_resting_sands == 4477:\n",
    "        #    print(\"falling\")\n",
    "        \n",
    "        downward_location = (curr_sand_location[0], curr_sand_location[1] + 1)\n",
    "        leftward_location = (curr_sand_location[0] - 1, curr_sand_location[1] + 1)\n",
    "        rightward_location = (curr_sand_location[0] + 1, curr_sand_location[1] + 1)\n",
    "\n",
    "        if downward_location not in rock_sand_locations:\n",
    "            curr_sand_location = downward_location\n",
    "            \n",
    "        elif leftward_location not in rock_sand_locations:\n",
    "            curr_sand_location = leftward_location\n",
    "            \n",
    "        elif rightward_location not in rock_sand_locations:\n",
    "            curr_sand_location = rightward_location\n",
    "            \n",
    "        else:\n",
    "            \n",
    "            \n",
    "            \n",
    "            num_resting_sands += 1\n",
    "            rock_sand_locations.add(curr_sand_location)\n",
    "            \n",
    "            if curr_sand_location == (500, 0): # got stuck\n",
    "                print(\"total: \", num_resting_sands)\n",
    "                print(1/0)\n",
    "            \n",
    "            break\n",
    "    "
   ]
  },
  {
   "cell_type": "code",
   "execution_count": null,
   "id": "f8b53099-c4c4-4126-b239-f9f45b5c91c0",
   "metadata": {},
   "outputs": [],
   "source": []
  },
  {
   "cell_type": "code",
   "execution_count": null,
   "id": "e84ec62b-4b8d-48bb-a47a-a080cf41b754",
   "metadata": {},
   "outputs": [],
   "source": []
  },
  {
   "cell_type": "code",
   "execution_count": null,
   "id": "1a039037-2352-4dee-9b64-65526570414c",
   "metadata": {},
   "outputs": [],
   "source": []
  },
  {
   "cell_type": "code",
   "execution_count": null,
   "id": "be0adbf8-a694-4602-bbf5-7257490c7d87",
   "metadata": {},
   "outputs": [],
   "source": []
  },
  {
   "cell_type": "code",
   "execution_count": null,
   "id": "4cfb1c4f-75a7-4e51-8397-b47fc22d673f",
   "metadata": {},
   "outputs": [],
   "source": []
  }
 ],
 "metadata": {
  "kernelspec": {
   "display_name": "base",
   "language": "python",
   "name": "base"
  },
  "language_info": {
   "codemirror_mode": {
    "name": "ipython",
    "version": 3
   },
   "file_extension": ".py",
   "mimetype": "text/x-python",
   "name": "python",
   "nbconvert_exporter": "python",
   "pygments_lexer": "ipython3",
   "version": "3.7.10"
  }
 },
 "nbformat": 4,
 "nbformat_minor": 5
}
