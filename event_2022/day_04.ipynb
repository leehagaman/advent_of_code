{
 "cells": [
  {
   "cell_type": "code",
   "execution_count": 1,
   "id": "1cf85486-d2c2-4849-9ba7-93badc042e4e",
   "metadata": {},
   "outputs": [],
   "source": [
    "import numpy as np"
   ]
  },
  {
   "cell_type": "code",
   "execution_count": 2,
   "id": "0a22ef8f-14c7-4e84-8347-b3c5cf8010c5",
   "metadata": {},
   "outputs": [
    {
     "name": "stdout",
     "output_type": "stream",
     "text": [
      "[['14-98', '14-14'], ['2-20', '3-3'], ['64-67', '43-63'], ['13-91', '14-90'], ['19-47', '12-19'], ['26-74', '26-84'], ['23-41', '22-41'], ['46-67', '41-66'], ['8-42', '11-42'], ['4-23', '24-26']]\n"
     ]
    }
   ],
   "source": [
    "with open(\"input_day_04.txt\") as file:\n",
    "    lines = file.read().strip().split(\"\\n\")\n",
    "    pairs = [l.split(\",\") for l in lines]\n",
    "    #rounds = [line.split(\" \") for line in lines]\n",
    "    \n",
    "print(pairs[:10])\n",
    "    "
   ]
  },
  {
   "cell_type": "code",
   "execution_count": 4,
   "id": "1eb17a09-23eb-4f16-9c12-c9f1738040f7",
   "metadata": {},
   "outputs": [
    {
     "name": "stdout",
     "output_type": "stream",
     "text": [
      "599\n"
     ]
    }
   ],
   "source": [
    "total = 0\n",
    "\n",
    "for p in pairs:\n",
    "    \n",
    "    dups = 0\n",
    "    \n",
    "    r1s = int(p[0].split(\"-\")[0])\n",
    "    r1e = int(p[0].split(\"-\")[1])\n",
    "    r2s = int(p[1].split(\"-\")[0])\n",
    "    r2e = int(p[1].split(\"-\")[1])\n",
    "    \n",
    "    if r1s <= r2s <= r2e <= r1e or r2s <= r1s <= r1e <= r2e:\n",
    "        total += 1\n",
    "            \n",
    "print(total)\n",
    "    \n",
    "    "
   ]
  },
  {
   "cell_type": "code",
   "execution_count": 5,
   "id": "a2d5c1ed-bdaf-4ef6-96c4-6677f4cc1107",
   "metadata": {},
   "outputs": [
    {
     "name": "stdout",
     "output_type": "stream",
     "text": [
      "928\n"
     ]
    }
   ],
   "source": [
    "total = 0\n",
    "\n",
    "for p in pairs:\n",
    "    \n",
    "    dups = 0\n",
    "    \n",
    "    r1s = int(p[0].split(\"-\")[0])\n",
    "    r1e = int(p[0].split(\"-\")[1])\n",
    "    r2s = int(p[1].split(\"-\")[0])\n",
    "    r2e = int(p[1].split(\"-\")[1])\n",
    "    \n",
    "    if r1s <= r2s <= r1e or r1s <= r2e <= r1e or r2s <= r1s <= r2e or r2s <= r1e <= r2e:\n",
    "        total += 1\n",
    "            \n",
    "print(total)\n",
    "    "
   ]
  },
  {
   "cell_type": "code",
   "execution_count": null,
   "id": "b8d5cb20-51cb-445b-a76f-aeef6a22ee06",
   "metadata": {},
   "outputs": [],
   "source": []
  },
  {
   "cell_type": "code",
   "execution_count": null,
   "id": "4e7bb6fe-79ca-4d03-acfe-4c00631ec551",
   "metadata": {},
   "outputs": [],
   "source": []
  }
 ],
 "metadata": {
  "kernelspec": {
   "display_name": "base",
   "language": "python",
   "name": "base"
  },
  "language_info": {
   "codemirror_mode": {
    "name": "ipython",
    "version": 3
   },
   "file_extension": ".py",
   "mimetype": "text/x-python",
   "name": "python",
   "nbconvert_exporter": "python",
   "pygments_lexer": "ipython3",
   "version": "3.7.10"
  }
 },
 "nbformat": 4,
 "nbformat_minor": 5
}
