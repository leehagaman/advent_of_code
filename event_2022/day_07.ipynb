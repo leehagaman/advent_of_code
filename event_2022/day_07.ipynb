{
 "cells": [
  {
   "cell_type": "code",
   "execution_count": 1,
   "id": "1cf85486-d2c2-4849-9ba7-93badc042e4e",
   "metadata": {},
   "outputs": [],
   "source": [
    "import numpy as np"
   ]
  },
  {
   "cell_type": "code",
   "execution_count": 2,
   "id": "0a22ef8f-14c7-4e84-8347-b3c5cf8010c5",
   "metadata": {},
   "outputs": [],
   "source": [
    "with open(\"input_day_07.txt\") as file:\n",
    "    #with open(\"input_day_07_test.txt\") as file:\n",
    "    \n",
    "    #s = file.read().strip()\n",
    "    \n",
    "    lines = file.read().strip().split(\"\\n\")\n",
    "\n"
   ]
  },
  {
   "cell_type": "code",
   "execution_count": 3,
   "id": "12b6708d-1651-4574-8e88-a035cd215e92",
   "metadata": {},
   "outputs": [],
   "source": [
    "#for l in lines:\n",
    "#    print(l)\n"
   ]
  },
  {
   "cell_type": "code",
   "execution_count": 4,
   "id": "3aad0f71-a733-4d91-8f11-bd428dac39bb",
   "metadata": {},
   "outputs": [],
   "source": [
    "class Tree:\n",
    "    \n",
    "    def __init__(self, name, size):\n",
    "        self.name = name\n",
    "        self.size = int(size)\n",
    "        self.children = []\n",
    "        self.parent = None\n",
    "        \n",
    "    def total_size(self):\n",
    "        child_sizes = [c.total_size() for c in self.children]\n",
    "        #print(self.name, self.size, self.children)\n",
    "        #print(\"got total size of\", self.name, \", \", self.size + np.sum(child_sizes))\n",
    "        return self.size + np.sum(child_sizes)\n",
    "    \n",
    "    def self_and_child_sizes(self):\n",
    "        if not self.children: # file, not directory\n",
    "            return []\n",
    "        all_sizes = [self.total_size()]\n",
    "        for c in self.children:\n",
    "            all_sizes += c.self_and_child_sizes()\n",
    "        return all_sizes\n",
    "\n",
    "    \n",
    "    def print(self, spaces=0):\n",
    "        s = \"\"\n",
    "        for i in range(spaces):\n",
    "            s += \" \"\n",
    "        \n",
    "        print(s, \"-\", self.name, self.size)\n",
    "        for c in self.children:\n",
    "            c.print(spaces = spaces+2)\n"
   ]
  },
  {
   "cell_type": "code",
   "execution_count": 5,
   "id": "aa787a5b-05dd-4251-9abc-39361aad16b8",
   "metadata": {},
   "outputs": [],
   "source": [
    "top_tree = Tree(\"/\", 0)\n",
    "curr_tree = top_tree\n",
    "\n",
    "\n",
    "listing = False\n",
    "\n",
    "for line in lines:\n",
    "    \n",
    "    #print(line)\n",
    "    #print(\"    curr_tree:\", curr_tree.name)\n",
    "    #print(\"    curr_children:\", [c.name for c in curr_tree.children])\n",
    "    \n",
    "    ps = line.split(\" \")\n",
    "    \n",
    "    if ps[0] == \"$\": # command, don't make a new tree\n",
    "        listing = False\n",
    "        if ps[1] == \"cd\":\n",
    "            \n",
    "            if ps[2] == \"..\":\n",
    "                curr_tree = curr_tree.parent\n",
    "                continue\n",
    "            \n",
    "            curr_dir = ps[2]\n",
    "            if ps[2] == \"/\":\n",
    "                curr_tree = top_tree\n",
    "                continue\n",
    "            \n",
    "            #print(\"entering directory\", ps[2])\n",
    "            found_child = False\n",
    "            for t in curr_tree.children:\n",
    "                if t.name == ps[2]:\n",
    "                    curr_tree = t\n",
    "                    found_child = True\n",
    "            if not found_child:\n",
    "                print(\"cd failed, didn't find child!\")\n",
    "                print(\"child names:\", [c.name for c in curr_tree.children])\n",
    "            continue\n",
    "        if ps[1] == \"ls\":\n",
    "            #print(\"next is lists\")\n",
    "            listing = True\n",
    "            continue\n",
    "            \n",
    "    # make a new tree for each file and each subdirectory\n",
    "    if listing:\n",
    "        #print(\"adding new child\")\n",
    "        if ps[0] != \"dir\":\n",
    "            this_tree = Tree(ps[1], ps[0])\n",
    "            this_tree.parent = curr_tree\n",
    "            curr_tree.children = curr_tree.children + [this_tree]\n",
    "            \n",
    "        else:\n",
    "            this_tree = Tree(ps[1], 0)\n",
    "            this_tree.parent = curr_tree\n",
    "            curr_tree.children = curr_tree.children + [this_tree]\n",
    "              \n"
   ]
  },
  {
   "cell_type": "code",
   "execution_count": 6,
   "id": "80e57336-ec8e-47af-a854-d94183a24c00",
   "metadata": {},
   "outputs": [],
   "source": [
    "#top_tree.print()"
   ]
  },
  {
   "cell_type": "code",
   "execution_count": 7,
   "id": "d134bab3-3bd0-425d-93fb-368abe766862",
   "metadata": {},
   "outputs": [],
   "source": [
    "total_size = top_tree.total_size()"
   ]
  },
  {
   "cell_type": "code",
   "execution_count": 8,
   "id": "454a6a75-64c3-42cc-b002-0c7822edf9ed",
   "metadata": {},
   "outputs": [],
   "source": [
    "all_sizes = top_tree.self_and_child_sizes()\n",
    "#all_sizes"
   ]
  },
  {
   "cell_type": "code",
   "execution_count": 9,
   "id": "9af07508-6b2a-431d-baa0-f2a466cb52e2",
   "metadata": {},
   "outputs": [
    {
     "data": {
      "text/plain": [
       "1783610.0"
      ]
     },
     "execution_count": 9,
     "metadata": {},
     "output_type": "execute_result"
    }
   ],
   "source": [
    "tot = 0\n",
    "for s in all_sizes:\n",
    "    if s <= 100000:\n",
    "        tot += s\n",
    "        \n",
    "tot"
   ]
  },
  {
   "cell_type": "code",
   "execution_count": 10,
   "id": "aeb4e0e0-0907-4eda-9092-f5a2260be9ba",
   "metadata": {},
   "outputs": [
    {
     "data": {
      "text/plain": [
       "4370655.0"
      ]
     },
     "execution_count": 10,
     "metadata": {},
     "output_type": "execute_result"
    }
   ],
   "source": [
    "needed_deletion = total_size - 40000000\n",
    "min_del = 100000000000\n",
    "for s in all_sizes:\n",
    "    if needed_deletion < s < min_del:\n",
    "        min_del = s\n",
    "        \n",
    "min_del\n"
   ]
  },
  {
   "cell_type": "code",
   "execution_count": null,
   "id": "168941f1-69e9-4d1e-9907-927ea0f6827a",
   "metadata": {},
   "outputs": [],
   "source": []
  },
  {
   "cell_type": "code",
   "execution_count": null,
   "id": "cddabca4-86f7-4cba-8696-eb5675132823",
   "metadata": {},
   "outputs": [],
   "source": []
  }
 ],
 "metadata": {
  "kernelspec": {
   "display_name": "base",
   "language": "python",
   "name": "base"
  },
  "language_info": {
   "codemirror_mode": {
    "name": "ipython",
    "version": 3
   },
   "file_extension": ".py",
   "mimetype": "text/x-python",
   "name": "python",
   "nbconvert_exporter": "python",
   "pygments_lexer": "ipython3",
   "version": "3.7.10"
  }
 },
 "nbformat": 4,
 "nbformat_minor": 5
}
