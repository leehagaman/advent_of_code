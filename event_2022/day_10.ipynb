{
 "cells": [
  {
   "cell_type": "code",
   "execution_count": 1,
   "id": "1cf85486-d2c2-4849-9ba7-93badc042e4e",
   "metadata": {},
   "outputs": [],
   "source": [
    "import numpy as np"
   ]
  },
  {
   "cell_type": "code",
   "execution_count": 2,
   "id": "0a22ef8f-14c7-4e84-8347-b3c5cf8010c5",
   "metadata": {},
   "outputs": [],
   "source": [
    "with open(\"input_day_10_test.txt\") as file:\n",
    "#with open(\"input_day_10.txt\") as file:\n",
    "        \n",
    "    lines = file.read().strip().split(\"\\n\")\n",
    "    #arr = [int(l) for l in lines]\n",
    "\n"
   ]
  },
  {
   "cell_type": "code",
   "execution_count": 3,
   "id": "f6c4fa38-d2ae-48f9-8c86-dc96934a329b",
   "metadata": {},
   "outputs": [],
   "source": [
    "#lines = \"\"\"noop\n",
    "#addx 3\n",
    "#addx -5\"\"\".strip().split(\"\\n\")"
   ]
  },
  {
   "cell_type": "code",
   "execution_count": 4,
   "id": "43f6f2e2-0fb5-4fe6-bf50-1cbfbba7b962",
   "metadata": {},
   "outputs": [
    {
     "data": {
      "text/plain": [
       "['addx 15',\n",
       " 'addx -11',\n",
       " 'addx 6',\n",
       " 'addx -3',\n",
       " 'addx 5',\n",
       " 'addx -1',\n",
       " 'addx -8',\n",
       " 'addx 13',\n",
       " 'addx 4',\n",
       " 'noop']"
      ]
     },
     "execution_count": 4,
     "metadata": {},
     "output_type": "execute_result"
    }
   ],
   "source": [
    "lines[:10]"
   ]
  },
  {
   "cell_type": "code",
   "execution_count": 5,
   "id": "4d1f8253-a8f3-4923-a93c-0a4eeae21237",
   "metadata": {},
   "outputs": [],
   "source": [
    "sig_strs = []\n",
    "\n",
    "cur_x = 1\n",
    "for l in lines:\n",
    "    vs = l.split()\n",
    "    op = vs[0]\n",
    "    if op == \"noop\":\n",
    "        sig_strs.append(cur_x)\n",
    "    elif op == \"addx\":\n",
    "        num = int(vs[1])\n",
    "        sig_strs.append(cur_x)\n",
    "        cur_x += num\n",
    "        sig_strs.append(cur_x)\n",
    "    else:\n",
    "        print(\"invalid!\", vs)\n",
    "    "
   ]
  },
  {
   "cell_type": "code",
   "execution_count": 6,
   "id": "fb0b107f-7650-4c85-8d18-6c659474e43a",
   "metadata": {},
   "outputs": [
    {
     "data": {
      "text/plain": [
       "240"
      ]
     },
     "execution_count": 6,
     "metadata": {},
     "output_type": "execute_result"
    }
   ],
   "source": [
    "len(sig_strs)"
   ]
  },
  {
   "cell_type": "code",
   "execution_count": 7,
   "id": "6315eca3-b795-4076-8836-ec2a93c299bd",
   "metadata": {},
   "outputs": [
    {
     "data": {
      "text/plain": [
       "[18, 19, 19, 19]"
      ]
     },
     "execution_count": 7,
     "metadata": {},
     "output_type": "execute_result"
    }
   ],
   "source": [
    "sig_strs[218:222]"
   ]
  },
  {
   "cell_type": "code",
   "execution_count": 8,
   "id": "6f975e61-f4ca-4eb4-9d0f-7e01c4160074",
   "metadata": {},
   "outputs": [
    {
     "name": "stdout",
     "output_type": "stream",
     "text": [
      "20 21 420\n",
      "60 19 1140\n",
      "100 18 1800\n",
      "140 21 2940\n",
      "180 16 2880\n",
      "220 19 4180\n"
     ]
    },
    {
     "data": {
      "text/plain": [
       "13360"
      ]
     },
     "execution_count": 8,
     "metadata": {},
     "output_type": "execute_result"
    }
   ],
   "source": [
    "total = 0\n",
    "for s in [19, 59, 99, 139, 179, 219]:\n",
    "    print(s+1, sig_strs[s], sig_strs[s] * (s + 1))\n",
    "    total += sig_strs[s] * (s + 1)\n",
    "total\n"
   ]
  },
  {
   "cell_type": "code",
   "execution_count": 18,
   "id": "9078b88e-1acd-433e-ae9f-610d7759106b",
   "metadata": {},
   "outputs": [],
   "source": [
    "s = \"#\"\n",
    "for i, x in enumerate(sig_strs):\n",
    "    pos = (i + 1) % 40\n",
    "    if abs(pos - x) <= 1:\n",
    "        s += \"#\"\n",
    "    else:\n",
    "        s += \".\"\n",
    "    if pos == 39:\n",
    "        s += \"\\n\"\n",
    "    "
   ]
  },
  {
   "cell_type": "code",
   "execution_count": 19,
   "id": "ab633827-3183-481e-8652-a8945dfb19d1",
   "metadata": {},
   "outputs": [
    {
     "data": {
      "text/plain": [
       "[1, 16, 16, 5, 5, 11, 11, 8, 8, 13]"
      ]
     },
     "execution_count": 19,
     "metadata": {},
     "output_type": "execute_result"
    }
   ],
   "source": [
    "sig_strs[:10]"
   ]
  },
  {
   "cell_type": "code",
   "execution_count": 20,
   "id": "59e6411d-9921-4a2e-a31a-03926e828308",
   "metadata": {},
   "outputs": [
    {
     "name": "stdout",
     "output_type": "stream",
     "text": [
      "##..##..##..##..##..##..##..##..##..##..\n",
      "###...###...###...###...###...###...###.\n",
      "####....####....####....####....####....\n",
      "#####.....#####.....#####.....#####.....\n",
      "######......######......######......####\n",
      "#######.......#######.......#######.....\n",
      ".\n"
     ]
    }
   ],
   "source": [
    "print(s)"
   ]
  },
  {
   "cell_type": "code",
   "execution_count": 21,
   "id": "0eeaea0b-1a4f-4551-8699-a5a234f50920",
   "metadata": {},
   "outputs": [],
   "source": [
    "# REHPRLUB"
   ]
  },
  {
   "cell_type": "code",
   "execution_count": 22,
   "id": "16d513f1-7e7c-4c0d-9c08-b272a9dbc183",
   "metadata": {},
   "outputs": [
    {
     "name": "stdout",
     "output_type": "stream",
     "text": [
      "#..##..##..##..##..##..##..##..##..##..\n",
      "#\n"
     ]
    }
   ],
   "source": [
    "s = \"\"\n",
    "for i, x in enumerate(sig_strs[:40]):\n",
    "    #print(\"row\", i, \", pos\", x)\n",
    "    pos = (i + 1) % 40\n",
    "    if abs(pos - x) <= 1:\n",
    "        s += \"#\"\n",
    "    else:\n",
    "        s += \".\"\n",
    "    if pos == 39:\n",
    "        s += \"\\n\"\n",
    "print(s)"
   ]
  },
  {
   "cell_type": "code",
   "execution_count": null,
   "id": "2945be7b-3e11-4850-ac3d-5d4060d62250",
   "metadata": {},
   "outputs": [],
   "source": []
  }
 ],
 "metadata": {
  "kernelspec": {
   "display_name": "base",
   "language": "python",
   "name": "base"
  },
  "language_info": {
   "codemirror_mode": {
    "name": "ipython",
    "version": 3
   },
   "file_extension": ".py",
   "mimetype": "text/x-python",
   "name": "python",
   "nbconvert_exporter": "python",
   "pygments_lexer": "ipython3",
   "version": "3.7.10"
  }
 },
 "nbformat": 4,
 "nbformat_minor": 5
}
