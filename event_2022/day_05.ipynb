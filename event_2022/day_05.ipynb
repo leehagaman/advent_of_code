{
 "cells": [
  {
   "cell_type": "code",
   "execution_count": 1,
   "id": "1cf85486-d2c2-4849-9ba7-93badc042e4e",
   "metadata": {},
   "outputs": [],
   "source": [
    "import numpy as np"
   ]
  },
  {
   "cell_type": "code",
   "execution_count": 2,
   "id": "0a22ef8f-14c7-4e84-8347-b3c5cf8010c5",
   "metadata": {},
   "outputs": [
    {
     "name": "stdout",
     "output_type": "stream",
     "text": [
      "['move 2 from 1 to 7', 'move 6 from 2 to 6', 'move 10 from 7 to 6', 'move 4 from 3 to 1', 'move 5 from 6 to 4', 'move 1 from 1 to 9', 'move 4 from 6 to 9', 'move 12 from 4 to 1', 'move 5 from 1 to 4', 'move 7 from 9 to 8']\n",
      "[2, 6, 10, 4, 5, 1, 4, 12, 5, 7]\n",
      "[1, 2, 7, 3, 6, 1, 6, 4, 1, 9]\n",
      "[7, 6, 6, 1, 4, 9, 9, 1, 4, 8]\n"
     ]
    }
   ],
   "source": [
    "with open(\"input_day_05.txt\") as file:\n",
    "    lines = file.read().strip().split(\"\\n\")\n",
    "    move_strs = lines[10:]\n",
    "    nums = [int(s[5:].split(\"from\")[0].strip()) for s in move_strs]\n",
    "    froms = [int(s[5:].split(\"from\")[1].split(\"to\")[0].strip()) for s in move_strs]\n",
    "    tos = [int(s[5:].split(\"from\")[1].split(\"to\")[1].strip()) for s in move_strs]\n",
    "    \n",
    "    #pairs = [l.split(\",\") for l in lines]\n",
    "\n",
    "    \n",
    "print(move_strs[:10])\n",
    "print(nums[:10])\n",
    "print(froms[:10])\n",
    "print(tos[:10])\n"
   ]
  },
  {
   "cell_type": "code",
   "execution_count": 3,
   "id": "92365df0-c605-49d4-abf1-ad38d946db1a",
   "metadata": {},
   "outputs": [],
   "source": [
    "stacks = [\n",
    "    [\"V\",\"Q\",\"W\",\"M\",\"B\",\"N\",\"Z\",\"C\"],\n",
    "    [\"B\", \"C\", \"W\", \"R\", \"Z\", \"H\"],\n",
    "    [\"J\", \"R\", \"Q\", \"F\"],\n",
    "    [\"T\", \"M\", \"N\", \"F\", \"H\", \"W\", \"S\", \"Z\"],\n",
    "    [\"P\", \"Q\", \"N\", \"L\", \"W\", \"F\", \"G\"], \n",
    "    [\"W\", \"P\", \"L\"],\n",
    "    [\"J\", \"Q\", \"C\", \"G\", \"R\", \"D\", \"B\", \"V\"],\n",
    "    [\"W\", \"B\", \"N\", \"Q\", \"Z\"],\n",
    "    [\"J\", \"T\", \"G\", \"C\", \"F\", \"L\", \"H\"]\n",
    "]"
   ]
  },
  {
   "cell_type": "code",
   "execution_count": 4,
   "id": "86ba489f-6fd6-4ad2-bfcc-8f9da1a83dc4",
   "metadata": {},
   "outputs": [],
   "source": [
    "for i in range(len(move_strs)):\n",
    "    #print(stacks)\n",
    "    #print(\"stack after \", move_strs[i])\n",
    "    for j in range(nums[i]):\n",
    "        stacks[tos[i]-1] = [stacks[froms[i]-1][0]] + stacks[tos[i]-1]\n",
    "        stacks[froms[i]-1] = stacks[froms[i]-1][1:]"
   ]
  },
  {
   "cell_type": "code",
   "execution_count": 5,
   "id": "4e7bb6fe-79ca-4d03-acfe-4c00631ec551",
   "metadata": {},
   "outputs": [
    {
     "name": "stdout",
     "output_type": "stream",
     "text": [
      "QNHWJVJZW"
     ]
    }
   ],
   "source": [
    "for s in stacks:\n",
    "    print(s[0], end=\"\")"
   ]
  },
  {
   "cell_type": "code",
   "execution_count": 6,
   "id": "20015c97-24ef-4af2-9a10-d2410530a004",
   "metadata": {},
   "outputs": [],
   "source": [
    "stacks = [\n",
    "    [\"V\",\"Q\",\"W\",\"M\",\"B\",\"N\",\"Z\",\"C\"],\n",
    "    [\"B\", \"C\", \"W\", \"R\", \"Z\", \"H\"],\n",
    "    [\"J\", \"R\", \"Q\", \"F\"],\n",
    "    [\"T\", \"M\", \"N\", \"F\", \"H\", \"W\", \"S\", \"Z\"],\n",
    "    [\"P\", \"Q\", \"N\", \"L\", \"W\", \"F\", \"G\"], \n",
    "    [\"W\", \"P\", \"L\"],\n",
    "    [\"J\", \"Q\", \"C\", \"G\", \"R\", \"D\", \"B\", \"V\"],\n",
    "    [\"W\", \"B\", \"N\", \"Q\", \"Z\"],\n",
    "    [\"J\", \"T\", \"G\", \"C\", \"F\", \"L\", \"H\"]\n",
    "]"
   ]
  },
  {
   "cell_type": "code",
   "execution_count": 7,
   "id": "bc8cb47f-9b18-40fa-b233-1011bc44917f",
   "metadata": {},
   "outputs": [],
   "source": [
    "for i in range(len(move_strs)):\n",
    "    #print(stacks)\n",
    "    #print(\"stack after \", move_strs[i])\n",
    "    stacks[tos[i]-1] = stacks[froms[i]-1][:nums[i]] + stacks[tos[i]-1]\n",
    "    stacks[froms[i]-1] = stacks[froms[i]-1][nums[i]:]"
   ]
  },
  {
   "cell_type": "code",
   "execution_count": 8,
   "id": "3bd162ac-3c43-466a-a9e8-9d5533f1b515",
   "metadata": {},
   "outputs": [
    {
     "name": "stdout",
     "output_type": "stream",
     "text": [
      "BPCZJLFJW"
     ]
    }
   ],
   "source": [
    "for s in stacks:\n",
    "    print(s[0], end=\"\")"
   ]
  },
  {
   "cell_type": "code",
   "execution_count": 9,
   "id": "ce25b05a-31c0-425b-afa4-645f39fa6a97",
   "metadata": {},
   "outputs": [
    {
     "data": {
      "text/plain": [
       "[['B', 'Q', 'Z', 'Q', 'N', 'N', 'R', 'F', 'M', 'C'],\n",
       " ['P'],\n",
       " ['C', 'N', 'C', 'T', 'Z', 'L'],\n",
       " ['Z', 'W', 'H', 'W', 'D', 'B', 'W', 'S', 'W', 'G', 'Z', 'J', 'G', 'B'],\n",
       " ['J', 'F', 'H', 'Q', 'C', 'N', 'T', 'W', 'B'],\n",
       " ['L', 'F'],\n",
       " ['F', 'V'],\n",
       " ['J', 'M', 'Q', 'R', 'Q', 'H', 'R', 'P', 'V'],\n",
       " ['W', 'L', 'G']]"
      ]
     },
     "execution_count": 9,
     "metadata": {},
     "output_type": "execute_result"
    }
   ],
   "source": [
    "stacks"
   ]
  },
  {
   "cell_type": "code",
   "execution_count": null,
   "id": "fe8227cd-aabb-420b-8f3d-e22968064a05",
   "metadata": {},
   "outputs": [],
   "source": []
  }
 ],
 "metadata": {
  "kernelspec": {
   "display_name": "base",
   "language": "python",
   "name": "base"
  },
  "language_info": {
   "codemirror_mode": {
    "name": "ipython",
    "version": 3
   },
   "file_extension": ".py",
   "mimetype": "text/x-python",
   "name": "python",
   "nbconvert_exporter": "python",
   "pygments_lexer": "ipython3",
   "version": "3.7.10"
  }
 },
 "nbformat": 4,
 "nbformat_minor": 5
}
