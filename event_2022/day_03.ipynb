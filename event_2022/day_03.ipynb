{
 "cells": [
  {
   "cell_type": "code",
   "execution_count": 1,
   "id": "1cf85486-d2c2-4849-9ba7-93badc042e4e",
   "metadata": {},
   "outputs": [],
   "source": [
    "import numpy as np"
   ]
  },
  {
   "cell_type": "code",
   "execution_count": 2,
   "id": "0a22ef8f-14c7-4e84-8347-b3c5cf8010c5",
   "metadata": {},
   "outputs": [
    {
     "name": "stdout",
     "output_type": "stream",
     "text": [
      "['WwcsbsWwspmFTGVV', 'RHtMDHdSMnDBGMSDvnvDjtmpTpjTFggpmjmTFggTjmpP', 'vtCSGRMBDzHddvBHBzRhrlcZhlLzWNlqblhzcr', 'shhszHNHHZWqSzVNdClMjlFjBBbNTB', 'tQQGmnrMnJnGfmvrRRPCjlbljFBdjFCjTjnP', 'mRwtfGrMmJtwRDvQJQrJpMLSzVDHzhzHZqZzqSzcWVWH', 'WsWWgrtgsrhTQtsFcWPcRMCCTvqvMvqNNqMMHlMq', 'bBJrBGbzzLJznJrbSDGGJLqmlvqMqvlmLHRqRZZRNZ', 'bzJfDGVSzVrJGwjVGPPpQthdPsPpjdphsc', 'pJpCCBSWlczWWBWMHdMmMsFmpddrgF']\n"
     ]
    }
   ],
   "source": [
    "with open(\"input_day_03.txt\") as file:\n",
    "    #with open(\"input_day_02_test.txt\") as file:\n",
    "    lines = file.read().strip().split(\"\\n\")\n",
    "    #rounds = [line.split(\" \") for line in lines]\n",
    "    \n",
    "print(lines[:10])\n",
    "    "
   ]
  },
  {
   "cell_type": "code",
   "execution_count": 4,
   "id": "43cb4199-2af5-49d3-af3a-cca96faea732",
   "metadata": {},
   "outputs": [
    {
     "data": {
      "text/plain": [
       "7850"
      ]
     },
     "execution_count": 4,
     "metadata": {},
     "output_type": "execute_result"
    }
   ],
   "source": [
    "p_tot = 0\n",
    "\n",
    "for r in lines:\n",
    "    c1 = r[:int(len(r)/2)]\n",
    "    c2 = r[int(len(r)/2):]\n",
    "    \n",
    "    for i in c1:\n",
    "        if i in c2:\n",
    "            if i.isupper():\n",
    "                p = ord(i) - 38\n",
    "            if i.islower():\n",
    "                p = ord(i) - 96\n",
    "                \n",
    "    p_tot += p\n",
    "            \n",
    "    \n",
    "p_tot"
   ]
  },
  {
   "cell_type": "code",
   "execution_count": 8,
   "id": "49f9592a-af14-479c-9795-94d5c080436c",
   "metadata": {},
   "outputs": [
    {
     "data": {
      "text/plain": [
       "2581"
      ]
     },
     "execution_count": 8,
     "metadata": {},
     "output_type": "execute_result"
    }
   ],
   "source": [
    "p_tot = 0\n",
    "\n",
    "for j in range(int(len(lines) / 3)):\n",
    "    \n",
    "    c1 = lines[3*j]\n",
    "    c2 = lines[3*j+1]\n",
    "    c3 = lines[3*j+2]\n",
    "    \n",
    "    for i in c1:\n",
    "        if i in c2:\n",
    "            if i in c3:\n",
    "                if i.isupper():\n",
    "                    p = ord(i) - 38\n",
    "                if i.islower():\n",
    "                    p = ord(i) - 96\n",
    "                \n",
    "    p_tot += p\n",
    "            \n",
    "    \n",
    "p_tot"
   ]
  },
  {
   "cell_type": "code",
   "execution_count": null,
   "id": "1eb17a09-23eb-4f16-9c12-c9f1738040f7",
   "metadata": {},
   "outputs": [],
   "source": []
  }
 ],
 "metadata": {
  "kernelspec": {
   "display_name": "base",
   "language": "python",
   "name": "base"
  },
  "language_info": {
   "codemirror_mode": {
    "name": "ipython",
    "version": 3
   },
   "file_extension": ".py",
   "mimetype": "text/x-python",
   "name": "python",
   "nbconvert_exporter": "python",
   "pygments_lexer": "ipython3",
   "version": "3.7.10"
  }
 },
 "nbformat": 4,
 "nbformat_minor": 5
}
