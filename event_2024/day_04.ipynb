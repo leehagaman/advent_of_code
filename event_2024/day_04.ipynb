{
 "cells": [
  {
   "cell_type": "code",
   "execution_count": 1,
   "metadata": {},
   "outputs": [],
   "source": [
    "import numpy as np"
   ]
  },
  {
   "cell_type": "code",
   "execution_count": 2,
   "metadata": {},
   "outputs": [],
   "source": [
    "with open('input_day_04.txt', 'r') as file:\n",
    "    input_string = file.read()\n",
    "\n",
    "test_input_string = \"\"\"\n",
    "MMMSXXMASM\n",
    "MSAMXMSMSA\n",
    "AMXSXMAAMM\n",
    "MSAMASMSMX\n",
    "XMASAMXAMM\n",
    "XXAMMXXAMA\n",
    "SMSMSASXSS\n",
    "SAXAMASAAA\n",
    "MAMMMXMMMM\n",
    "MXMXAXMASX\n",
    "\"\"\".strip()"
   ]
  },
  {
   "cell_type": "code",
   "execution_count": 3,
   "metadata": {},
   "outputs": [],
   "source": [
    "rows = input_string.split(\"\\n\")\n",
    "grid = np.array([list(row) for row in rows])"
   ]
  },
  {
   "cell_type": "code",
   "execution_count": 4,
   "metadata": {},
   "outputs": [
    {
     "data": {
      "text/plain": [
       "18"
      ]
     },
     "execution_count": 4,
     "metadata": {},
     "output_type": "execute_result"
    }
   ],
   "source": [
    "offsets = (\n",
    "    ((-1, 0), (-2, 0), (-3, 0)),    # left\n",
    "    ((1, 0), (2, 0), (3, 0)),       # right\n",
    "    ((0, -1), (0, -2), (0, -3)),    # up\n",
    "    ((0, 1), (0, 2), (0, 3)),       # down\n",
    "    ((1, 1), (2, 2), (3, 3)),       # bottom right\n",
    "    ((1, -1), (2, -2), (3, -3)),    # top right\n",
    "    ((-1, -1), (-2, -2), (-3, -3)), # top left\n",
    "    ((-1, 1), (-2, 2), (-3, 3)),    # bottom left\n",
    ")\n",
    "\n",
    "R = len(grid)\n",
    "C = len(grid[0])\n",
    "\n",
    "ans = 0\n",
    "\n",
    "for r in range(R):\n",
    "    for c in range(C):\n",
    "        if grid[r, c] != \"X\":\n",
    "            continue\n",
    "        for offset in offsets:\n",
    "            xmas = True\n",
    "            for i in range(3):\n",
    "                rr = r + offset[i][0]\n",
    "                cc = c + offset[i][1]\n",
    "                if not (0 <= rr < R and 0 <= cc < C):\n",
    "                    xmas = False\n",
    "                    continue\n",
    "                if grid[rr, cc] != \"MAS\"[i]:\n",
    "                    xmas = False\n",
    "            if xmas:\n",
    "                ans += 1\n",
    "\n",
    "ans\n"
   ]
  },
  {
   "cell_type": "code",
   "execution_count": 5,
   "metadata": {},
   "outputs": [
    {
     "data": {
      "text/plain": [
       "9"
      ]
     },
     "execution_count": 5,
     "metadata": {},
     "output_type": "execute_result"
    }
   ],
   "source": [
    "offsets = (\n",
    "    ((1, 1), (1, -1), (-1, -1), (-1, 1)),\n",
    "    ((1, -1), (-1, -1), (-1, 1), (1, 1)),\n",
    "    ((-1, -1), (-1, 1), (1, 1), (1, -1)),\n",
    "    ((-1, 1), (1, 1), (1, -1), (-1, -1)),\n",
    ")\n",
    "\n",
    "R = len(grid)\n",
    "C = len(grid[0])\n",
    "\n",
    "ans = 0\n",
    "\n",
    "for r in range(R):\n",
    "    for c in range(C):\n",
    "        if grid[r, c] != \"A\":\n",
    "            continue\n",
    "        xmas = False\n",
    "        for offset in offsets:\n",
    "            curr_xmas = True\n",
    "            for i in range(4):\n",
    "                rr = r + offset[i][0]\n",
    "                cc = c + offset[i][1]\n",
    "                if not (0 <= rr < R and 0 <= cc < C):\n",
    "                    curr_xmas = False\n",
    "                    continue\n",
    "                if grid[rr, cc] != \"MMSS\"[i]:\n",
    "                    curr_xmas = False\n",
    "            if curr_xmas:\n",
    "                xmas = True\n",
    "        if xmas:\n",
    "            ans += 1\n",
    "\n",
    "ans\n"
   ]
  },
  {
   "cell_type": "code",
   "execution_count": null,
   "metadata": {},
   "outputs": [],
   "source": []
  }
 ],
 "metadata": {
  "kernelspec": {
   "display_name": "base_2",
   "language": "python",
   "name": "python3"
  },
  "language_info": {
   "codemirror_mode": {
    "name": "ipython",
    "version": 3
   },
   "file_extension": ".py",
   "mimetype": "text/x-python",
   "name": "python",
   "nbconvert_exporter": "python",
   "pygments_lexer": "ipython3",
   "version": "3.10.10"
  }
 },
 "nbformat": 4,
 "nbformat_minor": 2
}
