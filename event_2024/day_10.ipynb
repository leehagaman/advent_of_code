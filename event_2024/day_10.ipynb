{
 "cells": [
  {
   "cell_type": "code",
   "execution_count": 1,
   "metadata": {},
   "outputs": [],
   "source": [
    "import numpy as np\n",
    "import copy\n",
    "\n",
    "from collections import defaultdict\n",
    "\n",
    "from tqdm.notebook import tqdm\n"
   ]
  },
  {
   "cell_type": "code",
   "execution_count": 2,
   "metadata": {},
   "outputs": [],
   "source": [
    "with open('input_day_10.txt', 'r') as file:\n",
    "    input_string = file.read()\n",
    "\n",
    "test_input_string = \"\"\"\n",
    "89010123\n",
    "78121874\n",
    "87430965\n",
    "96549874\n",
    "45678903\n",
    "32019012\n",
    "01329801\n",
    "10456732\n",
    "\"\"\".strip()\n"
   ]
  },
  {
   "cell_type": "code",
   "execution_count": 3,
   "metadata": {},
   "outputs": [
    {
     "data": {
      "text/plain": [
       "624"
      ]
     },
     "execution_count": 3,
     "metadata": {},
     "output_type": "execute_result"
    }
   ],
   "source": [
    "grid = [[int(c) for c in row] for row in input_string.split(\"\\n\")]\n",
    "\n",
    "R = len(grid)\n",
    "C = len(grid[0])\n",
    "\n",
    "potential_trailheads = []\n",
    "for r in range(R):\n",
    "    for c in range(C):\n",
    "        if grid[r][c] == 0:\n",
    "            potential_trailheads.append((r, c))\n",
    "\n",
    "dic = defaultdict(set)\n",
    "visited = set()\n",
    "\n",
    "def get_all_possible_ends(trailhead, curr_pos):\n",
    "    if (trailhead, curr_pos) in visited:\n",
    "        return\n",
    "    visited.add((trailhead, curr_pos))\n",
    "    curr_r, curr_c = curr_pos\n",
    "    if grid[curr_r][curr_c] == 9:\n",
    "        dic[(trailhead)].add(curr_pos)\n",
    "    else:\n",
    "        for dir in [(0, 1), (0, -1), (1, 0), (-1, 0)]:\n",
    "            new_r, new_c = curr_r + dir[0], curr_c + dir[1]\n",
    "            if not (0 <= new_r < R and 0 <= new_c < C):\n",
    "                continue\n",
    "            if grid[new_r][new_c] == grid[curr_r][curr_c] + 1:\n",
    "                get_all_possible_ends(trailhead, (new_r, new_c))\n",
    "\n",
    "for t in potential_trailheads:\n",
    "    get_all_possible_ends(t, t)\n",
    "\n",
    "tot = 0\n",
    "for k, v in dic.items():\n",
    "    tot += len(v)\n",
    "\n",
    "tot"
   ]
  },
  {
   "cell_type": "code",
   "execution_count": 4,
   "metadata": {},
   "outputs": [
    {
     "data": {
      "text/plain": [
       "1483"
      ]
     },
     "execution_count": 4,
     "metadata": {},
     "output_type": "execute_result"
    }
   ],
   "source": [
    "grid = [[int(c) for c in row] for row in input_string.split(\"\\n\")]\n",
    "\n",
    "R = len(grid)\n",
    "C = len(grid[0])\n",
    "\n",
    "potential_trailheads = []\n",
    "for r in range(R):\n",
    "    for c in range(C):\n",
    "        if grid[r][c] == 0:\n",
    "            potential_trailheads.append((r, c))\n",
    "\n",
    "dic = {}\n",
    "def get_number_of_paths_from(position):\n",
    "    if position in dic:\n",
    "        return dic[position]\n",
    "    curr_r, curr_c = position\n",
    "    if grid[curr_r][curr_c] == 9:\n",
    "        dic[position] = 1\n",
    "        return 1\n",
    "    num_paths = 0\n",
    "    for dir in [(0, 1), (0, -1), (1, 0), (-1, 0)]:\n",
    "        new_r, new_c = curr_r + dir[0], curr_c + dir[1]\n",
    "        if not (0 <= new_r < R and 0 <= new_c < C):\n",
    "            continue\n",
    "        if grid[new_r][new_c] == grid[curr_r][curr_c] + 1:\n",
    "            num_paths += get_number_of_paths_from((new_r, new_c))\n",
    "    dic[position] = num_paths\n",
    "    return num_paths\n",
    "\n",
    "tot = 0\n",
    "for t in potential_trailheads:\n",
    "    tot += get_number_of_paths_from(t)\n",
    "\n",
    "tot"
   ]
  },
  {
   "cell_type": "code",
   "execution_count": null,
   "metadata": {},
   "outputs": [],
   "source": []
  }
 ],
 "metadata": {
  "kernelspec": {
   "display_name": "base_2",
   "language": "python",
   "name": "python3"
  },
  "language_info": {
   "codemirror_mode": {
    "name": "ipython",
    "version": 3
   },
   "file_extension": ".py",
   "mimetype": "text/x-python",
   "name": "python",
   "nbconvert_exporter": "python",
   "pygments_lexer": "ipython3",
   "version": "3.10.10"
  }
 },
 "nbformat": 4,
 "nbformat_minor": 2
}
