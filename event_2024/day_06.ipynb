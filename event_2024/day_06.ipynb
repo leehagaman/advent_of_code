{
 "cells": [
  {
   "cell_type": "code",
   "execution_count": 1,
   "metadata": {},
   "outputs": [],
   "source": [
    "import numpy as np\n",
    "import copy\n",
    "\n",
    "from tqdm.notebook import tqdm\n"
   ]
  },
  {
   "cell_type": "code",
   "execution_count": 2,
   "metadata": {},
   "outputs": [],
   "source": [
    "with open('input_day_06.txt', 'r') as file:\n",
    "    input_string = file.read()\n",
    "\n",
    "test_input_string = \"\"\"\n",
    "....#.....\n",
    ".........#\n",
    "..........\n",
    "..#.......\n",
    ".......#..\n",
    "..........\n",
    ".#..^.....\n",
    "........#.\n",
    "#.........\n",
    "......#...\n",
    "\"\"\".strip()"
   ]
  },
  {
   "cell_type": "code",
   "execution_count": 3,
   "metadata": {},
   "outputs": [],
   "source": [
    "rows = input_string.split(\"\\n\")\n",
    "rows = [list(row) for row in rows]\n",
    "\n",
    "R = len(rows)\n",
    "C = len(rows[0])\n",
    "\n",
    "for r in range(R):\n",
    "    for c in range(C):\n",
    "        if rows[r][c] == \"^\":\n",
    "            start_r = r\n",
    "            start_c = c\n"
   ]
  },
  {
   "cell_type": "code",
   "execution_count": 4,
   "metadata": {},
   "outputs": [
    {
     "name": "stdout",
     "output_type": "stream",
     "text": [
      "4433\n"
     ]
    }
   ],
   "source": [
    "visited = set()\n",
    "\n",
    "r = start_r\n",
    "c = start_c\n",
    "dir = (-1, 0)\n",
    "while True:\n",
    "    visited.add((r, c))\n",
    "    new_r = r + dir[0]\n",
    "    new_c = c + dir[1]\n",
    "    if not (0 <= new_r < R and 0 <= new_c < C):\n",
    "        break\n",
    "    if rows[new_r][new_c] == \"#\":\n",
    "        if dir == (-1, 0): new_dir = (0, 1)\n",
    "        if dir == (0, 1): new_dir = (1, 0)\n",
    "        if dir == (1, 0): new_dir = (0, -1)\n",
    "        if dir == (0, -1): new_dir = (-1, 0)\n",
    "        dir = new_dir\n",
    "        continue\n",
    "    r = new_r\n",
    "    c = new_c\n",
    "\n",
    "print(len(list(visited)))\n"
   ]
  },
  {
   "cell_type": "code",
   "execution_count": 5,
   "metadata": {},
   "outputs": [
    {
     "data": {
      "application/vnd.jupyter.widget-view+json": {
       "model_id": "9d6e509ce33945f38aa4637ff54409df",
       "version_major": 2,
       "version_minor": 0
      },
      "text/plain": [
       "  0%|          | 0/130 [00:00<?, ?it/s]"
      ]
     },
     "metadata": {},
     "output_type": "display_data"
    },
    {
     "name": "stdout",
     "output_type": "stream",
     "text": [
      "1516\n"
     ]
    }
   ],
   "source": [
    "tot = 0\n",
    "\n",
    "for block_r in tqdm(range(R)):\n",
    "    for block_c in range(C):\n",
    "        if block_r == start_r and block_c == start_c:\n",
    "            continue\n",
    "        new_rows = copy.deepcopy(rows)\n",
    "        new_rows[block_r][block_c] = \"#\"\n",
    "\n",
    "        num_steps = 0\n",
    "        r = start_r\n",
    "        c = start_c\n",
    "        dir = (-1, 0)\n",
    "        states = set()\n",
    "        while True:\n",
    "            states.add((dir, (r, c)))\n",
    "            visited.add((r, c))\n",
    "            new_r = r + dir[0]\n",
    "            new_c = c + dir[1]\n",
    "            if not (0 <= new_r < R and 0 <= new_c < C):\n",
    "                break\n",
    "            if new_rows[new_r][new_c] == \"#\":\n",
    "                if dir == (-1, 0): new_dir = (0, 1)\n",
    "                if dir == (0, 1): new_dir = (1, 0)\n",
    "                if dir == (1, 0): new_dir = (0, -1)\n",
    "                if dir == (0, -1): new_dir = (-1, 0)\n",
    "                dir = new_dir\n",
    "                continue\n",
    "            r = new_r\n",
    "            c = new_c\n",
    "            num_steps += 1\n",
    "\n",
    "            if (dir, (r, c)) in states:\n",
    "                tot += 1\n",
    "                break\n",
    "\n",
    "print(tot)"
   ]
  },
  {
   "cell_type": "code",
   "execution_count": null,
   "metadata": {},
   "outputs": [],
   "source": []
  },
  {
   "cell_type": "code",
   "execution_count": null,
   "metadata": {},
   "outputs": [],
   "source": []
  }
 ],
 "metadata": {
  "kernelspec": {
   "display_name": "base_2",
   "language": "python",
   "name": "python3"
  },
  "language_info": {
   "codemirror_mode": {
    "name": "ipython",
    "version": 3
   },
   "file_extension": ".py",
   "mimetype": "text/x-python",
   "name": "python",
   "nbconvert_exporter": "python",
   "pygments_lexer": "ipython3",
   "version": "3.10.10"
  }
 },
 "nbformat": 4,
 "nbformat_minor": 2
}
