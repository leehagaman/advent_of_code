{
 "cells": [
  {
   "cell_type": "code",
   "execution_count": 1,
   "metadata": {},
   "outputs": [],
   "source": [
    "import numpy as np\n",
    "import copy\n",
    "\n",
    "from collections import defaultdict\n",
    "\n",
    "from tqdm.notebook import tqdm\n"
   ]
  },
  {
   "cell_type": "code",
   "execution_count": 2,
   "metadata": {},
   "outputs": [],
   "source": [
    "with open('input_day_13.txt', 'r') as file:\n",
    "    input_string = file.read()\n",
    "\n",
    "tinput_string = \"\"\"\n",
    "Button A: X+94, Y+34\n",
    "Button B: X+22, Y+67\n",
    "Prize: X=8400, Y=5400\n",
    "\n",
    "Button A: X+26, Y+66\n",
    "Button B: X+67, Y+21\n",
    "Prize: X=12748, Y=12176\n",
    "\n",
    "Button A: X+17, Y+86\n",
    "Button B: X+84, Y+37\n",
    "Prize: X=7870, Y=6450\n",
    "\n",
    "Button A: X+69, Y+23\n",
    "Button B: X+27, Y+71\n",
    "Prize: X=18641, Y=10279\n",
    "\"\"\".strip()\n"
   ]
  },
  {
   "cell_type": "code",
   "execution_count": 3,
   "metadata": {},
   "outputs": [
    {
     "name": "stdout",
     "output_type": "stream",
     "text": [
      "31065 93866170395343\n"
     ]
    }
   ],
   "source": [
    "machines = []\n",
    "for machine_str in input_string.split(\"\\n\\n\"):\n",
    "\n",
    "    lines = machine_str.split(\"\\n\")\n",
    "\n",
    "    A = lines[0].split(\":\")[1].split(\",\")\n",
    "    Ax = int(A[0].split(\"+\")[1])\n",
    "    Ay = int(A[1].split(\"+\")[1])\n",
    "\n",
    "    B = lines[1].split(\":\")[1].split(\",\")\n",
    "\n",
    "    Bx = int(B[0].split(\"+\")[1])\n",
    "    By = int(B[1].split(\"+\")[1])\n",
    "\n",
    "    P = lines[2].split(\":\")[1].split(\",\")\n",
    "    Px = int(P[0].split(\"=\")[1])\n",
    "    Py = int(P[1].split(\"=\")[1])\n",
    "\n",
    "    machines.append((Ax, Ay, Bx, By, Px, Py))\n",
    "\n",
    "\n",
    "part1 = 0\n",
    "part2 = 0\n",
    "for machine in machines:\n",
    "\n",
    "    Ax, Ay, Bx, By, Px, Py = machine\n",
    "\n",
    "    # sA * Ax + sB * Bx = Px\n",
    "    # sA * Ay + sB * By = Py\n",
    "\n",
    "    # sB = (Px - (sA * Ax)) / Bx\n",
    "    # sB = (Py - (sA * Ay)) / By\n",
    "\n",
    "    # (Px - (sA * Ax)) / Bx = (Py - (sA * Ay)) / By\n",
    "    # (Px - (sA * Ax)) * By = (Py - (sA * Ay)) * Bx\n",
    "    # - Ax * By * sA + Px * By = - Ay * Bx * sA + Py * Bx\n",
    "    # (Ay * Bx - Ax * By) * sA = Py * Bx - Px * By\n",
    "    # sA = (Py * Bx - Px * By) / (Ay * Bx - Ax * By)\n",
    "\n",
    "    sA = (Py * Bx - Px * By) / (Ay * Bx - Ax * By)\n",
    "    sB = (Py * Ax - Px * Ay) / (By * Ax - Bx * Ay)\n",
    "\n",
    "    if sA != int(sA) or sB != int(sB):\n",
    "        part1 += 0\n",
    "    else:\n",
    "        part1 += int(3 * sA + sB)\n",
    "\n",
    "    Px += 10000000000000\n",
    "    Py += 10000000000000\n",
    "\n",
    "    sA = (Py * Bx - Px * By) / (Ay * Bx - Ax * By)\n",
    "    sB = (Py * Ax - Px * Ay) / (By * Ax - Bx * Ay)\n",
    "\n",
    "    if sA != int(sA) or sB != int(sB):\n",
    "        part2 += 0\n",
    "    else:\n",
    "        part2 += int(3 * sA + sB)\n",
    "\n",
    "print(part1, part2)\n"
   ]
  },
  {
   "cell_type": "code",
   "execution_count": null,
   "metadata": {},
   "outputs": [],
   "source": []
  }
 ],
 "metadata": {
  "kernelspec": {
   "display_name": "base_2",
   "language": "python",
   "name": "python3"
  },
  "language_info": {
   "codemirror_mode": {
    "name": "ipython",
    "version": 3
   },
   "file_extension": ".py",
   "mimetype": "text/x-python",
   "name": "python",
   "nbconvert_exporter": "python",
   "pygments_lexer": "ipython3",
   "version": "3.10.10"
  }
 },
 "nbformat": 4,
 "nbformat_minor": 2
}
