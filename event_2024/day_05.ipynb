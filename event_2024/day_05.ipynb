{
 "cells": [
  {
   "cell_type": "code",
   "execution_count": 1,
   "metadata": {},
   "outputs": [],
   "source": [
    "import numpy as np"
   ]
  },
  {
   "cell_type": "code",
   "execution_count": 2,
   "metadata": {},
   "outputs": [],
   "source": [
    "with open('input_day_05.txt', 'r') as file:\n",
    "    input_string = file.read()\n",
    "\n",
    "test_input_string = \"\"\"\n",
    "47|53\n",
    "97|13\n",
    "97|61\n",
    "97|47\n",
    "75|29\n",
    "61|13\n",
    "75|53\n",
    "29|13\n",
    "97|29\n",
    "53|29\n",
    "61|53\n",
    "97|53\n",
    "61|29\n",
    "47|13\n",
    "75|47\n",
    "97|75\n",
    "47|61\n",
    "75|61\n",
    "47|29\n",
    "75|13\n",
    "53|13\n",
    "\n",
    "75,47,61,53,29\n",
    "97,61,53,29,13\n",
    "75,29,13\n",
    "75,97,47,61,53\n",
    "61,13,29\n",
    "97,13,75,29,47\n",
    "\"\"\".strip()"
   ]
  },
  {
   "cell_type": "code",
   "execution_count": 3,
   "metadata": {},
   "outputs": [],
   "source": [
    "rules, updates = input_string.split('\\n\\n')\n",
    "\n",
    "rules = rules.split(\"\\n\")\n",
    "rules = [rule.split(\"|\") for rule in rules]\n",
    "rules = [[int(num) for num in rule] for rule in rules]\n",
    "\n",
    "updates = updates.split(\"\\n\")\n",
    "updates = [update.split(\",\") for update in updates]\n",
    "updates = [[int(num) for num in update] for update in updates]\n"
   ]
  },
  {
   "cell_type": "code",
   "execution_count": 6,
   "metadata": {},
   "outputs": [
    {
     "name": "stdout",
     "output_type": "stream",
     "text": [
      "part 1: 4637\n",
      "part 2: 6370\n"
     ]
    }
   ],
   "source": [
    "part1 = 0\n",
    "part2 = 0\n",
    "\n",
    "for update in updates:\n",
    "    right_order = True\n",
    "    for rule in rules:\n",
    "        if not (rule[0] in update and rule[1] in update): continue\n",
    "        if update.index(rule[0]) > update.index(rule[1]):\n",
    "            right_order = False\n",
    "\n",
    "    if right_order:\n",
    "        part1 += update[len(update) // 2]\n",
    "\n",
    "    if not right_order:\n",
    "        new_order = update.copy()\n",
    "        while True:\n",
    "            all_right_order = True\n",
    "            for rule in rules:\n",
    "                if not (rule[0] in update and rule[1] in update): continue\n",
    "                i0 = new_order.index(rule[0])\n",
    "                i1 = new_order.index(rule[1])\n",
    "                if i0 > i1:\n",
    "                    all_right_order = False\n",
    "                    new_order[i0] = rule[1]\n",
    "                    new_order[i1] = rule[0]\n",
    "            if all_right_order:\n",
    "                break\n",
    "        part2 += new_order[len(new_order) // 2]\n",
    "\n",
    "print(f\"part 1: {part1}\")\n",
    "print(f\"part 2: {part2}\")\n"
   ]
  },
  {
   "cell_type": "code",
   "execution_count": null,
   "metadata": {},
   "outputs": [],
   "source": []
  }
 ],
 "metadata": {
  "kernelspec": {
   "display_name": "base_2",
   "language": "python",
   "name": "python3"
  },
  "language_info": {
   "codemirror_mode": {
    "name": "ipython",
    "version": 3
   },
   "file_extension": ".py",
   "mimetype": "text/x-python",
   "name": "python",
   "nbconvert_exporter": "python",
   "pygments_lexer": "ipython3",
   "version": "3.10.10"
  }
 },
 "nbformat": 4,
 "nbformat_minor": 2
}
