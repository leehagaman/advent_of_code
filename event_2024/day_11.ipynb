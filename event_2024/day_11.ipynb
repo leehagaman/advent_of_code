{
 "cells": [
  {
   "cell_type": "code",
   "execution_count": 1,
   "metadata": {},
   "outputs": [],
   "source": [
    "import numpy as np\n",
    "import copy\n",
    "\n",
    "from collections import defaultdict\n",
    "\n",
    "from tqdm.notebook import tqdm\n"
   ]
  },
  {
   "cell_type": "code",
   "execution_count": 2,
   "metadata": {},
   "outputs": [],
   "source": [
    "with open('input_day_11.txt', 'r') as file:\n",
    "    input_string = file.read()\n",
    "\n",
    "test_input_string = \"\"\"\n",
    "125 17\n",
    "\"\"\".strip()\n"
   ]
  },
  {
   "cell_type": "code",
   "execution_count": 5,
   "metadata": {},
   "outputs": [
    {
     "data": {
      "text/plain": [
       "240884656550923"
      ]
     },
     "execution_count": 5,
     "metadata": {},
     "output_type": "execute_result"
    }
   ],
   "source": [
    "stone_dic = defaultdict(int)\n",
    "for stone in input_string.split():\n",
    "    stone_dic[int(stone)] += 1\n",
    "\n",
    "for blink in range(75):\n",
    "    new_stone_dic = defaultdict(int)\n",
    "    for stone, count in stone_dic.items():\n",
    "        stone_str = str(stone)\n",
    "        stone_str_len = len(stone_str)\n",
    "        if stone == 0:\n",
    "            new_stone_dic[1] += count\n",
    "        elif stone_str_len % 2 == 0:\n",
    "            first_half = int(stone_str[:stone_str_len//2])\n",
    "            second_half = int(stone_str[stone_str_len//2:])\n",
    "            new_stone_dic[first_half] += count\n",
    "            new_stone_dic[second_half] += count\n",
    "        else:\n",
    "            new_stone_dic[stone * 2024] += count\n",
    "\n",
    "    stone_dic = new_stone_dic\n",
    "\n",
    "\n",
    "tot = 0\n",
    "for k, v in stone_dic.items():\n",
    "    tot += v\n",
    "tot"
   ]
  },
  {
   "cell_type": "code",
   "execution_count": null,
   "metadata": {},
   "outputs": [],
   "source": []
  }
 ],
 "metadata": {
  "kernelspec": {
   "display_name": "base_2",
   "language": "python",
   "name": "python3"
  },
  "language_info": {
   "codemirror_mode": {
    "name": "ipython",
    "version": 3
   },
   "file_extension": ".py",
   "mimetype": "text/x-python",
   "name": "python",
   "nbconvert_exporter": "python",
   "pygments_lexer": "ipython3",
   "version": "3.10.10"
  }
 },
 "nbformat": 4,
 "nbformat_minor": 2
}
