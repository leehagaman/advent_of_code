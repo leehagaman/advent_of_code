{
 "cells": [
  {
   "cell_type": "code",
   "execution_count": 1,
   "metadata": {},
   "outputs": [],
   "source": [
    "import numpy as np\n",
    "import copy\n",
    "\n",
    "from tqdm.notebook import tqdm\n"
   ]
  },
  {
   "cell_type": "code",
   "execution_count": 2,
   "metadata": {},
   "outputs": [],
   "source": [
    "with open('input_day_08.txt', 'r') as file:\n",
    "    input_string = file.read()\n",
    "\n",
    "test_input_string = \"\"\"\n",
    "............\n",
    "........0...\n",
    ".....0......\n",
    ".......0....\n",
    "....0.......\n",
    "......A.....\n",
    "............\n",
    "............\n",
    "........A...\n",
    ".........A..\n",
    "............\n",
    "............\n",
    "\"\"\".strip()"
   ]
  },
  {
   "cell_type": "code",
   "execution_count": 3,
   "metadata": {},
   "outputs": [
    {
     "data": {
      "text/plain": [
       "396"
      ]
     },
     "execution_count": 3,
     "metadata": {},
     "output_type": "execute_result"
    }
   ],
   "source": [
    "antinode_positions = set()\n",
    "\n",
    "grid = input_string.split(\"\\n\")\n",
    "\n",
    "R = len(grid)\n",
    "C = len(grid[0])\n",
    "\n",
    "antennas = set()\n",
    "for r in range(R):\n",
    "    for c in range(C):\n",
    "        if grid[r][c] != \".\":\n",
    "            antennas.add(grid[r][c])\n",
    "\n",
    "for antenna in list(antennas):\n",
    "    positions = []\n",
    "    for r in range(R):\n",
    "        for c in range(C):\n",
    "            if grid[r][c] == antenna:\n",
    "                positions.append((r, c))\n",
    "\n",
    "    for pos1 in positions:\n",
    "        for pos2 in positions:\n",
    "            if pos1 == pos2:\n",
    "                continue\n",
    "            diff = (pos1[0] - pos2[0], pos1[1] - pos2[1])\n",
    "\n",
    "            r, c = (pos1[0] + diff[0], pos1[1] + diff[1])\n",
    "            if (0 <= r < R and 0 <= c < C):\n",
    "                antinode_positions.add((r, c))\n",
    "\n",
    "            r, c = (pos2[0] - diff[0], pos2[1] - diff[1])\n",
    "            if (0 <= r < R and 0 <= c < C):\n",
    "                antinode_positions.add((r, c))\n",
    "\n",
    "len(antinode_positions)"
   ]
  },
  {
   "cell_type": "code",
   "execution_count": 4,
   "metadata": {},
   "outputs": [
    {
     "data": {
      "text/plain": [
       "1200"
      ]
     },
     "execution_count": 4,
     "metadata": {},
     "output_type": "execute_result"
    }
   ],
   "source": [
    "antinode_positions = set()\n",
    "\n",
    "grid = input_string.split(\"\\n\")\n",
    "\n",
    "R = len(grid)\n",
    "C = len(grid[0])\n",
    "\n",
    "antennas = set()\n",
    "for r in range(R):\n",
    "    for c in range(C):\n",
    "        if grid[r][c] != \".\":\n",
    "            antennas.add(grid[r][c])\n",
    "\n",
    "for antenna in list(antennas):\n",
    "    positions = []\n",
    "    for r in range(R):\n",
    "        for c in range(C):\n",
    "            if grid[r][c] == antenna:\n",
    "                positions.append((r, c))\n",
    "\n",
    "    for pos1 in positions:\n",
    "        for pos2 in positions:\n",
    "            if pos1 == pos2:\n",
    "                continue\n",
    "            diff = (pos1[0] - pos2[0], pos1[1] - pos2[1])\n",
    "            r, c = pos1\n",
    "            while True:\n",
    "                r += diff[0]\n",
    "                c += diff[1]\n",
    "                if not (0 <= r < R and 0 <= c < C):\n",
    "                    break\n",
    "                antinode_positions.add((r, c))\n",
    "            r, c = pos1\n",
    "            while True:\n",
    "                r -= diff[0]\n",
    "                c -= diff[1]\n",
    "                if not (0 <= r < R and 0 <= c < C):\n",
    "                    break\n",
    "                antinode_positions.add((r, c))\n",
    "            r, c = pos2\n",
    "            while True:\n",
    "                r += diff[0]\n",
    "                c += diff[1]\n",
    "                if not (0 <= r < R and 0 <= c < C):\n",
    "                    break\n",
    "                antinode_positions.add((r, c))\n",
    "            r, c = pos2\n",
    "            while True:\n",
    "                r -= diff[0]\n",
    "                c -= diff[1]\n",
    "                if not (0 <= r < R and 0 <= c < C):\n",
    "                    break\n",
    "                antinode_positions.add((r, c))\n",
    "\n",
    "len(antinode_positions)\n"
   ]
  },
  {
   "cell_type": "code",
   "execution_count": 5,
   "metadata": {},
   "outputs": [
    {
     "data": {
      "text/plain": [
       "1200"
      ]
     },
     "execution_count": 5,
     "metadata": {},
     "output_type": "execute_result"
    }
   ],
   "source": [
    "len(antinode_positions)"
   ]
  },
  {
   "cell_type": "code",
   "execution_count": null,
   "metadata": {},
   "outputs": [],
   "source": []
  },
  {
   "cell_type": "code",
   "execution_count": null,
   "metadata": {},
   "outputs": [],
   "source": []
  }
 ],
 "metadata": {
  "kernelspec": {
   "display_name": "base_2",
   "language": "python",
   "name": "python3"
  },
  "language_info": {
   "codemirror_mode": {
    "name": "ipython",
    "version": 3
   },
   "file_extension": ".py",
   "mimetype": "text/x-python",
   "name": "python",
   "nbconvert_exporter": "python",
   "pygments_lexer": "ipython3",
   "version": "3.10.10"
  }
 },
 "nbformat": 4,
 "nbformat_minor": 2
}
