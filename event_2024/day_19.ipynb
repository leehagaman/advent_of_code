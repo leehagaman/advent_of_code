{
 "cells": [
  {
   "cell_type": "code",
   "execution_count": 1,
   "metadata": {},
   "outputs": [],
   "source": [
    "import numpy as np\n",
    "import copy\n",
    "\n",
    "import heapq\n",
    "\n",
    "from collections import defaultdict\n",
    "\n",
    "from tqdm.notebook import tqdm\n",
    "\n",
    "import matplotlib.pyplot as plt\n"
   ]
  },
  {
   "cell_type": "code",
   "execution_count": 2,
   "metadata": {},
   "outputs": [],
   "source": [
    "with open('input_day_19.txt', 'r') as file:\n",
    "    input_string = file.read()\n",
    "\n",
    "\n",
    "test_input_string = \"\"\"\n",
    "r, wr, b, g, bwu, rb, gb, br\n",
    "\n",
    "brwrr\n",
    "bggr\n",
    "gbbr\n",
    "rrbgbr\n",
    "ubwu\n",
    "bwurrg\n",
    "brgr\n",
    "bbrgwb\n",
    "\"\"\".strip()\n"
   ]
  },
  {
   "cell_type": "code",
   "execution_count": 3,
   "metadata": {},
   "outputs": [],
   "source": [
    "towels_str, displays_str = input_string.split(\"\\n\\n\")\n",
    "\n",
    "towels = towels_str.split(\", \")\n",
    "\n",
    "confirmed_possible_set = set()\n",
    "confirmed_impossible_set = set()\n",
    "\n",
    "displays = displays_str.split(\"\\n\")\n"
   ]
  },
  {
   "cell_type": "code",
   "execution_count": 4,
   "metadata": {},
   "outputs": [],
   "source": [
    "num_ways_dic = {}\n",
    "\n",
    "def num_ways(display, num_indent=0, debug=False):\n",
    "\n",
    "    if debug: print(\" \"*num_indent + f\"checking '{display}'\")\n",
    "\n",
    "    if display in num_ways_dic:\n",
    "        return num_ways_dic[display]\n",
    "\n",
    "    # nothing case\n",
    "    if len(display) == 0:\n",
    "        return 1\n",
    "            \n",
    "    # length one case\n",
    "    if len(display) == 1:\n",
    "        for towel in towels:\n",
    "            if towel == display:\n",
    "                return 1\n",
    "        return 0\n",
    "    \n",
    "    tot_num_ways = 0\n",
    "    \n",
    "    # exact match\n",
    "    for towel in towels:\n",
    "        if towel == display:\n",
    "            tot_num_ways += 1\n",
    "            continue\n",
    "\n",
    "    if debug: print(\" \"*num_indent + \"curr tot_num_ways\", tot_num_ways)\n",
    "\n",
    "    splitting_index = len(display) // 2 # demand a split right in the center\n",
    "\n",
    "    # totally clean split, nothing crossing the middle\n",
    "    if len(display) >= 2:\n",
    "        clean_left = display[:splitting_index]\n",
    "        clean_right = display[splitting_index:]\n",
    "        if debug: print(\" \"*num_indent + f\"trying totally clean split, '{clean_left}' '{clean_right}' \")\n",
    "        tot_num_ways += num_ways(clean_left, num_indent=num_indent+2, debug=debug) * num_ways(clean_right, num_indent=num_indent+2, debug=debug)\n",
    "\n",
    "    if debug: print(\" \"*num_indent + \"curr tot_num_ways\", tot_num_ways)\n",
    "\n",
    "    # split with something bridging the middle\n",
    "    if len(display) >= 3:\n",
    "\n",
    "        for towel in towels:\n",
    "\n",
    "            if debug: print(\" \"*num_indent + \"trying to split with towel\", towel)\n",
    "\n",
    "            possible_indices = []\n",
    "            index = 0\n",
    "            for index in range(len(display)):\n",
    "                if display[index:index+len(towel)] == towel:\n",
    "                    possible_indices.append(index)\n",
    "\n",
    "            #if debug: print(\" \"*num_indent + \"possible indices:\", possible_indices)\n",
    "            for i in possible_indices:\n",
    "                #if debug: print(\" \"*num_indent + \"checking index\", i)\n",
    "\n",
    "                center_start = i\n",
    "                center_end = i + len(towel)\n",
    "\n",
    "                if not (center_start < splitting_index < center_end):\n",
    "                    continue\n",
    "\n",
    "                before = display[:i]\n",
    "                center = display[i:i+len(towel)]\n",
    "                after = display[i+len(towel):]\n",
    "\n",
    "                if len(before) == 0 and len(after) == 0:\n",
    "                    continue\n",
    "\n",
    "                if debug: print(\" \"*num_indent + f\"splitting into '{before}' '{center}' '{after}'\")\n",
    "\n",
    "                tot_num_ways += num_ways(before, num_indent=num_indent+2, debug=debug) * num_ways(after, num_indent=num_indent+2, debug=debug)\n",
    "\n",
    "    num_ways_dic[display] = tot_num_ways\n",
    "    if debug: print(\" \"*num_indent + \"returning\", tot_num_ways)\n",
    "    return tot_num_ways\n",
    "\n",
    "\n",
    "#num_ways(\"bwurrg\", debug=True)\n"
   ]
  },
  {
   "cell_type": "code",
   "execution_count": 5,
   "metadata": {},
   "outputs": [
    {
     "data": {
      "application/vnd.jupyter.widget-view+json": {
       "model_id": "988c05851b96491f9524546ea5c51aa8",
       "version_major": 2,
       "version_minor": 0
      },
      "text/plain": [
       "  0%|          | 0/400 [00:00<?, ?it/s]"
      ]
     },
     "metadata": {},
     "output_type": "display_data"
    },
    {
     "name": "stdout",
     "output_type": "stream",
     "text": [
      "260 639963796864990\n"
     ]
    }
   ],
   "source": [
    "part1 = 0\n",
    "part2 = 0\n",
    "for display in tqdm(displays):\n",
    "    n = num_ways(display)\n",
    "    #print(display, n)\n",
    "    if n > 0:\n",
    "        part1 += 1\n",
    "    part2 += n\n",
    "\n",
    "print(part1, part2)\n"
   ]
  },
  {
   "cell_type": "code",
   "execution_count": 6,
   "metadata": {},
   "outputs": [],
   "source": [
    "# 537468067888604 is too low\n",
    "# 538352476411678 is too low (different when switching <= and <)\n",
    "\n",
    "# 590245097519450 not right (switching to handle clean split case independently)\n"
   ]
  },
  {
   "cell_type": "code",
   "execution_count": null,
   "metadata": {},
   "outputs": [],
   "source": []
  },
  {
   "cell_type": "code",
   "execution_count": null,
   "metadata": {},
   "outputs": [],
   "source": []
  }
 ],
 "metadata": {
  "kernelspec": {
   "display_name": "base_2",
   "language": "python",
   "name": "python3"
  },
  "language_info": {
   "codemirror_mode": {
    "name": "ipython",
    "version": 3
   },
   "file_extension": ".py",
   "mimetype": "text/x-python",
   "name": "python",
   "nbconvert_exporter": "python",
   "pygments_lexer": "ipython3",
   "version": "3.10.10"
  }
 },
 "nbformat": 4,
 "nbformat_minor": 2
}
