{
 "cells": [
  {
   "cell_type": "code",
   "execution_count": 1,
   "metadata": {},
   "outputs": [],
   "source": [
    "import numpy as np\n",
    "import copy\n",
    "\n",
    "from collections import defaultdict\n",
    "\n",
    "from tqdm.notebook import tqdm\n"
   ]
  },
  {
   "cell_type": "code",
   "execution_count": 2,
   "metadata": {},
   "outputs": [],
   "source": [
    "with open('input_day_12.txt', 'r') as file:\n",
    "    input_string = file.read()\n",
    "\n",
    "test_input_string = \"\"\"\n",
    "RRRRIICCFF\n",
    "RRRRIICCCF\n",
    "VVRRRCCFFF\n",
    "VVRCCCJFFF\n",
    "VVVVCJJCFE\n",
    "VVIVCCJJEE\n",
    "VVIIICJJEE\n",
    "MIIIIIJJEE\n",
    "MIIISIJEEE\n",
    "MMMISSJEEE\n",
    "\"\"\".strip()\n"
   ]
  },
  {
   "cell_type": "code",
   "execution_count": 3,
   "metadata": {},
   "outputs": [
    {
     "name": "stdout",
     "output_type": "stream",
     "text": [
      "1518548 909564\n"
     ]
    }
   ],
   "source": [
    "grid = input_string.split(\"\\n\")\n",
    "\n",
    "R = len(grid)\n",
    "C = len(grid[0])\n",
    "\n",
    "set_ids = {}\n",
    "\n",
    "def flood_fill(pos, set_id, char):\n",
    "    if pos in set_ids:\n",
    "        return\n",
    "    r, c = pos\n",
    "    if not (0 <= r < R and 0 <= c < C):\n",
    "        return\n",
    "    if not grid[r][c] == char:\n",
    "        return\n",
    "    set_ids[pos] = set_id\n",
    "    for rr, cc in [(-1, 0), (1, 0), (0, -1), (0, 1)]:\n",
    "        flood_fill((r + rr, c + cc), set_id, char)\n",
    "\n",
    "max_set_id = 0\n",
    "for r in range(R):\n",
    "    for c in range(C):\n",
    "        if (r, c) in set_ids:\n",
    "            continue\n",
    "        char = grid[r][c]\n",
    "        flood_fill((r, c), max_set_id, char)\n",
    "        max_set_id += 1\n",
    "\n",
    "set_positions = [set() for _ in range(max_set_id)]\n",
    "for pos, set_id in set_ids.items():\n",
    "    set_positions[set_id].add(pos)\n",
    "\n",
    "part_1 = 0\n",
    "part_2 = 0\n",
    "for positions in set_positions:\n",
    "\n",
    "    area = len(positions)\n",
    "\n",
    "    total_num_neighbors = 0\n",
    "    num_double_top = 0\n",
    "    num_double_bottom = 0\n",
    "    num_double_left = 0\n",
    "    num_double_right = 0\n",
    "    for pos in positions:\n",
    "        r, c = pos\n",
    "        num_neighbors = 0\n",
    "        for rr, cc in [(-1, 0), (1, 0), (0, -1), (0, 1)]:\n",
    "            if (r + rr, c + cc) in positions:\n",
    "                total_num_neighbors += 1\n",
    "        if (r, c+1) in positions and not ((r-1, c) in positions) and not ((r-1, c+1) in positions):\n",
    "            num_double_top += 1\n",
    "        if (r, c+1) in positions and not ((r+1, c) in positions) and not ((r+1, c+1) in positions):\n",
    "            num_double_bottom += 1\n",
    "        if (r+1, c) in positions and not ((r, c-1) in positions) and not ((r+1, c-1) in positions):\n",
    "            num_double_left += 1\n",
    "        if (r+1, c) in positions and not ((r, c+1) in positions) and not ((r+1, c+1) in positions):\n",
    "            num_double_right += 1\n",
    "\n",
    "\n",
    "    perimeter = area * 4 - total_num_neighbors\n",
    "    part_1 += area * perimeter\n",
    "\n",
    "    num_double_sides = num_double_top + num_double_bottom + num_double_left + num_double_right\n",
    "    \n",
    "    part_2 += area * (perimeter - num_double_sides)\n",
    "        \n",
    "print(part_1, part_2)\n"
   ]
  },
  {
   "cell_type": "code",
   "execution_count": null,
   "metadata": {},
   "outputs": [],
   "source": []
  }
 ],
 "metadata": {
  "kernelspec": {
   "display_name": "base_2",
   "language": "python",
   "name": "python3"
  },
  "language_info": {
   "codemirror_mode": {
    "name": "ipython",
    "version": 3
   },
   "file_extension": ".py",
   "mimetype": "text/x-python",
   "name": "python",
   "nbconvert_exporter": "python",
   "pygments_lexer": "ipython3",
   "version": "3.10.10"
  }
 },
 "nbformat": 4,
 "nbformat_minor": 2
}
