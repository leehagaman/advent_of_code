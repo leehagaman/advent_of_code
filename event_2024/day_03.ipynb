{
 "cells": [
  {
   "cell_type": "code",
   "execution_count": 1,
   "metadata": {},
   "outputs": [],
   "source": [
    "with open('input_day_03.txt', 'r') as file:\n",
    "    input_string = file.read()\n",
    "\n",
    "#input_string = \"xmul(2,4)&mul[3,7]!^don't()_mul(5,5)+mul(32,64](mul(11,8)undo()?mul(8,5))\""
   ]
  },
  {
   "cell_type": "code",
   "execution_count": 2,
   "metadata": {},
   "outputs": [
    {
     "data": {
      "text/plain": [
       "188116424"
      ]
     },
     "execution_count": 2,
     "metadata": {},
     "output_type": "execute_result"
    }
   ],
   "source": [
    "ans = 0\n",
    "for i in range(len(input_string)):\n",
    "    if input_string[i : i + 4] == \"mul(\":\n",
    "\n",
    "        num1_substr = \"\"\n",
    "        for j1 in range(len(input_string) - i - 4):\n",
    "            if input_string[i + 4 + j1] in \"0123456789\":\n",
    "                num1_substr += input_string[i + 4 + j1]\n",
    "            else:\n",
    "                break\n",
    "        if input_string[i + 4 + j1] != \",\":\n",
    "            continue\n",
    "        num1 = int(num1_substr)\n",
    "\n",
    "        num2_substr = \"\"\n",
    "        for j2 in range(len(input_string) - i - 4 - j1 - 1):\n",
    "            if input_string[i + 4 + j1 + 1 + j2] in \"0123456789\":\n",
    "                num2_substr += input_string[i + 4 + j1 + 1 + j2]\n",
    "            else:\n",
    "                break\n",
    "        if input_string[i + 4 + j1 + 1 + j2] != \")\":\n",
    "            continue\n",
    "        num2 = int(num2_substr)\n",
    "\n",
    "        ans += num1 * num2\n",
    "\n",
    "ans\n"
   ]
  },
  {
   "cell_type": "code",
   "execution_count": 3,
   "metadata": {},
   "outputs": [
    {
     "data": {
      "text/plain": [
       "104245808"
      ]
     },
     "execution_count": 3,
     "metadata": {},
     "output_type": "execute_result"
    }
   ],
   "source": [
    "ans = 0\n",
    "for i in range(len(input_string)):\n",
    "    if input_string[i : i + 4] == \"mul(\":\n",
    "\n",
    "        enabled = True\n",
    "        backwards_string = input_string[:i][::-1]\n",
    "        for j0 in range(len(backwards_string) - 7):\n",
    "            chars = backwards_string[j0:j0+7]\n",
    "            if \"do()\"[::-1] in backwards_string[j0:j0+7]:\n",
    "                enabled = True\n",
    "                break\n",
    "            elif \"don't()\"[::-1] in backwards_string[j0:j0+7]:\n",
    "                enabled = False\n",
    "                break\n",
    "\n",
    "        num1_substr = \"\"\n",
    "        for j1 in range(len(input_string) - i - 4):\n",
    "            if input_string[i + 4 + j1] in \"0123456789\":\n",
    "                num1_substr += input_string[i + 4 + j1]\n",
    "            else:\n",
    "                break\n",
    "        if input_string[i + 4 + j1] != \",\":\n",
    "            continue\n",
    "        num1 = int(num1_substr)\n",
    "\n",
    "        num2_substr = \"\"\n",
    "        for j2 in range(len(input_string) - i - 4 - j1 - 1):\n",
    "            if input_string[i + 4 + j1 + 1 + j2] in \"0123456789\":\n",
    "                num2_substr += input_string[i + 4 + j1 + 1 + j2]\n",
    "            else:\n",
    "                break\n",
    "        if input_string[i + 4 + j1 + 1 + j2] != \")\":\n",
    "            continue\n",
    "        num2 = int(num2_substr)\n",
    "\n",
    "        ans += num1 * num2 * enabled\n",
    "\n",
    "ans"
   ]
  },
  {
   "cell_type": "code",
   "execution_count": null,
   "metadata": {},
   "outputs": [],
   "source": []
  }
 ],
 "metadata": {
  "kernelspec": {
   "display_name": "base_2",
   "language": "python",
   "name": "python3"
  },
  "language_info": {
   "codemirror_mode": {
    "name": "ipython",
    "version": 3
   },
   "file_extension": ".py",
   "mimetype": "text/x-python",
   "name": "python",
   "nbconvert_exporter": "python",
   "pygments_lexer": "ipython3",
   "version": "3.10.10"
  }
 },
 "nbformat": 4,
 "nbformat_minor": 2
}
