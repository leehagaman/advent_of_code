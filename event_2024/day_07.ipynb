{
 "cells": [
  {
   "cell_type": "code",
   "execution_count": 1,
   "metadata": {},
   "outputs": [],
   "source": [
    "import numpy as np\n",
    "import copy\n",
    "\n",
    "from tqdm.notebook import tqdm\n"
   ]
  },
  {
   "cell_type": "code",
   "execution_count": 2,
   "metadata": {},
   "outputs": [],
   "source": [
    "with open('input_day_07.txt', 'r') as file:\n",
    "    input_string = file.read()\n",
    "\n",
    "test_input_string = \"\"\"\n",
    "190: 10 19\n",
    "3267: 81 40 27\n",
    "83: 17 5\n",
    "156: 15 6\n",
    "7290: 6 8 6 15\n",
    "161011: 16 10 13\n",
    "192: 17 8 14\n",
    "21037: 9 7 18 13\n",
    "292: 11 6 16 20\n",
    "\"\"\".strip()"
   ]
  },
  {
   "cell_type": "code",
   "execution_count": 3,
   "metadata": {},
   "outputs": [],
   "source": [
    "rows = input_string.split(\"\\n\")\n",
    "\n",
    "input_values = [int(r.split(\":\")[0]) for r in rows]\n",
    "input_nums = [[int(x) for x in r.split(\":\")[1].split()] for r in rows]\n"
   ]
  },
  {
   "cell_type": "code",
   "execution_count": 4,
   "metadata": {},
   "outputs": [
    {
     "data": {
      "text/plain": [
       "66343330034722"
      ]
     },
     "execution_count": 4,
     "metadata": {},
     "output_type": "execute_result"
    }
   ],
   "source": [
    "tot = 0\n",
    "\n",
    "for i in range(len(input_values)):\n",
    "    val = input_values[i]\n",
    "    nums = input_nums[i]\n",
    "    possible = False\n",
    "    for perm in range(2**(len(nums) - 1)):\n",
    "        ops = str(bin(perm))[2:].rjust(len(nums) - 1, '0')\n",
    "        curr_val = nums[0]\n",
    "        for k in range(len(ops)):\n",
    "            if ops[k] == \"0\":\n",
    "                curr_val *= nums[k+1]\n",
    "            else:\n",
    "                curr_val += nums[k+1]\n",
    "        if curr_val == val:\n",
    "            possible = True\n",
    "    if possible:\n",
    "        tot += val\n",
    "        \n",
    "tot\n"
   ]
  },
  {
   "cell_type": "code",
   "execution_count": 5,
   "metadata": {},
   "outputs": [
    {
     "data": {
      "application/vnd.jupyter.widget-view+json": {
       "model_id": "10aa62ce2c0a428799feeacd941d0a12",
       "version_major": 2,
       "version_minor": 0
      },
      "text/plain": [
       "  0%|          | 0/850 [00:00<?, ?it/s]"
      ]
     },
     "metadata": {},
     "output_type": "display_data"
    },
    {
     "data": {
      "text/plain": [
       "637696070419031"
      ]
     },
     "execution_count": 5,
     "metadata": {},
     "output_type": "execute_result"
    }
   ],
   "source": [
    "tot = 0\n",
    "\n",
    "for i in tqdm(range(len(input_values))):\n",
    "    val = input_values[i]\n",
    "    nums = input_nums[i]\n",
    "    #print(val, nums)\n",
    "    possible = False\n",
    "    for perm in range(3**(len(nums) - 1)):\n",
    "        ops = \"\"\n",
    "        remainder = perm\n",
    "        while len(ops) < len(nums) - 1:\n",
    "            ops += str(remainder % 3)\n",
    "            remainder = remainder // 3\n",
    "        #print(f\"{ops=}\")\n",
    "        curr_val = nums[0]\n",
    "        for k in range(len(ops)):\n",
    "            if ops[k] == \"0\":\n",
    "                curr_val *= nums[k+1]\n",
    "            elif ops[k] == \"1\":\n",
    "                curr_val += nums[k+1]\n",
    "            elif ops[k] == \"2\":\n",
    "                curr_val = int(str(curr_val) + str(nums[k+1]))\n",
    "        if curr_val == val:\n",
    "            possible = True\n",
    "    if possible:\n",
    "        tot += val\n",
    "        \n",
    "tot\n"
   ]
  },
  {
   "cell_type": "code",
   "execution_count": null,
   "metadata": {},
   "outputs": [],
   "source": []
  }
 ],
 "metadata": {
  "kernelspec": {
   "display_name": "base_2",
   "language": "python",
   "name": "python3"
  },
  "language_info": {
   "codemirror_mode": {
    "name": "ipython",
    "version": 3
   },
   "file_extension": ".py",
   "mimetype": "text/x-python",
   "name": "python",
   "nbconvert_exporter": "python",
   "pygments_lexer": "ipython3",
   "version": "3.10.10"
  }
 },
 "nbformat": 4,
 "nbformat_minor": 2
}
