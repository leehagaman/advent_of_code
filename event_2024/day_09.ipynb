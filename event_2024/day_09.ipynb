{
 "cells": [
  {
   "cell_type": "code",
   "execution_count": 1,
   "metadata": {},
   "outputs": [],
   "source": [
    "import numpy as np\n",
    "import copy\n",
    "\n",
    "from tqdm.notebook import tqdm\n"
   ]
  },
  {
   "cell_type": "code",
   "execution_count": 2,
   "metadata": {},
   "outputs": [],
   "source": [
    "with open('input_day_09.txt', 'r') as file:\n",
    "    input_string = file.read()\n",
    "\n",
    "test_input_string = \"\"\"\n",
    "2333133121414131402\n",
    "\"\"\".strip()\n"
   ]
  },
  {
   "cell_type": "code",
   "execution_count": 3,
   "metadata": {},
   "outputs": [],
   "source": [
    "def print_files(files):\n",
    "    for f in files:\n",
    "        if f == -1:\n",
    "            print(\".\", end=\"\")\n",
    "        else:\n",
    "            print(f, end=\"\")\n",
    "    print()"
   ]
  },
  {
   "cell_type": "code",
   "execution_count": 4,
   "metadata": {},
   "outputs": [
    {
     "data": {
      "text/plain": [
       "6366665108136"
      ]
     },
     "execution_count": 4,
     "metadata": {},
     "output_type": "execute_result"
    }
   ],
   "source": [
    "length = sum(int(c) for c in input_string)\n",
    "files = [-1 for _ in range(length)]\n",
    "in_gap = False\n",
    "curr_index = 0\n",
    "curr_id = 0\n",
    "for i, c in enumerate(input_string):\n",
    "    size = int(c)\n",
    "    for s in range(size):\n",
    "        if in_gap:\n",
    "            files[curr_index] = -1\n",
    "        else:\n",
    "            files[curr_index] = curr_id\n",
    "        curr_index += 1\n",
    "    in_gap = not in_gap\n",
    "    if in_gap:\n",
    "        curr_id += 1\n",
    "\n",
    "while -1 in files:\n",
    "    first_gap = files.index(-1)\n",
    "    last_elem = files[-1]\n",
    "    files[first_gap] = last_elem\n",
    "    files.pop()\n",
    "\n",
    "tot = 0\n",
    "for i, f in enumerate(files):\n",
    "    tot += i * f\n",
    "\n",
    "tot"
   ]
  },
  {
   "cell_type": "code",
   "execution_count": 5,
   "metadata": {},
   "outputs": [
    {
     "data": {
      "application/vnd.jupyter.widget-view+json": {
       "model_id": "793f1ce73d5b44e8a987be06c63eb855",
       "version_major": 2,
       "version_minor": 0
      },
      "text/plain": [
       "  0%|          | 0/10000 [00:00<?, ?it/s]"
      ]
     },
     "metadata": {},
     "output_type": "display_data"
    },
    {
     "data": {
      "text/plain": [
       "6398065450842"
      ]
     },
     "execution_count": 5,
     "metadata": {},
     "output_type": "execute_result"
    }
   ],
   "source": [
    "length = sum(int(c) for c in input_string)\n",
    "files = [-1 for _ in range(length)]\n",
    "in_gap = False\n",
    "curr_index = 0\n",
    "curr_id = 0\n",
    "for i, c in enumerate(input_string):\n",
    "    size = int(c)\n",
    "    for s in range(size):\n",
    "        if in_gap:\n",
    "            files[curr_index] = -1\n",
    "        else:\n",
    "            files[curr_index] = curr_id\n",
    "        curr_index += 1\n",
    "    in_gap = not in_gap\n",
    "    if in_gap:\n",
    "        curr_id += 1\n",
    "\n",
    "for id in tqdm(range(curr_id)[::-1], total=curr_id):\n",
    "    start, end = files.index(id), length - files[::-1].index(id)\n",
    "    size = end - start\n",
    "\n",
    "\n",
    "    curr_gap_size = 0\n",
    "    for i, f in enumerate(files):\n",
    "        if i > end:\n",
    "            continue\n",
    "        if curr_gap_size == size:\n",
    "            target_start = i - size\n",
    "            target_end = i\n",
    "            break\n",
    "        if f != -1:\n",
    "            curr_gap_size = 0\n",
    "            continue\n",
    "        curr_gap_size += 1\n",
    "\n",
    "    if curr_gap_size == size:\n",
    "        for k, f in enumerate(files):\n",
    "            if f == id:\n",
    "                files[k] = -1\n",
    "        for j in range(target_start, target_end):\n",
    "            files[j] = id\n",
    "\n",
    "tot = 0\n",
    "for i, f in enumerate(files):\n",
    "    if f != -1:\n",
    "        tot += i * f\n",
    "\n",
    "tot"
   ]
  },
  {
   "cell_type": "code",
   "execution_count": null,
   "metadata": {},
   "outputs": [],
   "source": []
  }
 ],
 "metadata": {
  "kernelspec": {
   "display_name": "base_2",
   "language": "python",
   "name": "python3"
  },
  "language_info": {
   "codemirror_mode": {
    "name": "ipython",
    "version": 3
   },
   "file_extension": ".py",
   "mimetype": "text/x-python",
   "name": "python",
   "nbconvert_exporter": "python",
   "pygments_lexer": "ipython3",
   "version": "3.10.10"
  }
 },
 "nbformat": 4,
 "nbformat_minor": 2
}
